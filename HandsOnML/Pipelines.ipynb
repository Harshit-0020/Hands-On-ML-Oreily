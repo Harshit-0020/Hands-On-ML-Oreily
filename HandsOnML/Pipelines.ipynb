{
 "cells": [
  {
   "cell_type": "code",
   "execution_count": 535,
   "outputs": [],
   "source": [
    "import numpy as np\n",
    "import pandas as pd\n",
    "import warnings\n",
    "warnings.filterwarnings('ignore')\n",
    "from sklearn.metrics import mean_squared_error\n",
    "\n",
    "from sklearn.preprocessing import StandardScaler, PowerTransformer\n",
    "from sklearn.compose import TransformedTargetRegressor\n",
    "from sklearn.pipeline import FeatureUnion, Pipeline, make_pipeline\n",
    "from sklearn.base import BaseEstimator, TransformerMixin\n",
    "\n",
    "from sklearn.linear_model import LinearRegression"
   ],
   "metadata": {
    "collapsed": false,
    "pycharm": {
     "name": "#%%\n"
    }
   }
  },
  {
   "cell_type": "code",
   "execution_count": 536,
   "outputs": [],
   "source": [
    "df = pd.DataFrame(columns=['X1', 'X2', 'y'], data=[\n",
    "    [1,16,9],\n",
    "    [4,36,16],\n",
    "    [1,16,9],\n",
    "    [2,9,8],\n",
    "    [3,36,15],\n",
    "    [2,49,16],\n",
    "    [4,25,14],\n",
    "    [5,36,17]\n",
    "])\n",
    "\n",
    "# y = X1 + 2 * sqrt(X2)"
   ],
   "metadata": {
    "collapsed": false,
    "pycharm": {
     "name": "#%%\n"
    }
   }
  },
  {
   "cell_type": "code",
   "execution_count": 537,
   "outputs": [
    {
     "data": {
      "text/plain": "   X1  X2   y\n0   1  16   9\n1   4  36  16\n2   1  16   9\n3   2   9   8\n4   3  36  15\n5   2  49  16\n6   4  25  14\n7   5  36  17",
      "text/html": "<div>\n<style scoped>\n    .dataframe tbody tr th:only-of-type {\n        vertical-align: middle;\n    }\n\n    .dataframe tbody tr th {\n        vertical-align: top;\n    }\n\n    .dataframe thead th {\n        text-align: right;\n    }\n</style>\n<table border=\"1\" class=\"dataframe\">\n  <thead>\n    <tr style=\"text-align: right;\">\n      <th></th>\n      <th>X1</th>\n      <th>X2</th>\n      <th>y</th>\n    </tr>\n  </thead>\n  <tbody>\n    <tr>\n      <th>0</th>\n      <td>1</td>\n      <td>16</td>\n      <td>9</td>\n    </tr>\n    <tr>\n      <th>1</th>\n      <td>4</td>\n      <td>36</td>\n      <td>16</td>\n    </tr>\n    <tr>\n      <th>2</th>\n      <td>1</td>\n      <td>16</td>\n      <td>9</td>\n    </tr>\n    <tr>\n      <th>3</th>\n      <td>2</td>\n      <td>9</td>\n      <td>8</td>\n    </tr>\n    <tr>\n      <th>4</th>\n      <td>3</td>\n      <td>36</td>\n      <td>15</td>\n    </tr>\n    <tr>\n      <th>5</th>\n      <td>2</td>\n      <td>49</td>\n      <td>16</td>\n    </tr>\n    <tr>\n      <th>6</th>\n      <td>4</td>\n      <td>25</td>\n      <td>14</td>\n    </tr>\n    <tr>\n      <th>7</th>\n      <td>5</td>\n      <td>36</td>\n      <td>17</td>\n    </tr>\n  </tbody>\n</table>\n</div>"
     },
     "execution_count": 537,
     "metadata": {},
     "output_type": "execute_result"
    }
   ],
   "source": [
    "df"
   ],
   "metadata": {
    "collapsed": false,
    "pycharm": {
     "name": "#%%\n"
    }
   }
  },
  {
   "cell_type": "code",
   "execution_count": 538,
   "outputs": [
    {
     "data": {
      "text/plain": "(8, 3)"
     },
     "execution_count": 538,
     "metadata": {},
     "output_type": "execute_result"
    }
   ],
   "source": [
    "df.shape"
   ],
   "metadata": {
    "collapsed": false,
    "pycharm": {
     "name": "#%%\n"
    }
   }
  },
  {
   "cell_type": "code",
   "execution_count": 539,
   "outputs": [],
   "source": [
    "train = df.iloc[:6]\n",
    "test = df.iloc[6:]\n",
    "\n",
    "train_X = train.drop('y', axis=1)\n",
    "train_y = train.y\n",
    "\n",
    "test_X = test.drop('y', axis=1)\n",
    "test_y = test.y"
   ],
   "metadata": {
    "collapsed": false,
    "pycharm": {
     "name": "#%%\n"
    }
   }
  },
  {
   "cell_type": "code",
   "execution_count": 540,
   "outputs": [
    {
     "name": "stdout",
     "output_type": "stream",
     "text": [
      "\n",
      "[13.72113586 16.93334467]\n",
      "RMSE: 0.20274138822160603\n",
      "\n"
     ]
    }
   ],
   "source": [
    "# Checking if linear regression is able to predict it:\n",
    "lin_reg = LinearRegression()\n",
    "fit1 = lin_reg.fit(train_X, train_y)\n",
    "pred = fit1.predict(test_X)\n",
    "print(f\"\\n{pred}\")\n",
    "print(f\"RMSE: {np.sqrt(mean_squared_error(test_y, pred))}\\n\")"
   ],
   "metadata": {
    "collapsed": false,
    "pycharm": {
     "name": "#%%\n"
    }
   }
  },
  {
   "cell_type": "code",
   "execution_count": 541,
   "outputs": [
    {
     "name": "stdout",
     "output_type": "stream",
     "text": [
      "6    10.0\n",
      "7    12.0\n",
      "Name: X2, dtype: float64\n"
     ]
    }
   ],
   "source": [
    "# Converting column X2 to sqrtX2 so that model becomes linear, X1 + X2 = y\n",
    "\n",
    "train_X.X2 = np.sqrt(train_X.X2) * 2\n",
    "test_X.X2 = np.sqrt(test_X.X2) * 2\n",
    "print(test_X.X2)"
   ],
   "metadata": {
    "collapsed": false,
    "pycharm": {
     "name": "#%%\n"
    }
   }
  },
  {
   "cell_type": "code",
   "execution_count": 542,
   "outputs": [
    {
     "name": "stdout",
     "output_type": "stream",
     "text": [
      "Pred -> [14. 17.]\n",
      "----------------------------------------\n",
      "RMSE : 0.0\n"
     ]
    }
   ],
   "source": [
    "lin_reg2 = LinearRegression()\n",
    "lin_reg2 = lin_reg2.fit(train_X, train_y)\n",
    "pred = lin_reg2.predict(test_X)\n",
    "print(f\"Pred -> {pred}\")\n",
    "print('-' * 40)\n",
    "print(f\"RMSE : {np.sqrt(mean_squared_error(test_y, pred))}\")"
   ],
   "metadata": {
    "collapsed": false,
    "pycharm": {
     "name": "#%%\n"
    }
   }
  },
  {
   "cell_type": "code",
   "execution_count": 543,
   "outputs": [],
   "source": [
    "# We get much better prediction on truly linear model.\n",
    "# So just a little data transformation by replacing values with their square root we can get perfect prediction\n",
    "# Thus the idea behind data transformation and pipelines."
   ],
   "metadata": {
    "collapsed": false,
    "pycharm": {
     "name": "#%%\n"
    }
   }
  },
  {
   "cell_type": "code",
   "execution_count": 544,
   "outputs": [],
   "source": [
    "train = df.iloc[:6]\n",
    "test = df.iloc[6:]\n",
    "\n",
    "train_X = train.drop('y', axis=1)\n",
    "train_y = train.y\n",
    "\n",
    "test_X = test.drop('y', axis=1)\n",
    "test_y = test.y"
   ],
   "metadata": {
    "collapsed": false,
    "pycharm": {
     "name": "#%%\n"
    }
   }
  },
  {
   "cell_type": "code",
   "execution_count": 545,
   "outputs": [],
   "source": [
    "# Now doing the same procedure with a pipeline.\n",
    "# A pipline is just a number of steps done one after another."
   ],
   "metadata": {
    "collapsed": false,
    "pycharm": {
     "name": "#%%\n"
    }
   }
  },
  {
   "cell_type": "code",
   "execution_count": 546,
   "outputs": [
    {
     "name": "stdout",
     "output_type": "stream",
     "text": [
      "Creating a pipeline for linear regression.\n",
      "Fitting the pipeline.\n",
      "Predicting via pipeline.\n",
      "[13.72113586 16.93334467]\n",
      "----------------------------------------\n",
      "RMSE: 0.20274138822160603\n"
     ]
    }
   ],
   "source": [
    "print('Creating a pipeline for linear regression.')\n",
    "pipe1 = Pipeline(steps=[('linear_regression', LinearRegression())])\n",
    "print('Fitting the pipeline.')\n",
    "pipe1.fit(train_X, train_y)\n",
    "print('Predicting via pipeline.')\n",
    "pred = pipe1.predict(test_X)\n",
    "print(f\"{pred}\")\n",
    "print('-' * 40)\n",
    "print(f\"RMSE: {np.sqrt(mean_squared_error(test_y, pred))}\")"
   ],
   "metadata": {
    "collapsed": false,
    "pycharm": {
     "name": "#%%\n"
    }
   }
  },
  {
   "cell_type": "code",
   "execution_count": 547,
   "outputs": [],
   "source": [
    "# Now doing Data Transformation with pipelines.\n",
    "# Creating an experimental transformer.\n",
    "\n",
    "class ExperimentalTransformer(BaseEstimator, TransformerMixin):\n",
    "    def __init__(self):\n",
    "        print('__init__() called')\n",
    "\n",
    "    def fit(self, X, y=None):\n",
    "        print('fit() called.')\n",
    "        return self\n",
    "\n",
    "    def transform(self, X, y=None):\n",
    "        print('transform() called.')\n",
    "        X_ = X.copy()   # Creating a copy to avoid changes to original dataset.\n",
    "        X_.X2 = np.sqrt(X_.X2) * 2\n",
    "        return X_"
   ],
   "metadata": {
    "collapsed": false,
    "pycharm": {
     "name": "#%%\n"
    }
   }
  },
  {
   "cell_type": "code",
   "execution_count": 548,
   "outputs": [
    {
     "name": "stdout",
     "output_type": "stream",
     "text": [
      "Creating pipeline.\n",
      "__init__() called\n",
      "Fitting the pipeline.\n",
      "fit() called.\n",
      "transform() called.\n",
      "Predicting via pipeline.\n",
      "transform() called.\n",
      "[14. 17.]\n",
      "RMSE: 0.0\n"
     ]
    }
   ],
   "source": [
    "# After creating a Custom Data Transformer we create the pipeline.\n",
    "\n",
    "print('Creating pipeline.')\n",
    "pipe2 = Pipeline(steps=[('Experimental Transformer', ExperimentalTransformer()),\n",
    "                        ('Linear Regression', LinearRegression())\n",
    "                        ])\n",
    "print('Fitting the pipeline.')\n",
    "pipe2.fit(train_X, train_y)\n",
    "print('Predicting via pipeline.')\n",
    "pred = pipe2.predict(test_X)\n",
    "print(f\"{pred}\")\n",
    "print(f\"RMSE: {np.sqrt(mean_squared_error(test_y, pred))}\")"
   ],
   "metadata": {
    "collapsed": false,
    "pycharm": {
     "name": "#%%\n"
    }
   }
  },
  {
   "cell_type": "code",
   "execution_count": 549,
   "outputs": [],
   "source": [
    "# Creating an experimental transformer without hardcoding X2.\n",
    "\n",
    "class ExperimentalTransformer(BaseEstimator, TransformerMixin):\n",
    "    def __init__(self, feature_name):\n",
    "        print('__init__() called')\n",
    "        self.feature_name = feature_name\n",
    "\n",
    "    def fit(self, X, y=None):\n",
    "        print('fit() called.')\n",
    "        return self\n",
    "\n",
    "    def transform(self, X, y=None):\n",
    "        print('transform() called.')\n",
    "        X_ = X.copy()   # Creating a copy to avoid changes to original dataset.\n",
    "        X_[self.feature_name] = np.sqrt(X_[self.feature_name]) * 2\n",
    "        return X_"
   ],
   "metadata": {
    "collapsed": false,
    "pycharm": {
     "name": "#%%\n"
    }
   }
  },
  {
   "cell_type": "code",
   "execution_count": 550,
   "outputs": [
    {
     "name": "stdout",
     "output_type": "stream",
     "text": [
      "Creating pipeline.\n",
      "__init__() called\n",
      "Fitting the pipeline.\n",
      "fit() called.\n",
      "transform() called.\n",
      "Predicting via pipeline.\n",
      "transform() called.\n",
      "[14. 17.]\n",
      "RMSE: 0.0\n"
     ]
    }
   ],
   "source": [
    "# After creating a Custom Data Transformer we create the pipeline.\n",
    "\n",
    "print('Creating pipeline.')\n",
    "pipe2 = Pipeline(steps=[('Experimental Transformer', ExperimentalTransformer(feature_name='X2')),\n",
    "                        ('Linear Regression', LinearRegression())\n",
    "                        ])\n",
    "print('Fitting the pipeline.')\n",
    "pipe2.fit(train_X, train_y)\n",
    "print('Predicting via pipeline.')\n",
    "pred = pipe2.predict(test_X)\n",
    "print(f\"{pred}\")\n",
    "print(f\"RMSE: {np.sqrt(mean_squared_error(test_y, pred))}\")"
   ],
   "metadata": {
    "collapsed": false,
    "pycharm": {
     "name": "#%%\n"
    }
   }
  },
  {
   "cell_type": "code",
   "execution_count": 551,
   "outputs": [],
   "source": [
    "# Let's modify the target feature to square of current values.\n",
    "\n",
    "df = pd.DataFrame(columns=['X1', 'X2', 'y'], data=[\n",
    "    [1,16,81],\n",
    "    [4,36,256],\n",
    "    [1,16,81],\n",
    "    [2,9,64],\n",
    "    [3,36,225],\n",
    "    [2,49,256],\n",
    "    [4,25,196],\n",
    "    [5,36,289]\n",
    "])\n",
    "\n",
    "# sqrt(y) = X1 + 2*sqrt(X2)"
   ],
   "metadata": {
    "collapsed": false,
    "pycharm": {
     "name": "#%%\n"
    }
   }
  },
  {
   "cell_type": "code",
   "execution_count": 552,
   "outputs": [],
   "source": [
    "train = df.iloc[:6]\n",
    "test = df.iloc[6:]\n",
    "\n",
    "train_X = train.drop(columns='y', axis=1)\n",
    "train_y = train.y\n",
    "\n",
    "test_X = test.drop(columns='y', axis=1)\n",
    "test_y = test.y"
   ],
   "metadata": {
    "collapsed": false,
    "pycharm": {
     "name": "#%%\n"
    }
   }
  },
  {
   "cell_type": "code",
   "execution_count": 553,
   "outputs": [
    {
     "name": "stdout",
     "output_type": "stream",
     "text": [
      "Creating a pipeline.\n",
      "Fitting the values.\n",
      "Predicting the values.\n",
      "Pred : [200.34790002 279.04738423]\n",
      "RMSE : 7.679804528409077\n"
     ]
    }
   ],
   "source": [
    "# Creating a pipeline and checking its performance:\n",
    "\n",
    "print('Creating a pipeline.')\n",
    "pipe3 = Pipeline(steps=[('linear regression', LinearRegression())])\n",
    "print('Fitting the values.')\n",
    "pipe3.fit(train_X, train_y)\n",
    "print('Predicting the values.')\n",
    "pred = pipe3.predict(test_X)\n",
    "print(f\"Pred : {pred}\")\n",
    "print(f'RMSE : {np.sqrt(mean_squared_error(test_y, pred))}')"
   ],
   "metadata": {
    "collapsed": false,
    "pycharm": {
     "name": "#%%\n"
    }
   }
  },
  {
   "cell_type": "code",
   "execution_count": 554,
   "outputs": [],
   "source": [
    "# Failed with a large margin, because it's not a linear model."
   ],
   "metadata": {
    "collapsed": false,
    "pycharm": {
     "name": "#%%\n"
    }
   }
  },
  {
   "cell_type": "code",
   "execution_count": 555,
   "outputs": [
    {
     "name": "stdout",
     "output_type": "stream",
     "text": [
      "Creating pipeline.\n",
      "__init__() called\n",
      "Fitting the pipeline.\n",
      "fit() called.\n",
      "transform() called.\n",
      "Predicting via pipeline.\n",
      "transform() called.\n",
      "[207.42690058 280.94152047]\n",
      "RMSE: 9.887192456534303\n"
     ]
    }
   ],
   "source": [
    "# After using previous Custom Data Transformer we create the pipeline.\n",
    "\n",
    "print('Creating pipeline.')\n",
    "pipe2 = Pipeline(steps=[('Experimental Transformer', ExperimentalTransformer(feature_name='X2')),\n",
    "                        ('Linear Regression', LinearRegression())\n",
    "                        ])\n",
    "print('Fitting the pipeline.')\n",
    "pipe2.fit(train_X, train_y)\n",
    "print('Predicting via pipeline.')\n",
    "pred = pipe2.predict(test_X)\n",
    "print(f\"{pred}\")\n",
    "print(f\"RMSE: {np.sqrt(mean_squared_error(test_y, pred))}\")"
   ],
   "metadata": {
    "collapsed": false,
    "pycharm": {
     "name": "#%%\n"
    }
   }
  },
  {
   "cell_type": "code",
   "execution_count": 556,
   "outputs": [],
   "source": [
    "# Failed by a large margin even after transform."
   ],
   "metadata": {
    "collapsed": false,
    "pycharm": {
     "name": "#%%\n"
    }
   }
  },
  {
   "cell_type": "code",
   "execution_count": 557,
   "outputs": [],
   "source": [
    "# So what we'll do here is transform the target and replace it with sqrt(y).\n",
    "# Two ways to do it in scikit learn -> i) using functions ii) using transformer of ur own."
   ],
   "metadata": {
    "collapsed": false,
    "pycharm": {
     "name": "#%%\n"
    }
   }
  },
  {
   "cell_type": "code",
   "execution_count": 558,
   "outputs": [
    {
     "data": {
      "text/plain": "' Doing by functions:\\n1st function is to transform the y to sqrt of y.( This creates a linear model)\\n\\nSecond is to convert the predicted value to square again.\\n( This will now result in squared predictions which is our desired o/p)\\n'"
     },
     "execution_count": 558,
     "metadata": {},
     "output_type": "execute_result"
    }
   ],
   "source": [
    "''' Doing by functions:\n",
    "1st function is to transform the y to sqrt of y.( This creates a linear model)\n",
    "\n",
    "Second is to convert the predicted value to square again.\n",
    "( This will now result in squared predictions which is our desired o/p)\n",
    "'''"
   ],
   "metadata": {
    "collapsed": false,
    "pycharm": {
     "name": "#%%\n"
    }
   }
  },
  {
   "cell_type": "code",
   "execution_count": 559,
   "outputs": [],
   "source": [
    "# Basically what we are saying is that let the model predict y and we'll do y^2 on our own later"
   ],
   "metadata": {
    "collapsed": false,
    "pycharm": {
     "name": "#%%\n"
    }
   }
  },
  {
   "cell_type": "code",
   "execution_count": 560,
   "outputs": [],
   "source": [
    "def target_transform(target):\n",
    "    \"\"\"Converts y to square root of y for a linear model\"\"\"\n",
    "    print(\"target_transform() called.\")\n",
    "    target_ = target.copy()\n",
    "    target_ = np.sqrt(target_)\n",
    "    return target_\n",
    "\n",
    "def inverse_target_transform(target):\n",
    "    print('inverse_target_transform() called.')\n",
    "    target_ = target.copy()\n",
    "    target_ = target_ ** 2\n",
    "    return target_"
   ],
   "metadata": {
    "collapsed": false,
    "pycharm": {
     "name": "#%%\n"
    }
   }
  },
  {
   "cell_type": "code",
   "execution_count": 561,
   "outputs": [
    {
     "name": "stdout",
     "output_type": "stream",
     "text": [
      "__init__() called\n",
      "Fitting the pipe3 model\n",
      "target_transform() called.\n",
      "__init__() called\n",
      "fit() called.\n",
      "transform() called.\n",
      "Predicting the values and applying inverse func(square in this case)\n",
      "transform() called.\n",
      "inverse_target_transform() called.\n",
      "predictions: [196. 289.]\n",
      "RMSE: 0.0\n"
     ]
    }
   ],
   "source": [
    "# You need not change anything for the pipeline of input features.\n",
    "\n",
    "pipe3 = Pipeline(steps=[('ExperimentalTransformer', ExperimentalTransformer(feature_name='X2')),\n",
    "                        ('LinearRegression', LinearRegression())\n",
    "                        ])\n",
    "\n",
    "# Create a target transformer.\n",
    "model = TransformedTargetRegressor(regressor=pipe3,\n",
    "                                   func=target_transform,\n",
    "                                   inverse_func=inverse_target_transform,\n",
    "                                   check_inverse=False)\n",
    "\n",
    "print('Fitting the pipe3 model')\n",
    "model.fit(train_X, train_y)\n",
    "print('Predicting the values and applying inverse func(square in this case)')\n",
    "pred = model.predict(test_X)\n",
    "print(f\"predictions: {pred}\")\n",
    "print(f\"RMSE: {np.sqrt(mean_squared_error(test_y, pred))}\")"
   ],
   "metadata": {
    "collapsed": false,
    "pycharm": {
     "name": "#%%\n"
    }
   }
  },
  {
   "cell_type": "code",
   "execution_count": 562,
   "outputs": [],
   "source": [
    "# Now transforming the target using custom target transformer."
   ],
   "metadata": {
    "collapsed": false,
    "pycharm": {
     "name": "#%%\n"
    }
   }
  },
  {
   "cell_type": "code",
   "execution_count": 563,
   "outputs": [],
   "source": [
    "class CustomTargetTransformer(BaseEstimator, TransformerMixin):\n",
    "    def __init__(self):\n",
    "        print(\"__init__ called.\")\n",
    "    def fit(self,target):\n",
    "        print('Fit called.')\n",
    "        return self\n",
    "\n",
    "    def target_transformer(self, target):\n",
    "        print('target_transformer() called')\n",
    "        target_ = target.copy()\n",
    "        target_ = np.sqrt(target_)\n",
    "        return target_\n",
    "\n",
    "    def inverse_transform(self, predictions):\n",
    "        print('inverse_transform() called.')\n",
    "        pred_ = predictions.copy()\n",
    "        pred_ = pred_ ** 2\n",
    "        return pred_\n"
   ],
   "metadata": {
    "collapsed": false,
    "pycharm": {
     "name": "#%%\n"
    }
   }
  },
  {
   "cell_type": "code",
   "execution_count": 563,
   "outputs": [],
   "source": [],
   "metadata": {
    "collapsed": false,
    "pycharm": {
     "name": "#%%\n"
    }
   }
  },
  {
   "cell_type": "code",
   "execution_count": 563,
   "outputs": [],
   "source": [],
   "metadata": {
    "collapsed": false,
    "pycharm": {
     "name": "#%%\n"
    }
   }
  },
  {
   "cell_type": "code",
   "execution_count": 564,
   "outputs": [],
   "source": [
    "import numpy as np"
   ],
   "metadata": {
    "collapsed": false,
    "pycharm": {
     "name": "#%%\n"
    }
   }
  },
  {
   "cell_type": "code",
   "execution_count": 565,
   "outputs": [],
   "source": [
    "X = 2 * np.random.rand(100, 1)\n",
    "y = 4 + 3 * X + np.random.rand(100,1)"
   ],
   "metadata": {
    "collapsed": false,
    "pycharm": {
     "name": "#%%\n"
    }
   }
  },
  {
   "cell_type": "code",
   "execution_count": 566,
   "outputs": [],
   "source": [
    "import seaborn as sns"
   ],
   "metadata": {
    "collapsed": false,
    "pycharm": {
     "name": "#%%\n"
    }
   }
  },
  {
   "cell_type": "code",
   "execution_count": 567,
   "outputs": [],
   "source": [
    "import pandas as pd"
   ],
   "metadata": {
    "collapsed": false,
    "pycharm": {
     "name": "#%%\n"
    }
   }
  },
  {
   "cell_type": "code",
   "execution_count": 568,
   "outputs": [
    {
     "data": {
      "text/plain": "           X          y\n0   1.491070   9.067549\n1   0.717530   6.603210\n2   1.724031   9.665483\n3   0.321546   5.866574\n4   0.000066   4.511075\n..       ...        ...\n95  1.790563  10.122389\n96  1.148399   7.463948\n97  0.099590   4.350839\n98  1.010632   7.143066\n99  0.598309   6.598186\n\n[100 rows x 2 columns]",
      "text/html": "<div>\n<style scoped>\n    .dataframe tbody tr th:only-of-type {\n        vertical-align: middle;\n    }\n\n    .dataframe tbody tr th {\n        vertical-align: top;\n    }\n\n    .dataframe thead th {\n        text-align: right;\n    }\n</style>\n<table border=\"1\" class=\"dataframe\">\n  <thead>\n    <tr style=\"text-align: right;\">\n      <th></th>\n      <th>X</th>\n      <th>y</th>\n    </tr>\n  </thead>\n  <tbody>\n    <tr>\n      <th>0</th>\n      <td>1.491070</td>\n      <td>9.067549</td>\n    </tr>\n    <tr>\n      <th>1</th>\n      <td>0.717530</td>\n      <td>6.603210</td>\n    </tr>\n    <tr>\n      <th>2</th>\n      <td>1.724031</td>\n      <td>9.665483</td>\n    </tr>\n    <tr>\n      <th>3</th>\n      <td>0.321546</td>\n      <td>5.866574</td>\n    </tr>\n    <tr>\n      <th>4</th>\n      <td>0.000066</td>\n      <td>4.511075</td>\n    </tr>\n    <tr>\n      <th>...</th>\n      <td>...</td>\n      <td>...</td>\n    </tr>\n    <tr>\n      <th>95</th>\n      <td>1.790563</td>\n      <td>10.122389</td>\n    </tr>\n    <tr>\n      <th>96</th>\n      <td>1.148399</td>\n      <td>7.463948</td>\n    </tr>\n    <tr>\n      <th>97</th>\n      <td>0.099590</td>\n      <td>4.350839</td>\n    </tr>\n    <tr>\n      <th>98</th>\n      <td>1.010632</td>\n      <td>7.143066</td>\n    </tr>\n    <tr>\n      <th>99</th>\n      <td>0.598309</td>\n      <td>6.598186</td>\n    </tr>\n  </tbody>\n</table>\n<p>100 rows × 2 columns</p>\n</div>"
     },
     "execution_count": 568,
     "metadata": {},
     "output_type": "execute_result"
    }
   ],
   "source": [
    "df = pd.DataFrame(columns=['X', 'y'], data=np.concatenate((X, y), axis=1))\n",
    "df"
   ],
   "metadata": {
    "collapsed": false,
    "pycharm": {
     "name": "#%%\n"
    }
   }
  },
  {
   "cell_type": "code",
   "execution_count": 569,
   "outputs": [],
   "source": [
    "import matplotlib.pyplot as plt"
   ],
   "metadata": {
    "collapsed": false,
    "pycharm": {
     "name": "#%%\n"
    }
   }
  },
  {
   "cell_type": "code",
   "execution_count": 570,
   "outputs": [
    {
     "data": {
      "text/plain": "<Figure size 864x576 with 1 Axes>",
      "image/png": "[encoded data removed]"
     },
     "metadata": {
      "needs_background": "light"
     },
     "output_type": "display_data"
    }
   ],
   "source": [
    "sns.scatterplot(data=df, x='X', y='y')\n",
    "plt.gcf().set_size_inches((12,8))\n",
    "plt.ylim((0,14))\n",
    "plt.show()"
   ],
   "metadata": {
    "collapsed": false,
    "pycharm": {
     "name": "#%%\n"
    }
   }
  },
  {
   "cell_type": "code",
   "execution_count": 571,
   "outputs": [],
   "source": [
    "df['bias'] = 1.0"
   ],
   "metadata": {
    "collapsed": false,
    "pycharm": {
     "name": "#%%\n"
    }
   }
  },
  {
   "cell_type": "code",
   "execution_count": 572,
   "outputs": [
    {
     "data": {
      "text/plain": "          X         y  bias\n0  1.491070  9.067549   1.0\n1  0.717530  6.603210   1.0\n2  1.724031  9.665483   1.0\n3  0.321546  5.866574   1.0\n4  0.000066  4.511075   1.0",
      "text/html": "<div>\n<style scoped>\n    .dataframe tbody tr th:only-of-type {\n        vertical-align: middle;\n    }\n\n    .dataframe tbody tr th {\n        vertical-align: top;\n    }\n\n    .dataframe thead th {\n        text-align: right;\n    }\n</style>\n<table border=\"1\" class=\"dataframe\">\n  <thead>\n    <tr style=\"text-align: right;\">\n      <th></th>\n      <th>X</th>\n      <th>y</th>\n      <th>bias</th>\n    </tr>\n  </thead>\n  <tbody>\n    <tr>\n      <th>0</th>\n      <td>1.491070</td>\n      <td>9.067549</td>\n      <td>1.0</td>\n    </tr>\n    <tr>\n      <th>1</th>\n      <td>0.717530</td>\n      <td>6.603210</td>\n      <td>1.0</td>\n    </tr>\n    <tr>\n      <th>2</th>\n      <td>1.724031</td>\n      <td>9.665483</td>\n      <td>1.0</td>\n    </tr>\n    <tr>\n      <th>3</th>\n      <td>0.321546</td>\n      <td>5.866574</td>\n      <td>1.0</td>\n    </tr>\n    <tr>\n      <th>4</th>\n      <td>0.000066</td>\n      <td>4.511075</td>\n      <td>1.0</td>\n    </tr>\n  </tbody>\n</table>\n</div>"
     },
     "execution_count": 572,
     "metadata": {},
     "output_type": "execute_result"
    }
   ],
   "source": [
    "df.head()"
   ],
   "metadata": {
    "collapsed": false,
    "pycharm": {
     "name": "#%%\n"
    }
   }
  },
  {
   "cell_type": "code",
   "execution_count": 573,
   "outputs": [],
   "source": [
    "features = df.drop('y', axis=1)"
   ],
   "metadata": {
    "collapsed": false,
    "pycharm": {
     "name": "#%%\n"
    }
   }
  },
  {
   "cell_type": "code",
   "execution_count": 574,
   "outputs": [
    {
     "data": {
      "text/plain": "           X  bias\n0   1.491070   1.0\n1   0.717530   1.0\n2   1.724031   1.0\n3   0.321546   1.0\n4   0.000066   1.0\n..       ...   ...\n95  1.790563   1.0\n96  1.148399   1.0\n97  0.099590   1.0\n98  1.010632   1.0\n99  0.598309   1.0\n\n[100 rows x 2 columns]",
      "text/html": "<div>\n<style scoped>\n    .dataframe tbody tr th:only-of-type {\n        vertical-align: middle;\n    }\n\n    .dataframe tbody tr th {\n        vertical-align: top;\n    }\n\n    .dataframe thead th {\n        text-align: right;\n    }\n</style>\n<table border=\"1\" class=\"dataframe\">\n  <thead>\n    <tr style=\"text-align: right;\">\n      <th></th>\n      <th>X</th>\n      <th>bias</th>\n    </tr>\n  </thead>\n  <tbody>\n    <tr>\n      <th>0</th>\n      <td>1.491070</td>\n      <td>1.0</td>\n    </tr>\n    <tr>\n      <th>1</th>\n      <td>0.717530</td>\n      <td>1.0</td>\n    </tr>\n    <tr>\n      <th>2</th>\n      <td>1.724031</td>\n      <td>1.0</td>\n    </tr>\n    <tr>\n      <th>3</th>\n      <td>0.321546</td>\n      <td>1.0</td>\n    </tr>\n    <tr>\n      <th>4</th>\n      <td>0.000066</td>\n      <td>1.0</td>\n    </tr>\n    <tr>\n      <th>...</th>\n      <td>...</td>\n      <td>...</td>\n    </tr>\n    <tr>\n      <th>95</th>\n      <td>1.790563</td>\n      <td>1.0</td>\n    </tr>\n    <tr>\n      <th>96</th>\n      <td>1.148399</td>\n      <td>1.0</td>\n    </tr>\n    <tr>\n      <th>97</th>\n      <td>0.099590</td>\n      <td>1.0</td>\n    </tr>\n    <tr>\n      <th>98</th>\n      <td>1.010632</td>\n      <td>1.0</td>\n    </tr>\n    <tr>\n      <th>99</th>\n      <td>0.598309</td>\n      <td>1.0</td>\n    </tr>\n  </tbody>\n</table>\n<p>100 rows × 2 columns</p>\n</div>"
     },
     "execution_count": 574,
     "metadata": {},
     "output_type": "execute_result"
    }
   ],
   "source": [
    "features"
   ],
   "metadata": {
    "collapsed": false,
    "pycharm": {
     "name": "#%%\n"
    }
   }
  },
  {
   "cell_type": "code",
   "execution_count": 575,
   "outputs": [],
   "source": [
    "features = df[['bias', 'X']]"
   ],
   "metadata": {
    "collapsed": false,
    "pycharm": {
     "name": "#%%\n"
    }
   }
  },
  {
   "cell_type": "code",
   "execution_count": 576,
   "outputs": [
    {
     "data": {
      "text/plain": "    bias         X\n0    1.0  1.491070\n1    1.0  0.717530\n2    1.0  1.724031\n3    1.0  0.321546\n4    1.0  0.000066\n..   ...       ...\n95   1.0  1.790563\n96   1.0  1.148399\n97   1.0  0.099590\n98   1.0  1.010632\n99   1.0  0.598309\n\n[100 rows x 2 columns]",
      "text/html": "<div>\n<style scoped>\n    .dataframe tbody tr th:only-of-type {\n        vertical-align: middle;\n    }\n\n    .dataframe tbody tr th {\n        vertical-align: top;\n    }\n\n    .dataframe thead th {\n        text-align: right;\n    }\n</style>\n<table border=\"1\" class=\"dataframe\">\n  <thead>\n    <tr style=\"text-align: right;\">\n      <th></th>\n      <th>bias</th>\n      <th>X</th>\n    </tr>\n  </thead>\n  <tbody>\n    <tr>\n      <th>0</th>\n      <td>1.0</td>\n      <td>1.491070</td>\n    </tr>\n    <tr>\n      <th>1</th>\n      <td>1.0</td>\n      <td>0.717530</td>\n    </tr>\n    <tr>\n      <th>2</th>\n      <td>1.0</td>\n      <td>1.724031</td>\n    </tr>\n    <tr>\n      <th>3</th>\n      <td>1.0</td>\n      <td>0.321546</td>\n    </tr>\n    <tr>\n      <th>4</th>\n      <td>1.0</td>\n      <td>0.000066</td>\n    </tr>\n    <tr>\n      <th>...</th>\n      <td>...</td>\n      <td>...</td>\n    </tr>\n    <tr>\n      <th>95</th>\n      <td>1.0</td>\n      <td>1.790563</td>\n    </tr>\n    <tr>\n      <th>96</th>\n      <td>1.0</td>\n      <td>1.148399</td>\n    </tr>\n    <tr>\n      <th>97</th>\n      <td>1.0</td>\n      <td>0.099590</td>\n    </tr>\n    <tr>\n      <th>98</th>\n      <td>1.0</td>\n      <td>1.010632</td>\n    </tr>\n    <tr>\n      <th>99</th>\n      <td>1.0</td>\n      <td>0.598309</td>\n    </tr>\n  </tbody>\n</table>\n<p>100 rows × 2 columns</p>\n</div>"
     },
     "execution_count": 576,
     "metadata": {},
     "output_type": "execute_result"
    }
   ],
   "source": [
    "features"
   ],
   "metadata": {
    "collapsed": false,
    "pycharm": {
     "name": "#%%\n"
    }
   }
  },
  {
   "cell_type": "code",
   "execution_count": 577,
   "outputs": [],
   "source": [
    "X_bias = features.to_numpy()"
   ],
   "metadata": {
    "collapsed": false,
    "pycharm": {
     "name": "#%%\n"
    }
   }
  },
  {
   "cell_type": "code",
   "execution_count": 578,
   "outputs": [],
   "source": [
    "theta_best = np.linalg.inv(X_bias.T.dot(X_bias)).dot(X_bias.T).dot(df['y'].to_numpy())"
   ],
   "metadata": {
    "collapsed": false,
    "pycharm": {
     "name": "#%%\n"
    }
   }
  },
  {
   "cell_type": "code",
   "execution_count": 579,
   "outputs": [
    {
     "data": {
      "text/plain": "array([4.45336971, 3.0031873 ])"
     },
     "execution_count": 579,
     "metadata": {},
     "output_type": "execute_result"
    }
   ],
   "source": [
    "theta_best"
   ],
   "metadata": {
    "collapsed": false,
    "pycharm": {
     "name": "#%%\n"
    }
   }
  },
  {
   "cell_type": "code",
   "execution_count": 580,
   "outputs": [],
   "source": [
    "y_predict = X_bias.dot(theta_best)"
   ],
   "metadata": {
    "collapsed": false,
    "pycharm": {
     "name": "#%%\n"
    }
   }
  },
  {
   "cell_type": "code",
   "execution_count": 581,
   "outputs": [
    {
     "data": {
      "text/plain": "array([ 8.93133167,  6.60824532,  9.63095743,  5.4190314 ,  4.45356723,\n        5.05446245, 10.39985938,  6.23720984,  7.31123519,  7.68272867,\n        9.43489052, 10.07710148,  9.35996856,  9.06430933,  4.65784351,\n        5.55499908,  6.45934047,  4.5424814 ,  8.22065299,  9.88979749,\n       10.43436929,  7.68572065,  7.3007216 ,  6.31100632,  5.88508209,\n        8.38956896,  6.4638982 ,  4.66627296,  8.62262532,  8.57918264,\n        7.35499498,  4.69730749,  9.67546932,  9.25111256, 10.41427476,\n        8.4999062 ,  5.72769922,  4.82393981, 10.34767251,  7.31210696,\n        8.38863131,  9.98008369, 10.25132121, 10.19824791,  4.98215903,\n        7.71607502,  8.87333829,  6.22909064,  8.84109953,  9.64812901,\n        7.51846695,  8.05060961,  7.67603749,  9.87222606,  8.08274792,\n        8.15981987,  7.99517516, 10.1493955 ,  7.51426771,  5.1294004 ,\n        5.26772435,  5.91213116,  5.91407368,  5.29025105,  7.23688959,\n        4.79442086,  6.09919807,  9.87448351,  5.52302363,  5.11596713,\n        7.50419054,  8.49147164,  8.38841172, 10.25392689,  7.30290724,\n        5.17719821,  7.27533374,  6.17410749,  9.43729157,  5.02286862,\n        4.50876851,  7.31361296,  4.95373124,  7.30075748, 10.31619909,\n        7.44730229,  7.78808315,  9.00093674,  6.87690729,  5.79547106,\n        7.48318633,  5.25643236,  9.04869786,  6.67808862, 10.22123992,\n        9.83076624,  7.90222713,  4.75245828,  7.48848558,  6.25020399])"
     },
     "execution_count": 581,
     "metadata": {},
     "output_type": "execute_result"
    }
   ],
   "source": [
    "y_predict"
   ],
   "metadata": {
    "collapsed": false,
    "pycharm": {
     "name": "#%%\n"
    }
   }
  },
  {
   "cell_type": "code",
   "execution_count": 582,
   "outputs": [
    {
     "data": {
      "text/plain": "           X          y  bias\n0   1.491070   9.067549   1.0\n1   0.717530   6.603210   1.0\n2   1.724031   9.665483   1.0\n3   0.321546   5.866574   1.0\n4   0.000066   4.511075   1.0\n..       ...        ...   ...\n95  1.790563  10.122389   1.0\n96  1.148399   7.463948   1.0\n97  0.099590   4.350839   1.0\n98  1.010632   7.143066   1.0\n99  0.598309   6.598186   1.0\n\n[100 rows x 3 columns]",
      "text/html": "<div>\n<style scoped>\n    .dataframe tbody tr th:only-of-type {\n        vertical-align: middle;\n    }\n\n    .dataframe tbody tr th {\n        vertical-align: top;\n    }\n\n    .dataframe thead th {\n        text-align: right;\n    }\n</style>\n<table border=\"1\" class=\"dataframe\">\n  <thead>\n    <tr style=\"text-align: right;\">\n      <th></th>\n      <th>X</th>\n      <th>y</th>\n      <th>bias</th>\n    </tr>\n  </thead>\n  <tbody>\n    <tr>\n      <th>0</th>\n      <td>1.491070</td>\n      <td>9.067549</td>\n      <td>1.0</td>\n    </tr>\n    <tr>\n      <th>1</th>\n      <td>0.717530</td>\n      <td>6.603210</td>\n      <td>1.0</td>\n    </tr>\n    <tr>\n      <th>2</th>\n      <td>1.724031</td>\n      <td>9.665483</td>\n      <td>1.0</td>\n    </tr>\n    <tr>\n      <th>3</th>\n      <td>0.321546</td>\n      <td>5.866574</td>\n      <td>1.0</td>\n    </tr>\n    <tr>\n      <th>4</th>\n      <td>0.000066</td>\n      <td>4.511075</td>\n      <td>1.0</td>\n    </tr>\n    <tr>\n      <th>...</th>\n      <td>...</td>\n      <td>...</td>\n      <td>...</td>\n    </tr>\n    <tr>\n      <th>95</th>\n      <td>1.790563</td>\n      <td>10.122389</td>\n      <td>1.0</td>\n    </tr>\n    <tr>\n      <th>96</th>\n      <td>1.148399</td>\n      <td>7.463948</td>\n      <td>1.0</td>\n    </tr>\n    <tr>\n      <th>97</th>\n      <td>0.099590</td>\n      <td>4.350839</td>\n      <td>1.0</td>\n    </tr>\n    <tr>\n      <th>98</th>\n      <td>1.010632</td>\n      <td>7.143066</td>\n      <td>1.0</td>\n    </tr>\n    <tr>\n      <th>99</th>\n      <td>0.598309</td>\n      <td>6.598186</td>\n      <td>1.0</td>\n    </tr>\n  </tbody>\n</table>\n<p>100 rows × 3 columns</p>\n</div>"
     },
     "execution_count": 582,
     "metadata": {},
     "output_type": "execute_result"
    }
   ],
   "source": [
    "df"
   ],
   "metadata": {
    "collapsed": false,
    "pycharm": {
     "name": "#%%\n"
    }
   }
  },
  {
   "cell_type": "code",
   "execution_count": 583,
   "outputs": [
    {
     "data": {
      "text/plain": "           X          y\n0   1.491070   9.067549\n1   0.717530   6.603210\n2   1.724031   9.665483\n3   0.321546   5.866574\n4   0.000066   4.511075\n..       ...        ...\n95  1.790563  10.122389\n96  1.148399   7.463948\n97  0.099590   4.350839\n98  1.010632   7.143066\n99  0.598309   6.598186\n\n[100 rows x 2 columns]",
      "text/html": "<div>\n<style scoped>\n    .dataframe tbody tr th:only-of-type {\n        vertical-align: middle;\n    }\n\n    .dataframe tbody tr th {\n        vertical-align: top;\n    }\n\n    .dataframe thead th {\n        text-align: right;\n    }\n</style>\n<table border=\"1\" class=\"dataframe\">\n  <thead>\n    <tr style=\"text-align: right;\">\n      <th></th>\n      <th>X</th>\n      <th>y</th>\n    </tr>\n  </thead>\n  <tbody>\n    <tr>\n      <th>0</th>\n      <td>1.491070</td>\n      <td>9.067549</td>\n    </tr>\n    <tr>\n      <th>1</th>\n      <td>0.717530</td>\n      <td>6.603210</td>\n    </tr>\n    <tr>\n      <th>2</th>\n      <td>1.724031</td>\n      <td>9.665483</td>\n    </tr>\n    <tr>\n      <th>3</th>\n      <td>0.321546</td>\n      <td>5.866574</td>\n    </tr>\n    <tr>\n      <th>4</th>\n      <td>0.000066</td>\n      <td>4.511075</td>\n    </tr>\n    <tr>\n      <th>...</th>\n      <td>...</td>\n      <td>...</td>\n    </tr>\n    <tr>\n      <th>95</th>\n      <td>1.790563</td>\n      <td>10.122389</td>\n    </tr>\n    <tr>\n      <th>96</th>\n      <td>1.148399</td>\n      <td>7.463948</td>\n    </tr>\n    <tr>\n      <th>97</th>\n      <td>0.099590</td>\n      <td>4.350839</td>\n    </tr>\n    <tr>\n      <th>98</th>\n      <td>1.010632</td>\n      <td>7.143066</td>\n    </tr>\n    <tr>\n      <th>99</th>\n      <td>0.598309</td>\n      <td>6.598186</td>\n    </tr>\n  </tbody>\n</table>\n<p>100 rows × 2 columns</p>\n</div>"
     },
     "execution_count": 583,
     "metadata": {},
     "output_type": "execute_result"
    }
   ],
   "source": [
    "df.drop('bias', axis=1)"
   ],
   "metadata": {
    "collapsed": false,
    "pycharm": {
     "name": "#%%\n"
    }
   }
  },
  {
   "cell_type": "code",
   "execution_count": 584,
   "outputs": [],
   "source": [
    "df['y_pred'] = y_predict"
   ],
   "metadata": {
    "collapsed": false,
    "pycharm": {
     "name": "#%%\n"
    }
   }
  },
  {
   "cell_type": "code",
   "execution_count": 585,
   "outputs": [
    {
     "data": {
      "text/plain": "<Figure size 1800x1080 with 1 Axes>",
      "image/png": "[encoded data removed]"
     },
     "metadata": {
      "needs_background": "light"
     },
     "output_type": "display_data"
    }
   ],
   "source": [
    "\n",
    "sns.scatterplot(data=df, x='X', y='y')\n",
    "sns.lineplot(color='yellow',data=df, x='X', y='y_pred')\n",
    "plt.gcf().set_size_inches((25,15))\n",
    "plt.ylim((0,14))\n",
    "plt.show()"
   ],
   "metadata": {
    "collapsed": false,
    "pycharm": {
     "name": "#%%\n"
    }
   }
  },
  {
   "cell_type": "code",
   "execution_count": 586,
   "outputs": [],
   "source": [
    "# Doing the same using linear regression"
   ],
   "metadata": {
    "collapsed": false,
    "pycharm": {
     "name": "#%%\n"
    }
   }
  },
  {
   "cell_type": "code",
   "execution_count": 587,
   "outputs": [],
   "source": [
    "from sklearn.linear_model import LinearRegression\n",
    "li_reg = LinearRegression()"
   ],
   "metadata": {
    "collapsed": false,
    "pycharm": {
     "name": "#%%\n"
    }
   }
  },
  {
   "cell_type": "code",
   "execution_count": 587,
   "outputs": [],
   "source": [],
   "metadata": {
    "collapsed": false,
    "pycharm": {
     "name": "#%%\n"
    }
   }
  },
  {
   "cell_type": "code",
   "execution_count": 588,
   "outputs": [],
   "source": [
    "X = 2 * np.random.rand(100, 1)\n",
    "y = 4 + 3 * X + np.random.rand(100,1)"
   ],
   "metadata": {
    "collapsed": false,
    "pycharm": {
     "name": "#%%\n"
    }
   }
  },
  {
   "cell_type": "code",
   "execution_count": 589,
   "outputs": [
    {
     "data": {
      "text/plain": "LinearRegression()",
      "text/html": "<style>#sk-container-id-5 {color: black;background-color: white;}#sk-container-id-5 pre{padding: 0;}#sk-container-id-5 div.sk-toggleable {background-color: white;}#sk-container-id-5 label.sk-toggleable__label {cursor: pointer;display: block;width: 100%;margin-bottom: 0;padding: 0.3em;box-sizing: border-box;text-align: center;}#sk-container-id-5 label.sk-toggleable__label-arrow:before {content: \"▸\";float: left;margin-right: 0.25em;color: #696969;}#sk-container-id-5 label.sk-toggleable__label-arrow:hover:before {color: black;}#sk-container-id-5 div.sk-estimator:hover label.sk-toggleable__label-arrow:before {color: black;}#sk-container-id-5 div.sk-toggleable__content {max-height: 0;max-width: 0;overflow: hidden;text-align: left;background-color: #f0f8ff;}#sk-container-id-5 div.sk-toggleable__content pre {margin: 0.2em;color: black;border-radius: 0.25em;background-color: #f0f8ff;}#sk-container-id-5 input.sk-toggleable__control:checked~div.sk-toggleable__content {max-height: 200px;max-width: 100%;overflow: auto;}#sk-container-id-5 input.sk-toggleable__control:checked~label.sk-toggleable__label-arrow:before {content: \"▾\";}#sk-container-id-5 div.sk-estimator input.sk-toggleable__control:checked~label.sk-toggleable__label {background-color: #d4ebff;}#sk-container-id-5 div.sk-label input.sk-toggleable__control:checked~label.sk-toggleable__label {background-color: #d4ebff;}#sk-container-id-5 input.sk-hidden--visually {border: 0;clip: rect(1px 1px 1px 1px);clip: rect(1px, 1px, 1px, 1px);height: 1px;margin: -1px;overflow: hidden;padding: 0;position: absolute;width: 1px;}#sk-container-id-5 div.sk-estimator {font-family: monospace;background-color: #f0f8ff;border: 1px dotted black;border-radius: 0.25em;box-sizing: border-box;margin-bottom: 0.5em;}#sk-container-id-5 div.sk-estimator:hover {background-color: #d4ebff;}#sk-container-id-5 div.sk-parallel-item::after {content: \"\";width: 100%;border-bottom: 1px solid gray;flex-grow: 1;}#sk-container-id-5 div.sk-label:hover label.sk-toggleable__label {background-color: #d4ebff;}#sk-container-id-5 div.sk-serial::before {content: \"\";position: absolute;border-left: 1px solid gray;box-sizing: border-box;top: 0;bottom: 0;left: 50%;z-index: 0;}#sk-container-id-5 div.sk-serial {display: flex;flex-direction: column;align-items: center;background-color: white;padding-right: 0.2em;padding-left: 0.2em;position: relative;}#sk-container-id-5 div.sk-item {position: relative;z-index: 1;}#sk-container-id-5 div.sk-parallel {display: flex;align-items: stretch;justify-content: center;background-color: white;position: relative;}#sk-container-id-5 div.sk-item::before, #sk-container-id-5 div.sk-parallel-item::before {content: \"\";position: absolute;border-left: 1px solid gray;box-sizing: border-box;top: 0;bottom: 0;left: 50%;z-index: -1;}#sk-container-id-5 div.sk-parallel-item {display: flex;flex-direction: column;z-index: 1;position: relative;background-color: white;}#sk-container-id-5 div.sk-parallel-item:first-child::after {align-self: flex-end;width: 50%;}#sk-container-id-5 div.sk-parallel-item:last-child::after {align-self: flex-start;width: 50%;}#sk-container-id-5 div.sk-parallel-item:only-child::after {width: 0;}#sk-container-id-5 div.sk-dashed-wrapped {border: 1px dashed gray;margin: 0 0.4em 0.5em 0.4em;box-sizing: border-box;padding-bottom: 0.4em;background-color: white;}#sk-container-id-5 div.sk-label label {font-family: monospace;font-weight: bold;display: inline-block;line-height: 1.2em;}#sk-container-id-5 div.sk-label-container {text-align: center;}#sk-container-id-5 div.sk-container {/* jupyter's `normalize.less` sets `[hidden] { display: none; }` but bootstrap.min.css set `[hidden] { display: none !important; }` so we also need the `!important` here to be able to override the default hidden behavior on the sphinx rendered scikit-learn.org. See: https://github.com/scikit-learn/scikit-learn/issues/21755 */display: inline-block !important;position: relative;}#sk-container-id-5 div.sk-text-repr-fallback {display: none;}</style><div id=\"sk-container-id-5\" class=\"sk-top-container\"><div class=\"sk-text-repr-fallback\"><pre>LinearRegression()</pre><b>In a Jupyter environment, please rerun this cell to show the HTML representation or trust the notebook. <br />On GitHub, the HTML representation is unable to render, please try loading this page with nbviewer.org.</b></div><div class=\"sk-container\" hidden><div class=\"sk-item\"><div class=\"sk-estimator sk-toggleable\"><input class=\"sk-toggleable__control sk-hidden--visually\" id=\"sk-estimator-id-5\" type=\"checkbox\" checked><label for=\"sk-estimator-id-5\" class=\"sk-toggleable__label sk-toggleable__label-arrow\">LinearRegression</label><div class=\"sk-toggleable__content\"><pre>LinearRegression()</pre></div></div></div></div></div>"
     },
     "execution_count": 589,
     "metadata": {},
     "output_type": "execute_result"
    }
   ],
   "source": [
    "li_reg.fit(X,y)"
   ],
   "metadata": {
    "collapsed": false,
    "pycharm": {
     "name": "#%%\n"
    }
   }
  },
  {
   "cell_type": "code",
   "execution_count": 590,
   "outputs": [
    {
     "data": {
      "text/plain": "(array([4.51335808]), array([[2.97941083]]))"
     },
     "execution_count": 590,
     "metadata": {},
     "output_type": "execute_result"
    }
   ],
   "source": [
    "li_reg.intercept_, li_reg.coef_"
   ],
   "metadata": {
    "collapsed": false,
    "pycharm": {
     "name": "#%%\n"
    }
   }
  },
  {
   "cell_type": "code",
   "execution_count": 591,
   "outputs": [],
   "source": [
    "predictions = li_reg.predict(X)"
   ],
   "metadata": {
    "collapsed": false,
    "pycharm": {
     "name": "#%%\n"
    }
   }
  },
  {
   "cell_type": "code",
   "execution_count": 592,
   "outputs": [],
   "source": [
    "df_2 = pd.DataFrame(data=np.concatenate((X, y), axis=1),columns=['X', 'y'])\n",
    "df_2['predictions_linear_regression'] = predictions"
   ],
   "metadata": {
    "collapsed": false,
    "pycharm": {
     "name": "#%%\n"
    }
   }
  },
  {
   "cell_type": "code",
   "execution_count": 593,
   "outputs": [
    {
     "data": {
      "text/plain": "<Figure size 1800x1080 with 1 Axes>",
      "image/png": "[encoded data removed]"
     },
     "metadata": {
      "needs_background": "light"
     },
     "output_type": "display_data"
    }
   ],
   "source": [
    "sns.scatterplot(data=df_2, x='X', y='y')\n",
    "sns.lineplot(data=df_2, x='X', y='predictions_linear_regression', color='yellow')\n",
    "plt.gcf().set_size_inches((25,15))\n",
    "plt.ylim((0,14))\n",
    "plt.show()"
   ],
   "metadata": {
    "collapsed": false,
    "pycharm": {
     "name": "#%%\n"
    }
   }
  },
  {
   "cell_type": "code",
   "execution_count": 594,
   "outputs": [
    {
     "data": {
      "text/plain": "           X          y  predictions_linear_regression\n0   1.109827   7.766896                       7.819987\n1   1.997863  10.888784                      10.465813\n2   1.829251   9.626329                       9.963448\n3   1.445786   8.577801                       8.820948\n4   0.968945   7.654644                       7.400244\n..       ...        ...                            ...\n95  0.090227   5.063365                       4.782182\n96  0.325151   5.124702                       5.482117\n97  0.015531   4.964401                       4.559630\n98  0.883240   7.420168                       7.144891\n99  0.239239   5.070604                       5.226149\n\n[100 rows x 3 columns]",
      "text/html": "<div>\n<style scoped>\n    .dataframe tbody tr th:only-of-type {\n        vertical-align: middle;\n    }\n\n    .dataframe tbody tr th {\n        vertical-align: top;\n    }\n\n    .dataframe thead th {\n        text-align: right;\n    }\n</style>\n<table border=\"1\" class=\"dataframe\">\n  <thead>\n    <tr style=\"text-align: right;\">\n      <th></th>\n      <th>X</th>\n      <th>y</th>\n      <th>predictions_linear_regression</th>\n    </tr>\n  </thead>\n  <tbody>\n    <tr>\n      <th>0</th>\n      <td>1.109827</td>\n      <td>7.766896</td>\n      <td>7.819987</td>\n    </tr>\n    <tr>\n      <th>1</th>\n      <td>1.997863</td>\n      <td>10.888784</td>\n      <td>10.465813</td>\n    </tr>\n    <tr>\n      <th>2</th>\n      <td>1.829251</td>\n      <td>9.626329</td>\n      <td>9.963448</td>\n    </tr>\n    <tr>\n      <th>3</th>\n      <td>1.445786</td>\n      <td>8.577801</td>\n      <td>8.820948</td>\n    </tr>\n    <tr>\n      <th>4</th>\n      <td>0.968945</td>\n      <td>7.654644</td>\n      <td>7.400244</td>\n    </tr>\n    <tr>\n      <th>...</th>\n      <td>...</td>\n      <td>...</td>\n      <td>...</td>\n    </tr>\n    <tr>\n      <th>95</th>\n      <td>0.090227</td>\n      <td>5.063365</td>\n      <td>4.782182</td>\n    </tr>\n    <tr>\n      <th>96</th>\n      <td>0.325151</td>\n      <td>5.124702</td>\n      <td>5.482117</td>\n    </tr>\n    <tr>\n      <th>97</th>\n      <td>0.015531</td>\n      <td>4.964401</td>\n      <td>4.559630</td>\n    </tr>\n    <tr>\n      <th>98</th>\n      <td>0.883240</td>\n      <td>7.420168</td>\n      <td>7.144891</td>\n    </tr>\n    <tr>\n      <th>99</th>\n      <td>0.239239</td>\n      <td>5.070604</td>\n      <td>5.226149</td>\n    </tr>\n  </tbody>\n</table>\n<p>100 rows × 3 columns</p>\n</div>"
     },
     "execution_count": 594,
     "metadata": {},
     "output_type": "execute_result"
    }
   ],
   "source": [
    "df_2"
   ],
   "metadata": {
    "collapsed": false,
    "pycharm": {
     "name": "#%%\n"
    }
   }
  },
  {
   "cell_type": "code",
   "execution_count": 595,
   "outputs": [],
   "source": [
    "df_2['bias'] = 1"
   ],
   "metadata": {
    "collapsed": false,
    "pycharm": {
     "name": "#%%\n"
    }
   }
  },
  {
   "cell_type": "code",
   "execution_count": 596,
   "outputs": [
    {
     "data": {
      "text/plain": "           X          y  predictions_linear_regression  bias\n0   1.109827   7.766896                       7.819987     1\n1   1.997863  10.888784                      10.465813     1\n2   1.829251   9.626329                       9.963448     1\n3   1.445786   8.577801                       8.820948     1\n4   0.968945   7.654644                       7.400244     1\n..       ...        ...                            ...   ...\n95  0.090227   5.063365                       4.782182     1\n96  0.325151   5.124702                       5.482117     1\n97  0.015531   4.964401                       4.559630     1\n98  0.883240   7.420168                       7.144891     1\n99  0.239239   5.070604                       5.226149     1\n\n[100 rows x 4 columns]",
      "text/html": "<div>\n<style scoped>\n    .dataframe tbody tr th:only-of-type {\n        vertical-align: middle;\n    }\n\n    .dataframe tbody tr th {\n        vertical-align: top;\n    }\n\n    .dataframe thead th {\n        text-align: right;\n    }\n</style>\n<table border=\"1\" class=\"dataframe\">\n  <thead>\n    <tr style=\"text-align: right;\">\n      <th></th>\n      <th>X</th>\n      <th>y</th>\n      <th>predictions_linear_regression</th>\n      <th>bias</th>\n    </tr>\n  </thead>\n  <tbody>\n    <tr>\n      <th>0</th>\n      <td>1.109827</td>\n      <td>7.766896</td>\n      <td>7.819987</td>\n      <td>1</td>\n    </tr>\n    <tr>\n      <th>1</th>\n      <td>1.997863</td>\n      <td>10.888784</td>\n      <td>10.465813</td>\n      <td>1</td>\n    </tr>\n    <tr>\n      <th>2</th>\n      <td>1.829251</td>\n      <td>9.626329</td>\n      <td>9.963448</td>\n      <td>1</td>\n    </tr>\n    <tr>\n      <th>3</th>\n      <td>1.445786</td>\n      <td>8.577801</td>\n      <td>8.820948</td>\n      <td>1</td>\n    </tr>\n    <tr>\n      <th>4</th>\n      <td>0.968945</td>\n      <td>7.654644</td>\n      <td>7.400244</td>\n      <td>1</td>\n    </tr>\n    <tr>\n      <th>...</th>\n      <td>...</td>\n      <td>...</td>\n      <td>...</td>\n      <td>...</td>\n    </tr>\n    <tr>\n      <th>95</th>\n      <td>0.090227</td>\n      <td>5.063365</td>\n      <td>4.782182</td>\n      <td>1</td>\n    </tr>\n    <tr>\n      <th>96</th>\n      <td>0.325151</td>\n      <td>5.124702</td>\n      <td>5.482117</td>\n      <td>1</td>\n    </tr>\n    <tr>\n      <th>97</th>\n      <td>0.015531</td>\n      <td>4.964401</td>\n      <td>4.559630</td>\n      <td>1</td>\n    </tr>\n    <tr>\n      <th>98</th>\n      <td>0.883240</td>\n      <td>7.420168</td>\n      <td>7.144891</td>\n      <td>1</td>\n    </tr>\n    <tr>\n      <th>99</th>\n      <td>0.239239</td>\n      <td>5.070604</td>\n      <td>5.226149</td>\n      <td>1</td>\n    </tr>\n  </tbody>\n</table>\n<p>100 rows × 4 columns</p>\n</div>"
     },
     "execution_count": 596,
     "metadata": {},
     "output_type": "execute_result"
    }
   ],
   "source": [
    "df_2"
   ],
   "metadata": {
    "collapsed": false,
    "pycharm": {
     "name": "#%%\n"
    }
   }
  },
  {
   "cell_type": "code",
   "execution_count": 600,
   "outputs": [],
   "source": [
    "X_bias = df_2[['bias', 'X']].to_numpy()"
   ],
   "metadata": {
    "collapsed": false,
    "pycharm": {
     "name": "#%%\n"
    }
   }
  },
  {
   "cell_type": "code",
   "execution_count": 601,
   "outputs": [
    {
     "data": {
      "text/plain": "array([[1.        , 1.10982657],\n       [1.        , 1.9978631 ],\n       [1.        , 1.82925077],\n       [1.        , 1.44578582],\n       [1.        , 0.96894507],\n       [1.        , 1.09966554],\n       [1.        , 0.80560431],\n       [1.        , 1.96681015],\n       [1.        , 0.0831347 ],\n       [1.        , 1.60067245],\n       [1.        , 1.4062031 ],\n       [1.        , 1.68536093],\n       [1.        , 1.62335179],\n       [1.        , 0.16933957],\n       [1.        , 1.91366047],\n       [1.        , 0.47094904],\n       [1.        , 0.00228524],\n       [1.        , 1.35628314],\n       [1.        , 1.33604459],\n       [1.        , 0.2151715 ],\n       [1.        , 0.00225119],\n       [1.        , 0.50136918],\n       [1.        , 1.98883737],\n       [1.        , 0.41702544],\n       [1.        , 0.3721743 ],\n       [1.        , 1.88850281],\n       [1.        , 1.88844044],\n       [1.        , 0.2346754 ],\n       [1.        , 0.81038118],\n       [1.        , 1.49195462],\n       [1.        , 1.02881292],\n       [1.        , 1.56329201],\n       [1.        , 1.44947112],\n       [1.        , 0.44898417],\n       [1.        , 1.7939226 ],\n       [1.        , 0.46178364],\n       [1.        , 1.13150769],\n       [1.        , 1.38796514],\n       [1.        , 0.75716613],\n       [1.        , 1.65344676],\n       [1.        , 0.97721123],\n       [1.        , 1.38164576],\n       [1.        , 1.1790856 ],\n       [1.        , 0.53581418],\n       [1.        , 1.11958867],\n       [1.        , 1.99535409],\n       [1.        , 1.53060134],\n       [1.        , 1.08900867],\n       [1.        , 0.90786791],\n       [1.        , 1.03804992],\n       [1.        , 0.44473654],\n       [1.        , 0.80323351],\n       [1.        , 1.11049099],\n       [1.        , 0.34435594],\n       [1.        , 1.06470811],\n       [1.        , 0.74157026],\n       [1.        , 0.38029933],\n       [1.        , 0.09798324],\n       [1.        , 1.14851806],\n       [1.        , 0.61257522],\n       [1.        , 1.0782772 ],\n       [1.        , 1.63831308],\n       [1.        , 1.43826582],\n       [1.        , 0.07624716],\n       [1.        , 1.1766815 ],\n       [1.        , 1.74163889],\n       [1.        , 0.38610197],\n       [1.        , 0.25477917],\n       [1.        , 1.8656371 ],\n       [1.        , 0.02423663],\n       [1.        , 1.30689424],\n       [1.        , 1.12941056],\n       [1.        , 0.07671463],\n       [1.        , 0.72920501],\n       [1.        , 1.72436582],\n       [1.        , 1.08699354],\n       [1.        , 1.23770903],\n       [1.        , 0.63322001],\n       [1.        , 0.24449063],\n       [1.        , 1.24225227],\n       [1.        , 0.8040639 ],\n       [1.        , 1.91959167],\n       [1.        , 1.29067995],\n       [1.        , 1.75432003],\n       [1.        , 0.37512604],\n       [1.        , 0.46568751],\n       [1.        , 0.13883675],\n       [1.        , 1.09806897],\n       [1.        , 1.57201763],\n       [1.        , 0.1058539 ],\n       [1.        , 0.72489003],\n       [1.        , 0.97724181],\n       [1.        , 0.9975486 ],\n       [1.        , 0.46503781],\n       [1.        , 0.25458982],\n       [1.        , 0.09022726],\n       [1.        , 0.3251512 ],\n       [1.        , 0.0155306 ],\n       [1.        , 0.88323953],\n       [1.        , 0.2392388 ]])"
     },
     "execution_count": 601,
     "metadata": {},
     "output_type": "execute_result"
    }
   ],
   "source": [
    "X_bias"
   ],
   "metadata": {
    "collapsed": false,
    "pycharm": {
     "name": "#%%\n"
    }
   }
  },
  {
   "cell_type": "code",
   "execution_count": 602,
   "outputs": [],
   "source": [
    "y = df_2['y']"
   ],
   "metadata": {
    "collapsed": false,
    "pycharm": {
     "name": "#%%\n"
    }
   }
  },
  {
   "cell_type": "code",
   "execution_count": 604,
   "outputs": [
    {
     "data": {
      "text/plain": "0      7.766896\n1     10.888784\n2      9.626329\n3      8.577801\n4      7.654644\n        ...    \n95     5.063365\n96     5.124702\n97     4.964401\n98     7.420168\n99     5.070604\nName: y, Length: 100, dtype: float64"
     },
     "execution_count": 604,
     "metadata": {},
     "output_type": "execute_result"
    }
   ],
   "source": [
    "y"
   ],
   "metadata": {
    "collapsed": false,
    "pycharm": {
     "name": "#%%\n"
    }
   }
  },
  {
   "cell_type": "code",
   "execution_count": 605,
   "outputs": [],
   "source": [
    "theta_best = np.linalg.inv(X_bias.T.dot(X_bias)).dot(X_bias.T).dot(y)"
   ],
   "metadata": {
    "collapsed": false,
    "pycharm": {
     "name": "#%%\n"
    }
   }
  },
  {
   "cell_type": "code",
   "execution_count": 606,
   "outputs": [],
   "source": [
    "predictions_normal_eq = X_bias.dot(theta_best)"
   ],
   "metadata": {
    "collapsed": false,
    "pycharm": {
     "name": "#%%\n"
    }
   }
  },
  {
   "cell_type": "code",
   "execution_count": 607,
   "outputs": [],
   "source": [
    "df_2['predictions_normal_eq'] = predictions_normal_eq"
   ],
   "metadata": {
    "collapsed": false,
    "pycharm": {
     "name": "#%%\n"
    }
   }
  },
  {
   "cell_type": "code",
   "execution_count": 608,
   "outputs": [
    {
     "data": {
      "text/plain": "           X          y  predictions_linear_regression  bias  \\\n0   1.109827   7.766896                       7.819987     1   \n1   1.997863  10.888784                      10.465813     1   \n2   1.829251   9.626329                       9.963448     1   \n3   1.445786   8.577801                       8.820948     1   \n4   0.968945   7.654644                       7.400244     1   \n..       ...        ...                            ...   ...   \n95  0.090227   5.063365                       4.782182     1   \n96  0.325151   5.124702                       5.482117     1   \n97  0.015531   4.964401                       4.559630     1   \n98  0.883240   7.420168                       7.144891     1   \n99  0.239239   5.070604                       5.226149     1   \n\n    predictions_normal_eq  \n0                7.819987  \n1               10.465813  \n2                9.963448  \n3                8.820948  \n4                7.400244  \n..                    ...  \n95               4.782182  \n96               5.482117  \n97               4.559630  \n98               7.144891  \n99               5.226149  \n\n[100 rows x 5 columns]",
      "text/html": "<div>\n<style scoped>\n    .dataframe tbody tr th:only-of-type {\n        vertical-align: middle;\n    }\n\n    .dataframe tbody tr th {\n        vertical-align: top;\n    }\n\n    .dataframe thead th {\n        text-align: right;\n    }\n</style>\n<table border=\"1\" class=\"dataframe\">\n  <thead>\n    <tr style=\"text-align: right;\">\n      <th></th>\n      <th>X</th>\n      <th>y</th>\n      <th>predictions_linear_regression</th>\n      <th>bias</th>\n      <th>predictions_normal_eq</th>\n    </tr>\n  </thead>\n  <tbody>\n    <tr>\n      <th>0</th>\n      <td>1.109827</td>\n      <td>7.766896</td>\n      <td>7.819987</td>\n      <td>1</td>\n      <td>7.819987</td>\n    </tr>\n    <tr>\n      <th>1</th>\n      <td>1.997863</td>\n      <td>10.888784</td>\n      <td>10.465813</td>\n      <td>1</td>\n      <td>10.465813</td>\n    </tr>\n    <tr>\n      <th>2</th>\n      <td>1.829251</td>\n      <td>9.626329</td>\n      <td>9.963448</td>\n      <td>1</td>\n      <td>9.963448</td>\n    </tr>\n    <tr>\n      <th>3</th>\n      <td>1.445786</td>\n      <td>8.577801</td>\n      <td>8.820948</td>\n      <td>1</td>\n      <td>8.820948</td>\n    </tr>\n    <tr>\n      <th>4</th>\n      <td>0.968945</td>\n      <td>7.654644</td>\n      <td>7.400244</td>\n      <td>1</td>\n      <td>7.400244</td>\n    </tr>\n    <tr>\n      <th>...</th>\n      <td>...</td>\n      <td>...</td>\n      <td>...</td>\n      <td>...</td>\n      <td>...</td>\n    </tr>\n    <tr>\n      <th>95</th>\n      <td>0.090227</td>\n      <td>5.063365</td>\n      <td>4.782182</td>\n      <td>1</td>\n      <td>4.782182</td>\n    </tr>\n    <tr>\n      <th>96</th>\n      <td>0.325151</td>\n      <td>5.124702</td>\n      <td>5.482117</td>\n      <td>1</td>\n      <td>5.482117</td>\n    </tr>\n    <tr>\n      <th>97</th>\n      <td>0.015531</td>\n      <td>4.964401</td>\n      <td>4.559630</td>\n      <td>1</td>\n      <td>4.559630</td>\n    </tr>\n    <tr>\n      <th>98</th>\n      <td>0.883240</td>\n      <td>7.420168</td>\n      <td>7.144891</td>\n      <td>1</td>\n      <td>7.144891</td>\n    </tr>\n    <tr>\n      <th>99</th>\n      <td>0.239239</td>\n      <td>5.070604</td>\n      <td>5.226149</td>\n      <td>1</td>\n      <td>5.226149</td>\n    </tr>\n  </tbody>\n</table>\n<p>100 rows × 5 columns</p>\n</div>"
     },
     "execution_count": 608,
     "metadata": {},
     "output_type": "execute_result"
    }
   ],
   "source": [
    "df_2"
   ],
   "metadata": {
    "collapsed": false,
    "pycharm": {
     "name": "#%%\n"
    }
   }
  },
  {
   "cell_type": "code",
   "execution_count": 609,
   "outputs": [
    {
     "data": {
      "text/plain": "0      True\n1     False\n2     False\n3      True\n4     False\n      ...  \n95    False\n96    False\n97    False\n98    False\n99    False\nLength: 100, dtype: bool"
     },
     "execution_count": 609,
     "metadata": {},
     "output_type": "execute_result"
    }
   ],
   "source": [
    "df_2['predictions_linear_regression'] == df_2['predictions_normal_eq']"
   ],
   "metadata": {
    "collapsed": false,
    "pycharm": {
     "name": "#%%\n"
    }
   }
  },
  {
   "cell_type": "code",
   "execution_count": null,
   "outputs": [],
   "source": [
    "# This implies that BEST PARAMETERS of OPTIMIZATION ALGORITHM AND NORMAL EQUATION CAN BE DIFFERENT."
   ],
   "metadata": {
    "collapsed": false,
    "pycharm": {
     "name": "#%%\n"
    }
   }
  }
 ],
 "metadata": {
  "kernelspec": {
   "display_name": "Python 3",
   "language": "python",
   "name": "python3"
  },
  "language_info": {
   "codemirror_mode": {
    "name": "ipython",
    "version": 2
   },
   "file_extension": ".py",
   "mimetype": "text/x-python",
   "name": "python",
   "nbconvert_exporter": "python",
   "pygments_lexer": "ipython2",
   "version": "2.7.6"
  }
 },
 "nbformat": 4,
 "nbformat_minor": 0
}