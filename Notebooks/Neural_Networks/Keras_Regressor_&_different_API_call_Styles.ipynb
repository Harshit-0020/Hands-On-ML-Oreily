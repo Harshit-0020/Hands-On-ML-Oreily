{
 "cells": [
  {
   "cell_type": "code",
   "execution_count": 108,
   "id": "6001c76e-19bd-4438-8cb2-b14fe7b1692e",
   "metadata": {
    "execution": {
     "iopub.execute_input": "2024-01-14T18:34:09.613854Z",
     "iopub.status.busy": "2024-01-14T18:34:09.613241Z",
     "iopub.status.idle": "2024-01-14T18:34:09.619479Z",
     "shell.execute_reply": "2024-01-14T18:34:09.618816Z",
     "shell.execute_reply.started": "2024-01-14T18:34:09.613795Z"
    }
   },
   "outputs": [],
   "source": [
    "import keras\n",
    "import numpy as np\n",
    "from keras.layers import Dense\n",
    "from keras.models import Sequential\n",
    "from scikeras.wrappers import KerasRegressor\n",
    "from sklearn.datasets import fetch_california_housing\n",
    "from sklearn.model_selection import train_test_split\n",
    "from sklearn.preprocessing import StandardScaler"
   ]
  },
  {
   "cell_type": "code",
   "execution_count": 3,
   "id": "2ed0d21f-ed4a-4ddf-a5f2-8e7f2ae19654",
   "metadata": {
    "execution": {
     "iopub.execute_input": "2024-01-14T17:17:20.172294Z",
     "iopub.status.busy": "2024-01-14T17:17:20.172054Z",
     "iopub.status.idle": "2024-01-14T17:17:24.031628Z",
     "shell.execute_reply": "2024-01-14T17:17:24.031131Z",
     "shell.execute_reply.started": "2024-01-14T17:17:20.172270Z"
    }
   },
   "outputs": [],
   "source": [
    "housing = fetch_california_housing()\n",
    "X_train_full, X_test, y_train_full, y_test = train_test_split(\n",
    "    housing.data, housing.target\n",
    ")\n",
    "X_train, X_valid, y_train, y_valid = train_test_split(X_train_full, y_train_full)"
   ]
  },
  {
   "cell_type": "code",
   "execution_count": 5,
   "id": "9f493921-0396-4b45-a584-69c55296f2e4",
   "metadata": {
    "execution": {
     "iopub.execute_input": "2024-01-14T17:17:30.803387Z",
     "iopub.status.busy": "2024-01-14T17:17:30.803149Z",
     "iopub.status.idle": "2024-01-14T17:17:30.808179Z",
     "shell.execute_reply": "2024-01-14T17:17:30.807398Z",
     "shell.execute_reply.started": "2024-01-14T17:17:30.803364Z"
    }
   },
   "outputs": [
    {
     "data": {
      "text/plain": [
       "dict_keys(['data', 'target', 'frame', 'target_names', 'feature_names', 'DESCR'])"
      ]
     },
     "execution_count": 5,
     "metadata": {},
     "output_type": "execute_result"
    }
   ],
   "source": [
    "housing.keys()"
   ]
  },
  {
   "cell_type": "code",
   "execution_count": 7,
   "id": "9c1780e8-14d5-4ffe-87e6-07dcaae902a2",
   "metadata": {
    "execution": {
     "iopub.execute_input": "2024-01-14T17:18:02.297109Z",
     "iopub.status.busy": "2024-01-14T17:18:02.296506Z",
     "iopub.status.idle": "2024-01-14T17:18:02.302767Z",
     "shell.execute_reply": "2024-01-14T17:18:02.302207Z",
     "shell.execute_reply.started": "2024-01-14T17:18:02.297045Z"
    },
    "scrolled": true
   },
   "outputs": [
    {
     "name": "stdout",
     "output_type": "stream",
     "text": [
      ".. _california_housing_dataset:\n",
      "\n",
      "California Housing dataset\n",
      "--------------------------\n",
      "\n",
      "**Data Set Characteristics:**\n",
      "\n",
      "    :Number of Instances: 20640\n",
      "\n",
      "    :Number of Attributes: 8 numeric, predictive attributes and the target\n",
      "\n",
      "    :Attribute Information:\n",
      "        - MedInc        median income in block group\n",
      "        - HouseAge      median house age in block group\n",
      "        - AveRooms      average number of rooms per household\n",
      "        - AveBedrms     average number of bedrooms per household\n",
      "        - Population    block group population\n",
      "        - AveOccup      average number of household members\n",
      "        - Latitude      block group latitude\n",
      "        - Longitude     block group longitude\n",
      "\n",
      "    :Missing Attribute Values: None\n",
      "\n",
      "This dataset was obtained from the StatLib repository.\n",
      "https://www.dcc.fc.up.pt/~ltorgo/Regression/cal_housing.html\n",
      "\n",
      "The target variable is the median house value for California districts,\n",
      "expressed in hundreds of thousands of dollars ($100,000).\n",
      "\n",
      "This dataset was derived from the 1990 U.S. census, using one row per census\n",
      "block group. A block group is the smallest geographical unit for which the U.S.\n",
      "Census Bureau publishes sample data (a block group typically has a population\n",
      "of 600 to 3,000 people).\n",
      "\n",
      "A household is a group of people residing within a home. Since the average\n",
      "number of rooms and bedrooms in this dataset are provided per household, these\n",
      "columns may take surprisingly large values for block groups with few households\n",
      "and many empty houses, such as vacation resorts.\n",
      "\n",
      "It can be downloaded/loaded using the\n",
      ":func:`sklearn.datasets.fetch_california_housing` function.\n",
      "\n",
      ".. topic:: References\n",
      "\n",
      "    - Pace, R. Kelley and Ronald Barry, Sparse Spatial Autoregressions,\n",
      "      Statistics and Probability Letters, 33 (1997) 291-297\n",
      "\n"
     ]
    }
   ],
   "source": [
    "print(housing[\"DESCR\"])"
   ]
  },
  {
   "cell_type": "code",
   "execution_count": 9,
   "id": "9c023a63-92a5-4d0b-999c-6c4e4802628c",
   "metadata": {
    "execution": {
     "iopub.execute_input": "2024-01-14T17:20:21.903375Z",
     "iopub.status.busy": "2024-01-14T17:20:21.902743Z",
     "iopub.status.idle": "2024-01-14T17:20:21.919954Z",
     "shell.execute_reply": "2024-01-14T17:20:21.918674Z",
     "shell.execute_reply.started": "2024-01-14T17:20:21.903312Z"
    }
   },
   "outputs": [],
   "source": [
    "scaler = StandardScaler()\n",
    "X_train = scaler.fit_transform(X_train)\n",
    "X_valid = scaler.transform(X_valid)\n",
    "X_test = scaler.transform(X_test)"
   ]
  },
  {
   "cell_type": "markdown",
   "id": "7edcf7c4-17f2-476f-9dcc-1d0ed970511c",
   "metadata": {},
   "source": [
    "## Creating a sequential model"
   ]
  },
  {
   "cell_type": "code",
   "execution_count": 29,
   "id": "e179f619-3451-4833-b60b-41e051c2a6f4",
   "metadata": {
    "execution": {
     "iopub.execute_input": "2024-01-14T17:28:27.879765Z",
     "iopub.status.busy": "2024-01-14T17:28:27.879463Z",
     "iopub.status.idle": "2024-01-14T17:28:27.923318Z",
     "shell.execute_reply": "2024-01-14T17:28:27.922422Z",
     "shell.execute_reply.started": "2024-01-14T17:28:27.879730Z"
    }
   },
   "outputs": [],
   "source": [
    "model = Sequential(name=\"Price_Predictor_Mark_I\")\n",
    "model.add(Dense(30, activation=\"relu\", input_shape=X_train.shape[1:]))\n",
    "model.add(Dense(1))"
   ]
  },
  {
   "cell_type": "code",
   "execution_count": 30,
   "id": "9c9929c6-3c6c-48c8-8394-7cfd033d1448",
   "metadata": {
    "execution": {
     "iopub.execute_input": "2024-01-14T17:28:28.468870Z",
     "iopub.status.busy": "2024-01-14T17:28:28.468663Z",
     "iopub.status.idle": "2024-01-14T17:28:28.477117Z",
     "shell.execute_reply": "2024-01-14T17:28:28.476639Z",
     "shell.execute_reply.started": "2024-01-14T17:28:28.468851Z"
    }
   },
   "outputs": [
    {
     "name": "stdout",
     "output_type": "stream",
     "text": [
      "Model: \"Price_Predictor_Mark_I\"\n",
      "_________________________________________________________________\n",
      " Layer (type)                Output Shape              Param #   \n",
      "=================================================================\n",
      " dense_3 (Dense)             (None, 30)                270       \n",
      "                                                                 \n",
      " dense_4 (Dense)             (None, 1)                 31        \n",
      "                                                                 \n",
      "=================================================================\n",
      "Total params: 301 (1.18 KB)\n",
      "Trainable params: 301 (1.18 KB)\n",
      "Non-trainable params: 0 (0.00 Byte)\n",
      "_________________________________________________________________\n"
     ]
    }
   ],
   "source": [
    "model.summary()"
   ]
  },
  {
   "cell_type": "code",
   "execution_count": 31,
   "id": "5d1fab2c-ec0c-42c4-a959-c18f67ae2a55",
   "metadata": {
    "execution": {
     "iopub.execute_input": "2024-01-14T17:28:29.107414Z",
     "iopub.status.busy": "2024-01-14T17:28:29.107179Z",
     "iopub.status.idle": "2024-01-14T17:28:29.116632Z",
     "shell.execute_reply": "2024-01-14T17:28:29.115964Z",
     "shell.execute_reply.started": "2024-01-14T17:28:29.107393Z"
    }
   },
   "outputs": [],
   "source": [
    "model.compile(\n",
    "    loss=\"mean_squared_error\",\n",
    "    optimizer=\"sgd\",\n",
    ")"
   ]
  },
  {
   "cell_type": "code",
   "execution_count": 32,
   "id": "8f640e72-886a-4241-abb1-36a7338b869e",
   "metadata": {
    "execution": {
     "iopub.execute_input": "2024-01-14T17:28:30.362389Z",
     "iopub.status.busy": "2024-01-14T17:28:30.362125Z",
     "iopub.status.idle": "2024-01-14T17:28:47.661326Z",
     "shell.execute_reply": "2024-01-14T17:28:47.660786Z",
     "shell.execute_reply.started": "2024-01-14T17:28:30.362348Z"
    },
    "scrolled": true
   },
   "outputs": [
    {
     "name": "stdout",
     "output_type": "stream",
     "text": [
      "Epoch 1/20\n",
      "363/363 [==============================] - 1s 3ms/step - loss: 0.7748 - val_loss: 100709.4062\n",
      "Epoch 2/20\n",
      "363/363 [==============================] - 1s 2ms/step - loss: 0.5315 - val_loss: 65402.8594\n",
      "Epoch 3/20\n",
      "363/363 [==============================] - 1s 2ms/step - loss: 0.5002 - val_loss: 48386.7148\n",
      "Epoch 4/20\n",
      "363/363 [==============================] - 1s 2ms/step - loss: 0.4688 - val_loss: 29146.4668\n",
      "Epoch 5/20\n",
      "363/363 [==============================] - 1s 2ms/step - loss: 0.6517 - val_loss: 86250.3516\n",
      "Epoch 6/20\n",
      "363/363 [==============================] - 1s 2ms/step - loss: 0.4568 - val_loss: 64945.8086\n",
      "Epoch 7/20\n",
      "363/363 [==============================] - 1s 2ms/step - loss: 0.4426 - val_loss: 54597.2578\n",
      "Epoch 8/20\n",
      "363/363 [==============================] - 1s 2ms/step - loss: 0.4373 - val_loss: 63719.7852\n",
      "Epoch 9/20\n",
      "363/363 [==============================] - 1s 3ms/step - loss: 0.4288 - val_loss: 76974.3359\n",
      "Epoch 10/20\n",
      "363/363 [==============================] - 1s 2ms/step - loss: 0.4222 - val_loss: 79585.1719\n",
      "Epoch 11/20\n",
      "363/363 [==============================] - 1s 2ms/step - loss: 0.4172 - val_loss: 96045.6719\n",
      "Epoch 12/20\n",
      "363/363 [==============================] - 1s 2ms/step - loss: 0.4148 - val_loss: 148995.4219\n",
      "Epoch 13/20\n",
      "363/363 [==============================] - 1s 2ms/step - loss: 0.4100 - val_loss: 114199.6172\n",
      "Epoch 14/20\n",
      "363/363 [==============================] - 1s 2ms/step - loss: 0.4059 - val_loss: 98527.6641\n",
      "Epoch 15/20\n",
      "363/363 [==============================] - 1s 2ms/step - loss: 0.4042 - val_loss: 101922.8516\n",
      "Epoch 16/20\n",
      "363/363 [==============================] - 1s 2ms/step - loss: 0.3999 - val_loss: 107014.6797\n",
      "Epoch 17/20\n",
      "363/363 [==============================] - 1s 2ms/step - loss: 0.3980 - val_loss: 123672.1562\n",
      "Epoch 18/20\n",
      "363/363 [==============================] - 1s 2ms/step - loss: 0.3970 - val_loss: 152091.3906\n",
      "Epoch 19/20\n",
      "363/363 [==============================] - 1s 2ms/step - loss: 0.3961 - val_loss: 135127.5625\n",
      "Epoch 20/20\n",
      "363/363 [==============================] - 1s 2ms/step - loss: 0.3914 - val_loss: 132578.7031\n"
     ]
    }
   ],
   "source": [
    "history = model.fit(X_train, y_train, validation_data=(X_valid, y_valid), epochs=20)"
   ]
  },
  {
   "cell_type": "code",
   "execution_count": 33,
   "id": "d9df8062-76eb-4249-85d7-c207b90062dc",
   "metadata": {
    "execution": {
     "iopub.execute_input": "2024-01-14T17:28:47.662720Z",
     "iopub.status.busy": "2024-01-14T17:28:47.662494Z",
     "iopub.status.idle": "2024-01-14T17:28:47.937987Z",
     "shell.execute_reply": "2024-01-14T17:28:47.937350Z",
     "shell.execute_reply.started": "2024-01-14T17:28:47.662698Z"
    }
   },
   "outputs": [
    {
     "name": "stdout",
     "output_type": "stream",
     "text": [
      "162/162 [==============================] - 0s 1ms/step - loss: 139605.9844\n"
     ]
    },
    {
     "data": {
      "text/plain": [
       "139605.984375"
      ]
     },
     "execution_count": 33,
     "metadata": {},
     "output_type": "execute_result"
    }
   ],
   "source": [
    "model.evaluate(X_test, y_test)"
   ]
  },
  {
   "cell_type": "code",
   "execution_count": 34,
   "id": "aa94aa5c-cee6-4b44-a557-9c0feef7ef94",
   "metadata": {
    "execution": {
     "iopub.execute_input": "2024-01-14T17:28:47.939113Z",
     "iopub.status.busy": "2024-01-14T17:28:47.938868Z",
     "iopub.status.idle": "2024-01-14T17:28:48.026979Z",
     "shell.execute_reply": "2024-01-14T17:28:48.026357Z",
     "shell.execute_reply.started": "2024-01-14T17:28:47.939088Z"
    }
   },
   "outputs": [
    {
     "name": "stdout",
     "output_type": "stream",
     "text": [
      "1/1 [==============================] - 0s 45ms/step\n"
     ]
    }
   ],
   "source": [
    "X_new = X_test[:4]\n",
    "predicted_prices = model.predict(X_new)"
   ]
  },
  {
   "cell_type": "code",
   "execution_count": 35,
   "id": "4aef6718-5800-4be1-ba74-3f8330d5d1f0",
   "metadata": {
    "execution": {
     "iopub.execute_input": "2024-01-14T17:28:48.028575Z",
     "iopub.status.busy": "2024-01-14T17:28:48.028358Z",
     "iopub.status.idle": "2024-01-14T17:28:48.033369Z",
     "shell.execute_reply": "2024-01-14T17:28:48.032649Z",
     "shell.execute_reply.started": "2024-01-14T17:28:48.028553Z"
    }
   },
   "outputs": [
    {
     "data": {
      "text/plain": [
       "array([[255.69049],\n",
       "       [344.29218],\n",
       "       [447.39035],\n",
       "       [134.25182]], dtype=float32)"
      ]
     },
     "execution_count": 35,
     "metadata": {},
     "output_type": "execute_result"
    }
   ],
   "source": [
    "predicted_prices"
   ]
  },
  {
   "cell_type": "code",
   "execution_count": 36,
   "id": "f0a7e85f-7023-487a-818c-c0ad8b6a7144",
   "metadata": {
    "execution": {
     "iopub.execute_input": "2024-01-14T17:28:48.034350Z",
     "iopub.status.busy": "2024-01-14T17:28:48.034122Z",
     "iopub.status.idle": "2024-01-14T17:28:48.039371Z",
     "shell.execute_reply": "2024-01-14T17:28:48.038733Z",
     "shell.execute_reply.started": "2024-01-14T17:28:48.034318Z"
    }
   },
   "outputs": [
    {
     "data": {
      "text/plain": [
       "array([1.335, 3.481, 0.707, 0.55 ])"
      ]
     },
     "execution_count": 36,
     "metadata": {},
     "output_type": "execute_result"
    }
   ],
   "source": [
    "y_test[:4]"
   ]
  },
  {
   "cell_type": "code",
   "execution_count": null,
   "id": "33f725fe-c3e5-4329-a55a-eff86c544211",
   "metadata": {},
   "outputs": [],
   "source": []
  },
  {
   "cell_type": "code",
   "execution_count": null,
   "id": "463d12bd-4937-47f5-a15a-759e571a8a59",
   "metadata": {},
   "outputs": [],
   "source": []
  },
  {
   "cell_type": "markdown",
   "id": "cd9607b2-b725-4bec-884f-cf9ec96ff8e3",
   "metadata": {},
   "source": [
    "## California housing : Functional Modelling (Wide & Deep Model)"
   ]
  },
  {
   "cell_type": "code",
   "execution_count": 41,
   "id": "966592f9-a5a2-4949-87eb-079ca120c3cb",
   "metadata": {
    "execution": {
     "iopub.execute_input": "2024-01-14T17:33:45.492865Z",
     "iopub.status.busy": "2024-01-14T17:33:45.492509Z",
     "iopub.status.idle": "2024-01-14T17:33:45.562622Z",
     "shell.execute_reply": "2024-01-14T17:33:45.561736Z",
     "shell.execute_reply.started": "2024-01-14T17:33:45.492831Z"
    }
   },
   "outputs": [],
   "source": [
    "input_ = keras.layers.Input(shape=X_train.shape[1:])\n",
    "hidden_1 = keras.layers.Dense(30, activation=\"relu\")(input_)\n",
    "hidden_2 = keras.layers.Dense(30, activation=\"relu\")(hidden_1)\n",
    "\n",
    "concat = keras.layers.Concatenate()([hidden_1, hidden_2])\n",
    "output = keras.layers.Dense(1)(concat)\n",
    "\n",
    "model = keras.Model(inputs=[input_], outputs=[output], name=\"Price_Predictor_Mark_II\")"
   ]
  },
  {
   "cell_type": "code",
   "execution_count": 42,
   "id": "16632016-2db1-40ce-8e83-45789b1990d2",
   "metadata": {
    "execution": {
     "iopub.execute_input": "2024-01-14T17:33:52.952660Z",
     "iopub.status.busy": "2024-01-14T17:33:52.952413Z",
     "iopub.status.idle": "2024-01-14T17:33:52.964512Z",
     "shell.execute_reply": "2024-01-14T17:33:52.964023Z",
     "shell.execute_reply.started": "2024-01-14T17:33:52.952638Z"
    }
   },
   "outputs": [
    {
     "name": "stdout",
     "output_type": "stream",
     "text": [
      "Model: \"Price_Predictor_Mark_II\"\n",
      "__________________________________________________________________________________________________\n",
      " Layer (type)                Output Shape                 Param #   Connected to                  \n",
      "==================================================================================================\n",
      " input_3 (InputLayer)        [(None, 8)]                  0         []                            \n",
      "                                                                                                  \n",
      " dense_11 (Dense)            (None, 30)                   270       ['input_3[0][0]']             \n",
      "                                                                                                  \n",
      " dense_12 (Dense)            (None, 30)                   930       ['dense_11[0][0]']            \n",
      "                                                                                                  \n",
      " concatenate_2 (Concatenate  (None, 60)                   0         ['dense_11[0][0]',            \n",
      " )                                                                   'dense_12[0][0]']            \n",
      "                                                                                                  \n",
      " dense_13 (Dense)            (None, 1)                    61        ['concatenate_2[0][0]']       \n",
      "                                                                                                  \n",
      "==================================================================================================\n",
      "Total params: 1261 (4.93 KB)\n",
      "Trainable params: 1261 (4.93 KB)\n",
      "Non-trainable params: 0 (0.00 Byte)\n",
      "__________________________________________________________________________________________________\n"
     ]
    }
   ],
   "source": [
    "model.summary()"
   ]
  },
  {
   "cell_type": "markdown",
   "id": "12740138-b431-4374-a520-cd5205e20624",
   "metadata": {},
   "source": [
    "## Creating a Wide and deep model with multiple inputs"
   ]
  },
  {
   "cell_type": "code",
   "execution_count": 44,
   "id": "e175f0c7-7952-413b-8d73-fbecee690c63",
   "metadata": {
    "execution": {
     "iopub.execute_input": "2024-01-14T17:41:13.303444Z",
     "iopub.status.busy": "2024-01-14T17:41:13.303191Z",
     "iopub.status.idle": "2024-01-14T17:41:13.356985Z",
     "shell.execute_reply": "2024-01-14T17:41:13.356431Z",
     "shell.execute_reply.started": "2024-01-14T17:41:13.303409Z"
    }
   },
   "outputs": [],
   "source": [
    "input_a = keras.layers.Input(shape=[5], name=\"wide_path\")\n",
    "\n",
    "input_b = keras.layers.Input(shape=[6], name=\"deep_path\")\n",
    "hidden_1 = keras.layers.Dense(30, activation=\"relu\")(input_b)\n",
    "hidden_2 = keras.layers.Dense(30, activation=\"relu\")(hidden_1)\n",
    "\n",
    "concatenate = keras.layers.Concatenate()([hidden_2, input_a])\n",
    "output = keras.layers.Dense(1)(concatenate)\n",
    "\n",
    "model_1 = keras.Model(\n",
    "    inputs=[input_a, input_b], outputs=[output], name=\"Price_Predictor_Mark_III\"\n",
    ")"
   ]
  },
  {
   "cell_type": "code",
   "execution_count": 45,
   "id": "060ac660-c596-413c-a5d3-cff047468a0e",
   "metadata": {
    "execution": {
     "iopub.execute_input": "2024-01-14T17:41:20.156516Z",
     "iopub.status.busy": "2024-01-14T17:41:20.155909Z",
     "iopub.status.idle": "2024-01-14T17:41:20.175729Z",
     "shell.execute_reply": "2024-01-14T17:41:20.175295Z",
     "shell.execute_reply.started": "2024-01-14T17:41:20.156458Z"
    }
   },
   "outputs": [
    {
     "name": "stdout",
     "output_type": "stream",
     "text": [
      "Model: \"Price_Predictor_Mark_III\"\n",
      "__________________________________________________________________________________________________\n",
      " Layer (type)                Output Shape                 Param #   Connected to                  \n",
      "==================================================================================================\n",
      " deep_path (InputLayer)      [(None, 6)]                  0         []                            \n",
      "                                                                                                  \n",
      " dense_17 (Dense)            (None, 30)                   210       ['deep_path[0][0]']           \n",
      "                                                                                                  \n",
      " dense_18 (Dense)            (None, 30)                   930       ['dense_17[0][0]']            \n",
      "                                                                                                  \n",
      " wide_path (InputLayer)      [(None, 5)]                  0         []                            \n",
      "                                                                                                  \n",
      " concatenate_4 (Concatenate  (None, 35)                   0         ['dense_18[0][0]',            \n",
      " )                                                                   'wide_path[0][0]']           \n",
      "                                                                                                  \n",
      " dense_19 (Dense)            (None, 1)                    36        ['concatenate_4[0][0]']       \n",
      "                                                                                                  \n",
      "==================================================================================================\n",
      "Total params: 1176 (4.59 KB)\n",
      "Trainable params: 1176 (4.59 KB)\n",
      "Non-trainable params: 0 (0.00 Byte)\n",
      "__________________________________________________________________________________________________\n"
     ]
    }
   ],
   "source": [
    "model_1.summary()"
   ]
  },
  {
   "cell_type": "code",
   "execution_count": 53,
   "id": "8ff05287-3f5f-404f-b366-d9dc64cbedf2",
   "metadata": {
    "execution": {
     "iopub.execute_input": "2024-01-14T17:44:05.178637Z",
     "iopub.status.busy": "2024-01-14T17:44:05.177931Z",
     "iopub.status.idle": "2024-01-14T17:44:05.207886Z",
     "shell.execute_reply": "2024-01-14T17:44:05.207267Z",
     "shell.execute_reply.started": "2024-01-14T17:44:05.178575Z"
    }
   },
   "outputs": [],
   "source": [
    "model_1.compile(\n",
    "    loss=\"mse\",\n",
    "    optimizer=keras.optimizers.SGD(learning_rate=1e-3),\n",
    ")"
   ]
  },
  {
   "cell_type": "code",
   "execution_count": 48,
   "id": "b94e3856-fb10-44f3-a048-789aa548a45c",
   "metadata": {
    "execution": {
     "iopub.execute_input": "2024-01-14T17:43:16.921649Z",
     "iopub.status.busy": "2024-01-14T17:43:16.921007Z",
     "iopub.status.idle": "2024-01-14T17:43:16.927417Z",
     "shell.execute_reply": "2024-01-14T17:43:16.926856Z",
     "shell.execute_reply.started": "2024-01-14T17:43:16.921589Z"
    }
   },
   "outputs": [],
   "source": [
    "X_train_A, X_train_B = X_train[:, :5], X_train[:, 2:]\n",
    "X_valid_A, X_valid_B = X_valid[:, :5], X_valid[:, 2:]\n",
    "X_test_A, X_test_B = X_test[:, :5], X_test[:, 2:]\n",
    "X_new_A, X_new_B = X_test_A[:3], X_test_B[:3]"
   ]
  },
  {
   "cell_type": "code",
   "execution_count": 50,
   "id": "d964ace3-94b5-4c3d-a63a-0f689307f35d",
   "metadata": {
    "execution": {
     "iopub.execute_input": "2024-01-14T17:43:34.020442Z",
     "iopub.status.busy": "2024-01-14T17:43:34.019835Z",
     "iopub.status.idle": "2024-01-14T17:43:34.026905Z",
     "shell.execute_reply": "2024-01-14T17:43:34.026252Z",
     "shell.execute_reply.started": "2024-01-14T17:43:34.020383Z"
    }
   },
   "outputs": [
    {
     "data": {
      "text/plain": [
       "((11610, 6), (11610, 5))"
      ]
     },
     "execution_count": 50,
     "metadata": {},
     "output_type": "execute_result"
    }
   ],
   "source": [
    "X_train_B.shape, X_train_A.shape"
   ]
  },
  {
   "cell_type": "code",
   "execution_count": 54,
   "id": "31e2e40c-230e-4a27-8d41-f1b9bb7362fc",
   "metadata": {
    "execution": {
     "iopub.execute_input": "2024-01-14T17:44:08.354236Z",
     "iopub.status.busy": "2024-01-14T17:44:08.353993Z",
     "iopub.status.idle": "2024-01-14T17:44:28.765366Z",
     "shell.execute_reply": "2024-01-14T17:44:28.764575Z",
     "shell.execute_reply.started": "2024-01-14T17:44:08.354212Z"
    },
    "scrolled": true
   },
   "outputs": [
    {
     "name": "stdout",
     "output_type": "stream",
     "text": [
      "Epoch 1/20\n",
      "363/363 [==============================] - 2s 3ms/step - loss: 2.2644 - val_loss: 150593.5781\n",
      "Epoch 2/20\n",
      "363/363 [==============================] - 1s 3ms/step - loss: 0.7723 - val_loss: 147894.0312\n",
      "Epoch 3/20\n",
      "363/363 [==============================] - 1s 3ms/step - loss: 0.6375 - val_loss: 175364.0000\n",
      "Epoch 4/20\n",
      "363/363 [==============================] - 1s 3ms/step - loss: 0.5930 - val_loss: 149416.1562\n",
      "Epoch 5/20\n",
      "363/363 [==============================] - 1s 3ms/step - loss: 0.5676 - val_loss: 137080.3438\n",
      "Epoch 6/20\n",
      "363/363 [==============================] - 1s 3ms/step - loss: 0.5509 - val_loss: 121060.1016\n",
      "Epoch 7/20\n",
      "363/363 [==============================] - 1s 3ms/step - loss: 0.5391 - val_loss: 98145.3828\n",
      "Epoch 8/20\n",
      "363/363 [==============================] - 1s 3ms/step - loss: 0.5300 - val_loss: 91904.6641\n",
      "Epoch 9/20\n",
      "363/363 [==============================] - 1s 3ms/step - loss: 0.5238 - val_loss: 76171.9219\n",
      "Epoch 10/20\n",
      "363/363 [==============================] - 1s 3ms/step - loss: 0.5180 - val_loss: 59114.0000\n",
      "Epoch 11/20\n",
      "363/363 [==============================] - 1s 3ms/step - loss: 0.5136 - val_loss: 59357.3477\n",
      "Epoch 12/20\n",
      "363/363 [==============================] - 1s 3ms/step - loss: 0.5102 - val_loss: 51070.7070\n",
      "Epoch 13/20\n",
      "363/363 [==============================] - 1s 3ms/step - loss: 0.5071 - val_loss: 44995.8555\n",
      "Epoch 14/20\n",
      "363/363 [==============================] - 1s 3ms/step - loss: 0.5039 - val_loss: 40764.8203\n",
      "Epoch 15/20\n",
      "363/363 [==============================] - 1s 3ms/step - loss: 0.5016 - val_loss: 36913.2891\n",
      "Epoch 16/20\n",
      "363/363 [==============================] - 1s 3ms/step - loss: 0.4995 - val_loss: 43547.9844\n",
      "Epoch 17/20\n",
      "363/363 [==============================] - 1s 3ms/step - loss: 0.4971 - val_loss: 39032.3477\n",
      "Epoch 18/20\n",
      "363/363 [==============================] - 1s 3ms/step - loss: 0.4954 - val_loss: 34644.8359\n",
      "Epoch 19/20\n",
      "363/363 [==============================] - 1s 3ms/step - loss: 0.4931 - val_loss: 34822.1836\n",
      "Epoch 20/20\n",
      "363/363 [==============================] - 1s 3ms/step - loss: 0.4917 - val_loss: 32281.9395\n"
     ]
    }
   ],
   "source": [
    "history = model_1.fit(\n",
    "    (X_train_A, X_train_B),\n",
    "    y_train,\n",
    "    epochs=20,\n",
    "    validation_data=((X_valid_A, X_valid_B), y_valid),\n",
    ")"
   ]
  },
  {
   "cell_type": "code",
   "execution_count": 56,
   "id": "7b08895b-2764-4810-a615-7fdb1baea212",
   "metadata": {
    "execution": {
     "iopub.execute_input": "2024-01-14T17:44:43.812485Z",
     "iopub.status.busy": "2024-01-14T17:44:43.812176Z",
     "iopub.status.idle": "2024-01-14T17:44:44.353349Z",
     "shell.execute_reply": "2024-01-14T17:44:44.352498Z",
     "shell.execute_reply.started": "2024-01-14T17:44:43.812456Z"
    }
   },
   "outputs": [
    {
     "name": "stdout",
     "output_type": "stream",
     "text": [
      "162/162 [==============================] - 0s 2ms/step - loss: 33765.2812\n",
      "1/1 [==============================] - 0s 57ms/step\n"
     ]
    }
   ],
   "source": [
    "mse_test = model_1.evaluate((X_test_A, X_test_B), y_test)\n",
    "y_pred = model_1.predict((X_new_A, X_new_B))"
   ]
  },
  {
   "cell_type": "code",
   "execution_count": 57,
   "id": "3572cdd7-56e5-4abc-a88c-5d2688588bea",
   "metadata": {
    "execution": {
     "iopub.execute_input": "2024-01-14T17:44:57.106298Z",
     "iopub.status.busy": "2024-01-14T17:44:57.105677Z",
     "iopub.status.idle": "2024-01-14T17:44:57.112401Z",
     "shell.execute_reply": "2024-01-14T17:44:57.111674Z",
     "shell.execute_reply.started": "2024-01-14T17:44:57.106238Z"
    }
   },
   "outputs": [
    {
     "data": {
      "text/plain": [
       "array([[135.50758],\n",
       "       [175.32347],\n",
       "       [221.04468]], dtype=float32)"
      ]
     },
     "execution_count": 57,
     "metadata": {},
     "output_type": "execute_result"
    }
   ],
   "source": [
    "y_pred"
   ]
  },
  {
   "cell_type": "code",
   "execution_count": 58,
   "id": "464a7c4a-94dd-47f0-890d-c86f691aa2e3",
   "metadata": {
    "execution": {
     "iopub.execute_input": "2024-01-14T17:45:47.512997Z",
     "iopub.status.busy": "2024-01-14T17:45:47.512058Z",
     "iopub.status.idle": "2024-01-14T17:45:47.525689Z",
     "shell.execute_reply": "2024-01-14T17:45:47.524590Z",
     "shell.execute_reply.started": "2024-01-14T17:45:47.512904Z"
    }
   },
   "outputs": [
    {
     "data": {
      "text/plain": [
       "array([1.335, 3.481, 0.707])"
      ]
     },
     "execution_count": 58,
     "metadata": {},
     "output_type": "execute_result"
    }
   ],
   "source": [
    "y_test[:3]"
   ]
  },
  {
   "cell_type": "code",
   "execution_count": null,
   "id": "53ad6cb0-24ef-4bbd-9a83-12de36d27213",
   "metadata": {},
   "outputs": [],
   "source": []
  },
  {
   "cell_type": "markdown",
   "id": "895dc1fd-418c-4a1b-9c3a-d3ad6a5235ba",
   "metadata": {},
   "source": [
    "## Multi-output Neural Network : So that some part of neural network learns useful stuff on its own"
   ]
  },
  {
   "cell_type": "code",
   "execution_count": 64,
   "id": "b2ac6956-e65a-4b46-b440-86e711a8bf32",
   "metadata": {
    "execution": {
     "iopub.execute_input": "2024-01-14T17:52:12.360320Z",
     "iopub.status.busy": "2024-01-14T17:52:12.359713Z",
     "iopub.status.idle": "2024-01-14T17:52:12.419169Z",
     "shell.execute_reply": "2024-01-14T17:52:12.418618Z",
     "shell.execute_reply.started": "2024-01-14T17:52:12.360264Z"
    }
   },
   "outputs": [],
   "source": [
    "input_a = keras.layers.Input(shape=[5], name=\"wide_path\")\n",
    "\n",
    "input_b = keras.layers.Input(shape=[6], name=\"deep_path\")\n",
    "hidden_1 = keras.layers.Dense(30, activation=\"relu\")(input_b)\n",
    "hidden_2 = keras.layers.Dense(30, activation=\"relu\")(hidden_1)\n",
    "\n",
    "concatenate = keras.layers.Concatenate()([hidden_2, input_a])\n",
    "\n",
    "output = keras.layers.Dense(1, name=\"main_output\")(concatenate)\n",
    "aux_output = keras.layers.Dense(1, name=\"aux_output\")(hidden_2)\n",
    "\n",
    "model_2 = keras.Model(\n",
    "    inputs=[input_a, input_b],\n",
    "    outputs=[output, aux_output],\n",
    "    name=\"Price_Predictor_Mark_IV\",\n",
    ")"
   ]
  },
  {
   "cell_type": "code",
   "execution_count": 65,
   "id": "3147c275-5d3b-40a6-b213-925bb843af35",
   "metadata": {
    "execution": {
     "iopub.execute_input": "2024-01-14T17:52:13.027065Z",
     "iopub.status.busy": "2024-01-14T17:52:13.026821Z",
     "iopub.status.idle": "2024-01-14T17:52:13.042541Z",
     "shell.execute_reply": "2024-01-14T17:52:13.041927Z",
     "shell.execute_reply.started": "2024-01-14T17:52:13.027044Z"
    }
   },
   "outputs": [
    {
     "name": "stdout",
     "output_type": "stream",
     "text": [
      "Model: \"Price_Predictor_Mark_IV\"\n",
      "__________________________________________________________________________________________________\n",
      " Layer (type)                Output Shape                 Param #   Connected to                  \n",
      "==================================================================================================\n",
      " deep_path (InputLayer)      [(None, 6)]                  0         []                            \n",
      "                                                                                                  \n",
      " dense_24 (Dense)            (None, 30)                   210       ['deep_path[0][0]']           \n",
      "                                                                                                  \n",
      " dense_25 (Dense)            (None, 30)                   930       ['dense_24[0][0]']            \n",
      "                                                                                                  \n",
      " wide_path (InputLayer)      [(None, 5)]                  0         []                            \n",
      "                                                                                                  \n",
      " concatenate_7 (Concatenate  (None, 35)                   0         ['dense_25[0][0]',            \n",
      " )                                                                   'wide_path[0][0]']           \n",
      "                                                                                                  \n",
      " main_output (Dense)         (None, 1)                    36        ['concatenate_7[0][0]']       \n",
      "                                                                                                  \n",
      " aux_output (Dense)          (None, 1)                    31        ['dense_25[0][0]']            \n",
      "                                                                                                  \n",
      "==================================================================================================\n",
      "Total params: 1207 (4.71 KB)\n",
      "Trainable params: 1207 (4.71 KB)\n",
      "Non-trainable params: 0 (0.00 Byte)\n",
      "__________________________________________________________________________________________________\n"
     ]
    }
   ],
   "source": [
    "model_2.summary()"
   ]
  },
  {
   "cell_type": "code",
   "execution_count": 66,
   "id": "6fa1f8f0-e7ec-42b7-b2d1-80eb056cfbbf",
   "metadata": {
    "execution": {
     "iopub.execute_input": "2024-01-14T17:52:49.485906Z",
     "iopub.status.busy": "2024-01-14T17:52:49.484985Z",
     "iopub.status.idle": "2024-01-14T17:52:49.527419Z",
     "shell.execute_reply": "2024-01-14T17:52:49.526699Z",
     "shell.execute_reply.started": "2024-01-14T17:52:49.485813Z"
    }
   },
   "outputs": [],
   "source": [
    "\"\"\"\n",
    "In case of multiple outputs, each output will need its own loss function.\n",
    "Therefore, when we compile the model, we should pass a list of losses.\n",
    "\"\"\"\n",
    "model_2.compile(loss=[\"mse\", \"mse\"], loss_weights=[0.9, 0.1], optimizer=\"sgd\")"
   ]
  },
  {
   "cell_type": "code",
   "execution_count": 67,
   "id": "ef5ffc51-1354-400d-b8c5-c40c0c54cde9",
   "metadata": {
    "execution": {
     "iopub.execute_input": "2024-01-14T17:53:25.288858Z",
     "iopub.status.busy": "2024-01-14T17:53:25.287909Z",
     "iopub.status.idle": "2024-01-14T17:53:50.127658Z",
     "shell.execute_reply": "2024-01-14T17:53:50.127107Z",
     "shell.execute_reply.started": "2024-01-14T17:53:25.288761Z"
    },
    "scrolled": true
   },
   "outputs": [
    {
     "name": "stdout",
     "output_type": "stream",
     "text": [
      "Epoch 1/20\n",
      "363/363 [==============================] - 2s 4ms/step - loss: 0.9116 - main_output_loss: 0.8026 - aux_output_loss: 1.8921 - val_loss: 245933.7031 - val_main_output_loss: 234658.2812 - val_aux_output_loss: 347413.8750\n",
      "Epoch 2/20\n",
      "363/363 [==============================] - 1s 3ms/step - loss: 0.5936 - main_output_loss: 0.5262 - aux_output_loss: 1.1998 - val_loss: 105676.2344 - val_main_output_loss: 93927.7969 - val_aux_output_loss: 211412.5156\n",
      "Epoch 3/20\n",
      "363/363 [==============================] - 1s 3ms/step - loss: 0.5374 - main_output_loss: 0.4883 - aux_output_loss: 0.9794 - val_loss: 49044.5117 - val_main_output_loss: 37850.4297 - val_aux_output_loss: 149791.3125\n",
      "Epoch 4/20\n",
      "363/363 [==============================] - 1s 4ms/step - loss: 0.5102 - main_output_loss: 0.4726 - aux_output_loss: 0.8482 - val_loss: 67551.1406 - val_main_output_loss: 58187.6875 - val_aux_output_loss: 151822.4688\n",
      "Epoch 5/20\n",
      "363/363 [==============================] - 1s 3ms/step - loss: 0.4995 - main_output_loss: 0.4699 - aux_output_loss: 0.7660 - val_loss: 58907.6953 - val_main_output_loss: 50176.7891 - val_aux_output_loss: 137486.0469\n",
      "Epoch 6/20\n",
      "363/363 [==============================] - 1s 4ms/step - loss: 0.4823 - main_output_loss: 0.4565 - aux_output_loss: 0.7137 - val_loss: 67052.6406 - val_main_output_loss: 58198.5508 - val_aux_output_loss: 146739.3438\n",
      "Epoch 7/20\n",
      "363/363 [==============================] - 1s 3ms/step - loss: 0.4710 - main_output_loss: 0.4480 - aux_output_loss: 0.6779 - val_loss: 54748.5898 - val_main_output_loss: 45730.0781 - val_aux_output_loss: 135914.8906\n",
      "Epoch 8/20\n",
      "363/363 [==============================] - 1s 3ms/step - loss: 0.4665 - main_output_loss: 0.4456 - aux_output_loss: 0.6548 - val_loss: 72895.2891 - val_main_output_loss: 64223.9414 - val_aux_output_loss: 150937.2188\n",
      "Epoch 9/20\n",
      "363/363 [==============================] - 1s 4ms/step - loss: 0.4578 - main_output_loss: 0.4383 - aux_output_loss: 0.6324 - val_loss: 43178.3477 - val_main_output_loss: 33522.2266 - val_aux_output_loss: 130083.4375\n",
      "Epoch 10/20\n",
      "363/363 [==============================] - 1s 4ms/step - loss: 0.4523 - main_output_loss: 0.4339 - aux_output_loss: 0.6180 - val_loss: 67512.3516 - val_main_output_loss: 59450.8516 - val_aux_output_loss: 140065.7656\n",
      "Epoch 11/20\n",
      "363/363 [==============================] - 1s 3ms/step - loss: 0.4441 - main_output_loss: 0.4265 - aux_output_loss: 0.6029 - val_loss: 78900.9375 - val_main_output_loss: 71394.3984 - val_aux_output_loss: 146459.9219\n",
      "Epoch 12/20\n",
      "363/363 [==============================] - 1s 3ms/step - loss: 0.4341 - main_output_loss: 0.4173 - aux_output_loss: 0.5859 - val_loss: 32704.5254 - val_main_output_loss: 24880.8789 - val_aux_output_loss: 103117.3281\n",
      "Epoch 13/20\n",
      "363/363 [==============================] - 1s 3ms/step - loss: 0.4314 - main_output_loss: 0.4148 - aux_output_loss: 0.5805 - val_loss: 52394.3320 - val_main_output_loss: 45275.2578 - val_aux_output_loss: 116465.9453\n",
      "Epoch 14/20\n",
      "363/363 [==============================] - 1s 3ms/step - loss: 0.4188 - main_output_loss: 0.4029 - aux_output_loss: 0.5619 - val_loss: 57803.5000 - val_main_output_loss: 50225.1523 - val_aux_output_loss: 126008.7891\n",
      "Epoch 15/20\n",
      "363/363 [==============================] - 1s 3ms/step - loss: 0.4162 - main_output_loss: 0.4010 - aux_output_loss: 0.5527 - val_loss: 36111.7969 - val_main_output_loss: 29205.6523 - val_aux_output_loss: 98267.0000\n",
      "Epoch 16/20\n",
      "363/363 [==============================] - 1s 3ms/step - loss: 0.4128 - main_output_loss: 0.3979 - aux_output_loss: 0.5477 - val_loss: 45504.4062 - val_main_output_loss: 39380.7695 - val_aux_output_loss: 100617.1250\n",
      "Epoch 17/20\n",
      "363/363 [==============================] - 1s 3ms/step - loss: 0.4025 - main_output_loss: 0.3881 - aux_output_loss: 0.5325 - val_loss: 48839.8086 - val_main_output_loss: 42198.6641 - val_aux_output_loss: 108610.1797\n",
      "Epoch 18/20\n",
      "363/363 [==============================] - 1s 3ms/step - loss: 0.4019 - main_output_loss: 0.3878 - aux_output_loss: 0.5293 - val_loss: 40228.1094 - val_main_output_loss: 32745.7383 - val_aux_output_loss: 107569.5156\n",
      "Epoch 19/20\n",
      "363/363 [==============================] - 1s 3ms/step - loss: 0.3915 - main_output_loss: 0.3782 - aux_output_loss: 0.5113 - val_loss: 81639.6719 - val_main_output_loss: 72107.8438 - val_aux_output_loss: 167426.4375\n",
      "Epoch 20/20\n",
      "363/363 [==============================] - 1s 3ms/step - loss: 0.3855 - main_output_loss: 0.3725 - aux_output_loss: 0.5030 - val_loss: 58643.5234 - val_main_output_loss: 51793.1211 - val_aux_output_loss: 120297.2031\n"
     ]
    }
   ],
   "source": [
    "history = model_2.fit(\n",
    "    [X_train_A, X_train_B],\n",
    "    [y_train, y_train],\n",
    "    epochs=20,\n",
    "    validation_data=([X_valid_A, X_valid_B], [y_valid, y_valid]),\n",
    ")"
   ]
  },
  {
   "cell_type": "code",
   "execution_count": 69,
   "id": "3130a100-e4ad-40cf-9446-5cafb00577fa",
   "metadata": {
    "execution": {
     "iopub.execute_input": "2024-01-14T17:54:09.236690Z",
     "iopub.status.busy": "2024-01-14T17:54:09.235603Z",
     "iopub.status.idle": "2024-01-14T17:54:09.698143Z",
     "shell.execute_reply": "2024-01-14T17:54:09.697567Z",
     "shell.execute_reply.started": "2024-01-14T17:54:09.236627Z"
    }
   },
   "outputs": [
    {
     "name": "stdout",
     "output_type": "stream",
     "text": [
      "162/162 [==============================] - 0s 2ms/step - loss: 60838.1133 - main_output_loss: 53631.9570 - aux_output_loss: 125693.8047\n"
     ]
    }
   ],
   "source": [
    "total_loss, main_loss, aux_loss = model_2.evaluate(\n",
    "    [X_test_A, X_test_B], [y_test, y_test]\n",
    ")"
   ]
  },
  {
   "cell_type": "code",
   "execution_count": 70,
   "id": "3ac11853-2bc0-4b98-bfed-d03c2761ca50",
   "metadata": {
    "execution": {
     "iopub.execute_input": "2024-01-14T17:54:24.530272Z",
     "iopub.status.busy": "2024-01-14T17:54:24.529662Z",
     "iopub.status.idle": "2024-01-14T17:54:24.538374Z",
     "shell.execute_reply": "2024-01-14T17:54:24.536546Z",
     "shell.execute_reply.started": "2024-01-14T17:54:24.530212Z"
    }
   },
   "outputs": [
    {
     "name": "stdout",
     "output_type": "stream",
     "text": [
      "60838.11328125 53631.95703125 125693.8046875\n"
     ]
    }
   ],
   "source": [
    "print(total_loss, main_loss, aux_loss)"
   ]
  },
  {
   "cell_type": "code",
   "execution_count": 72,
   "id": "6016b57b-9118-46f7-83e8-03dac648c589",
   "metadata": {
    "execution": {
     "iopub.execute_input": "2024-01-14T17:54:50.017783Z",
     "iopub.status.busy": "2024-01-14T17:54:50.017044Z",
     "iopub.status.idle": "2024-01-14T17:54:50.121233Z",
     "shell.execute_reply": "2024-01-14T17:54:50.120500Z",
     "shell.execute_reply.started": "2024-01-14T17:54:50.017721Z"
    }
   },
   "outputs": [
    {
     "name": "stdout",
     "output_type": "stream",
     "text": [
      "WARNING:tensorflow:5 out of the last 5 calls to <function Model.make_predict_function.<locals>.predict_function at 0x7f27101dee80> triggered tf.function retracing. Tracing is expensive and the excessive number of tracings could be due to (1) creating @tf.function repeatedly in a loop, (2) passing tensors with different shapes, (3) passing Python objects instead of tensors. For (1), please define your @tf.function outside of the loop. For (2), @tf.function has reduce_retracing=True option that can avoid unnecessary retracing. For (3), please refer to https://www.tensorflow.org/guide/function#controlling_retracing and https://www.tensorflow.org/api_docs/python/tf/function for  more details.\n"
     ]
    },
    {
     "name": "stderr",
     "output_type": "stream",
     "text": [
      "WARNING:tensorflow:5 out of the last 5 calls to <function Model.make_predict_function.<locals>.predict_function at 0x7f27101dee80> triggered tf.function retracing. Tracing is expensive and the excessive number of tracings could be due to (1) creating @tf.function repeatedly in a loop, (2) passing tensors with different shapes, (3) passing Python objects instead of tensors. For (1), please define your @tf.function outside of the loop. For (2), @tf.function has reduce_retracing=True option that can avoid unnecessary retracing. For (3), please refer to https://www.tensorflow.org/guide/function#controlling_retracing and https://www.tensorflow.org/api_docs/python/tf/function for  more details.\n"
     ]
    },
    {
     "name": "stdout",
     "output_type": "stream",
     "text": [
      "1/1 [==============================] - 0s 60ms/step\n"
     ]
    }
   ],
   "source": [
    "y_pred_main, y_pred_aux = model_2.predict([X_new_A, X_new_B])"
   ]
  },
  {
   "cell_type": "markdown",
   "id": "59fd4d40-a253-489e-b13b-d8f050ea5f0e",
   "metadata": {
    "execution": {
     "iopub.execute_input": "2024-01-14T17:56:12.572857Z",
     "iopub.status.busy": "2024-01-14T17:56:12.572263Z",
     "iopub.status.idle": "2024-01-14T17:56:12.580001Z",
     "shell.execute_reply": "2024-01-14T17:56:12.578225Z",
     "shell.execute_reply.started": "2024-01-14T17:56:12.572798Z"
    }
   },
   "source": [
    "## Using subclassing API to build a model"
   ]
  },
  {
   "cell_type": "code",
   "execution_count": 78,
   "id": "50ceb426-3544-4e53-8ce0-8fc72b2665e9",
   "metadata": {
    "execution": {
     "iopub.execute_input": "2024-01-14T18:03:19.882962Z",
     "iopub.status.busy": "2024-01-14T18:03:19.882779Z",
     "iopub.status.idle": "2024-01-14T18:03:19.893453Z",
     "shell.execute_reply": "2024-01-14T18:03:19.892822Z",
     "shell.execute_reply.started": "2024-01-14T18:03:19.882947Z"
    }
   },
   "outputs": [],
   "source": [
    "\"\"\"\n",
    "Simply subclass the Model class, create the layers you need in the\n",
    "constructor, and use them to perform the computations you want in the\n",
    "call() method\n",
    "\"\"\"\n",
    "\n",
    "\n",
    "class WideAndDeepModel(keras.Model):\n",
    "    def __init__(self, units=30, activation=\"relu\", **kwargs):\n",
    "        super().__init__(**kwargs)  # handles standard args (e.g., name)\n",
    "        self.hidden1 = keras.layers.Dense(units, activation=activation)\n",
    "        self.hidden2 = keras.layers.Dense(units, activation=activation)\n",
    "        self.main_output = keras.layers.Dense(1)\n",
    "        self.aux_output = keras.layers.Dense(1)\n",
    "\n",
    "    def call(self, inputs):\n",
    "        input_A, input_B = inputs\n",
    "        hidden1 = self.hidden1(input_B)\n",
    "        hidden2 = self.hidden2(hidden1)\n",
    "        concat = keras.layers.concatenate([input_A, hidden2])\n",
    "        main_output = self.main_output(concat)\n",
    "        aux_output = self.aux_output(hidden2)\n",
    "        return main_output, aux_output\n",
    "\n",
    "\n",
    "model_3 = WideAndDeepModel(name=\"Price_Predictor_Mark_V\")"
   ]
  },
  {
   "cell_type": "code",
   "execution_count": 81,
   "id": "273b4b1a-890c-4eda-bbb8-b85c0328e1b7",
   "metadata": {
    "execution": {
     "iopub.execute_input": "2024-01-14T18:06:37.222752Z",
     "iopub.status.busy": "2024-01-14T18:06:37.222263Z",
     "iopub.status.idle": "2024-01-14T18:06:37.235561Z",
     "shell.execute_reply": "2024-01-14T18:06:37.234432Z",
     "shell.execute_reply.started": "2024-01-14T18:06:37.222719Z"
    }
   },
   "outputs": [
    {
     "name": "stdout",
     "output_type": "stream",
     "text": [
      "Model: \"Price_Predictor_Mark_V\"\n",
      "_________________________________________________________________\n",
      " Layer (type)                Output Shape              Param #   \n",
      "=================================================================\n",
      " dense_30 (Dense)            multiple                  210       \n",
      "                                                                 \n",
      " dense_31 (Dense)            multiple                  930       \n",
      "                                                                 \n",
      " dense_32 (Dense)            multiple                  36        \n",
      "                                                                 \n",
      " dense_33 (Dense)            multiple                  31        \n",
      "                                                                 \n",
      "=================================================================\n",
      "Total params: 1207 (4.71 KB)\n",
      "Trainable params: 1207 (4.71 KB)\n",
      "Non-trainable params: 0 (0.00 Byte)\n",
      "_________________________________________________________________\n"
     ]
    }
   ],
   "source": [
    "model_3.summary()"
   ]
  },
  {
   "cell_type": "code",
   "execution_count": 79,
   "id": "d44ad356-8827-4af5-88e5-611e3b63e206",
   "metadata": {
    "execution": {
     "iopub.execute_input": "2024-01-14T18:05:53.068269Z",
     "iopub.status.busy": "2024-01-14T18:05:53.068002Z",
     "iopub.status.idle": "2024-01-14T18:05:53.092922Z",
     "shell.execute_reply": "2024-01-14T18:05:53.092221Z",
     "shell.execute_reply.started": "2024-01-14T18:05:53.068251Z"
    }
   },
   "outputs": [],
   "source": [
    "model_3.compile(loss=[\"mse\", \"mse\"], loss_weights=[0.9, 0.1], optimizer=\"sgd\")"
   ]
  },
  {
   "cell_type": "code",
   "execution_count": 80,
   "id": "b05485a3-0d1e-4d2a-853c-ac00a3ba3a4e",
   "metadata": {
    "execution": {
     "iopub.execute_input": "2024-01-14T18:06:12.125255Z",
     "iopub.status.busy": "2024-01-14T18:06:12.124642Z",
     "iopub.status.idle": "2024-01-14T18:06:37.220862Z",
     "shell.execute_reply": "2024-01-14T18:06:37.220271Z",
     "shell.execute_reply.started": "2024-01-14T18:06:12.125196Z"
    },
    "scrolled": true
   },
   "outputs": [
    {
     "name": "stdout",
     "output_type": "stream",
     "text": [
      "Epoch 1/20\n",
      "363/363 [==============================] - 2s 4ms/step - loss: 1.0452 - output_1_loss: 0.9058 - output_2_loss: 2.3002 - val_loss: 30350.7363 - val_output_1_loss: 3210.9172 - val_output_2_loss: 274609.1250\n",
      "Epoch 2/20\n",
      "363/363 [==============================] - 1s 3ms/step - loss: 0.6779 - output_1_loss: 0.6390 - output_2_loss: 1.0273 - val_loss: 51001.9805 - val_output_1_loss: 37958.7656 - val_output_2_loss: 168390.7812\n",
      "Epoch 3/20\n",
      "363/363 [==============================] - 1s 3ms/step - loss: 0.9306 - output_1_loss: 0.9223 - output_2_loss: 1.0054 - val_loss: 23739.5234 - val_output_1_loss: 21112.2734 - val_output_2_loss: 47384.8008\n",
      "Epoch 4/20\n",
      "363/363 [==============================] - 1s 3ms/step - loss: 0.5187 - output_1_loss: 0.4828 - output_2_loss: 0.8419 - val_loss: 20895.3047 - val_output_1_loss: 18627.8262 - val_output_2_loss: 41302.5898\n",
      "Epoch 5/20\n",
      "363/363 [==============================] - 1s 3ms/step - loss: 0.4993 - output_1_loss: 0.4685 - output_2_loss: 0.7765 - val_loss: 15215.7031 - val_output_1_loss: 12529.0410 - val_output_2_loss: 39395.6602\n",
      "Epoch 6/20\n",
      "363/363 [==============================] - 1s 3ms/step - loss: 0.4849 - output_1_loss: 0.4579 - output_2_loss: 0.7280 - val_loss: 13279.1484 - val_output_1_loss: 9726.4443 - val_output_2_loss: 45253.4805\n",
      "Epoch 7/20\n",
      "363/363 [==============================] - 1s 3ms/step - loss: 0.4769 - output_1_loss: 0.4525 - output_2_loss: 0.6964 - val_loss: 31203.2363 - val_output_1_loss: 26546.7871 - val_output_2_loss: 73111.2812\n",
      "Epoch 8/20\n",
      "363/363 [==============================] - 1s 3ms/step - loss: 0.4837 - output_1_loss: 0.4620 - output_2_loss: 0.6790 - val_loss: 36643.8398 - val_output_1_loss: 29928.5762 - val_output_2_loss: 97081.2188\n",
      "Epoch 9/20\n",
      "363/363 [==============================] - 1s 3ms/step - loss: 0.4613 - output_1_loss: 0.4398 - output_2_loss: 0.6544 - val_loss: 28595.7266 - val_output_1_loss: 21227.4043 - val_output_2_loss: 94910.7188\n",
      "Epoch 10/20\n",
      "363/363 [==============================] - 1s 3ms/step - loss: 0.4503 - output_1_loss: 0.4294 - output_2_loss: 0.6385 - val_loss: 36210.3125 - val_output_1_loss: 28378.8105 - val_output_2_loss: 106693.9062\n",
      "Epoch 11/20\n",
      "363/363 [==============================] - 1s 3ms/step - loss: 0.4438 - output_1_loss: 0.4236 - output_2_loss: 0.6261 - val_loss: 30525.1719 - val_output_1_loss: 21886.0723 - val_output_2_loss: 108277.0781\n",
      "Epoch 12/20\n",
      "363/363 [==============================] - 1s 4ms/step - loss: 0.4333 - output_1_loss: 0.4134 - output_2_loss: 0.6124 - val_loss: 33194.7500 - val_output_1_loss: 24346.6816 - val_output_2_loss: 112827.2422\n",
      "Epoch 13/20\n",
      "363/363 [==============================] - 1s 3ms/step - loss: 0.4271 - output_1_loss: 0.4076 - output_2_loss: 0.6030 - val_loss: 25698.8262 - val_output_1_loss: 17404.6602 - val_output_2_loss: 100346.2891\n",
      "Epoch 14/20\n",
      "363/363 [==============================] - 1s 3ms/step - loss: 0.4196 - output_1_loss: 0.4004 - output_2_loss: 0.5922 - val_loss: 28269.1230 - val_output_1_loss: 19760.0840 - val_output_2_loss: 104850.5312\n",
      "Epoch 15/20\n",
      "363/363 [==============================] - 1s 3ms/step - loss: 0.4123 - output_1_loss: 0.3936 - output_2_loss: 0.5811 - val_loss: 27391.1660 - val_output_1_loss: 18414.0605 - val_output_2_loss: 108185.2031\n",
      "Epoch 16/20\n",
      "363/363 [==============================] - 1s 3ms/step - loss: 0.4073 - output_1_loss: 0.3890 - output_2_loss: 0.5721 - val_loss: 52122.5391 - val_output_1_loss: 41817.6602 - val_output_2_loss: 144866.4375\n",
      "Epoch 17/20\n",
      "363/363 [==============================] - 1s 3ms/step - loss: 0.4008 - output_1_loss: 0.3828 - output_2_loss: 0.5629 - val_loss: 71528.3906 - val_output_1_loss: 61199.8281 - val_output_2_loss: 164485.4531\n",
      "Epoch 18/20\n",
      "363/363 [==============================] - 1s 3ms/step - loss: 0.3938 - output_1_loss: 0.3761 - output_2_loss: 0.5533 - val_loss: 56819.7070 - val_output_1_loss: 47000.8945 - val_output_2_loss: 145188.9219\n",
      "Epoch 19/20\n",
      "363/363 [==============================] - 1s 3ms/step - loss: 0.3898 - output_1_loss: 0.3726 - output_2_loss: 0.5451 - val_loss: 55853.4453 - val_output_1_loss: 46510.0156 - val_output_2_loss: 139944.3750\n",
      "Epoch 20/20\n",
      "363/363 [==============================] - 1s 3ms/step - loss: 0.3863 - output_1_loss: 0.3693 - output_2_loss: 0.5387 - val_loss: 50754.7656 - val_output_1_loss: 42021.3672 - val_output_2_loss: 129355.1641\n"
     ]
    }
   ],
   "source": [
    "history = model_3.fit(\n",
    "    [X_train_A, X_train_B],\n",
    "    [y_train, y_train],\n",
    "    epochs=20,\n",
    "    validation_data=([X_valid_A, X_valid_B], [y_valid, y_valid]),\n",
    ")"
   ]
  },
  {
   "cell_type": "code",
   "execution_count": null,
   "id": "6f517037-c6fa-4227-af6f-d262603ef3d1",
   "metadata": {},
   "outputs": [],
   "source": []
  },
  {
   "cell_type": "code",
   "execution_count": 82,
   "id": "9eb67d40-6c35-48f3-bafa-a6d96e87ce10",
   "metadata": {
    "execution": {
     "iopub.execute_input": "2024-01-14T18:07:11.873014Z",
     "iopub.status.busy": "2024-01-14T18:07:11.872392Z",
     "iopub.status.idle": "2024-01-14T18:07:12.307391Z",
     "shell.execute_reply": "2024-01-14T18:07:12.306842Z",
     "shell.execute_reply.started": "2024-01-14T18:07:11.872953Z"
    }
   },
   "outputs": [
    {
     "name": "stdout",
     "output_type": "stream",
     "text": [
      "162/162 [==============================] - 0s 2ms/step - loss: 52269.1836 - output_1_loss: 43123.2461 - output_2_loss: 134582.5625\n"
     ]
    }
   ],
   "source": [
    "total_loss, main_loss, aux_loss = model_3.evaluate(\n",
    "    [X_test_A, X_test_B], [y_test, y_test]\n",
    ")"
   ]
  },
  {
   "cell_type": "code",
   "execution_count": 83,
   "id": "fa39c8f7-a53e-4fd0-a68d-05e985265a10",
   "metadata": {
    "execution": {
     "iopub.execute_input": "2024-01-14T18:07:13.170545Z",
     "iopub.status.busy": "2024-01-14T18:07:13.169924Z",
     "iopub.status.idle": "2024-01-14T18:07:13.174300Z",
     "shell.execute_reply": "2024-01-14T18:07:13.173423Z",
     "shell.execute_reply.started": "2024-01-14T18:07:13.170523Z"
    }
   },
   "outputs": [
    {
     "name": "stdout",
     "output_type": "stream",
     "text": [
      "52269.18359375 43123.24609375 134582.5625\n"
     ]
    }
   ],
   "source": [
    "print(total_loss, main_loss, aux_loss)"
   ]
  },
  {
   "cell_type": "code",
   "execution_count": 84,
   "id": "f4f05163-28f8-4cfc-ac98-d14e5c538773",
   "metadata": {
    "execution": {
     "iopub.execute_input": "2024-01-14T18:07:21.788705Z",
     "iopub.status.busy": "2024-01-14T18:07:21.788477Z",
     "iopub.status.idle": "2024-01-14T18:07:21.888250Z",
     "shell.execute_reply": "2024-01-14T18:07:21.887736Z",
     "shell.execute_reply.started": "2024-01-14T18:07:21.788684Z"
    }
   },
   "outputs": [
    {
     "name": "stdout",
     "output_type": "stream",
     "text": [
      "WARNING:tensorflow:6 out of the last 6 calls to <function Model.make_predict_function.<locals>.predict_function at 0x7f27007a0220> triggered tf.function retracing. Tracing is expensive and the excessive number of tracings could be due to (1) creating @tf.function repeatedly in a loop, (2) passing tensors with different shapes, (3) passing Python objects instead of tensors. For (1), please define your @tf.function outside of the loop. For (2), @tf.function has reduce_retracing=True option that can avoid unnecessary retracing. For (3), please refer to https://www.tensorflow.org/guide/function#controlling_retracing and https://www.tensorflow.org/api_docs/python/tf/function for  more details.\n"
     ]
    },
    {
     "name": "stderr",
     "output_type": "stream",
     "text": [
      "WARNING:tensorflow:6 out of the last 6 calls to <function Model.make_predict_function.<locals>.predict_function at 0x7f27007a0220> triggered tf.function retracing. Tracing is expensive and the excessive number of tracings could be due to (1) creating @tf.function repeatedly in a loop, (2) passing tensors with different shapes, (3) passing Python objects instead of tensors. For (1), please define your @tf.function outside of the loop. For (2), @tf.function has reduce_retracing=True option that can avoid unnecessary retracing. For (3), please refer to https://www.tensorflow.org/guide/function#controlling_retracing and https://www.tensorflow.org/api_docs/python/tf/function for  more details.\n"
     ]
    },
    {
     "name": "stdout",
     "output_type": "stream",
     "text": [
      "1/1 [==============================] - 0s 56ms/step\n"
     ]
    }
   ],
   "source": [
    "y_pred_main, y_pred_aux = model_3.predict([X_new_A, X_new_B])"
   ]
  },
  {
   "cell_type": "code",
   "execution_count": 85,
   "id": "ca238677-222a-4846-bdf6-20e2aff68804",
   "metadata": {
    "execution": {
     "iopub.execute_input": "2024-01-14T18:07:34.695111Z",
     "iopub.status.busy": "2024-01-14T18:07:34.694426Z",
     "iopub.status.idle": "2024-01-14T18:07:34.701234Z",
     "shell.execute_reply": "2024-01-14T18:07:34.700507Z",
     "shell.execute_reply.started": "2024-01-14T18:07:34.695047Z"
    }
   },
   "outputs": [
    {
     "name": "stdout",
     "output_type": "stream",
     "text": [
      "[[177.298  ]\n",
      " [195.011  ]\n",
      " [220.70209]] [[276.64145]\n",
      " [336.71625]\n",
      " [413.8453 ]]\n"
     ]
    }
   ],
   "source": [
    "print(y_pred_main, y_pred_aux)"
   ]
  },
  {
   "cell_type": "code",
   "execution_count": 86,
   "id": "ffa771ef-671b-4a15-9470-f5e3571232da",
   "metadata": {
    "execution": {
     "iopub.execute_input": "2024-01-14T18:07:47.126418Z",
     "iopub.status.busy": "2024-01-14T18:07:47.125817Z",
     "iopub.status.idle": "2024-01-14T18:07:47.133149Z",
     "shell.execute_reply": "2024-01-14T18:07:47.132373Z",
     "shell.execute_reply.started": "2024-01-14T18:07:47.126361Z"
    }
   },
   "outputs": [
    {
     "data": {
      "text/plain": [
       "array([1.335, 3.481, 0.707])"
      ]
     },
     "execution_count": 86,
     "metadata": {},
     "output_type": "execute_result"
    }
   ],
   "source": [
    "y_test[:3]"
   ]
  },
  {
   "cell_type": "code",
   "execution_count": null,
   "id": "429f04f5-ee44-4727-a9a3-b0ee8b635fb4",
   "metadata": {},
   "outputs": [],
   "source": []
  },
  {
   "cell_type": "code",
   "execution_count": null,
   "id": "7f81518b-ec09-4b3f-bc8a-1c4becf329b8",
   "metadata": {},
   "outputs": [],
   "source": []
  },
  {
   "cell_type": "code",
   "execution_count": null,
   "id": "833cec06-fb43-4525-bde5-cb4a64a2ef0d",
   "metadata": {},
   "outputs": [],
   "source": []
  },
  {
   "cell_type": "markdown",
   "id": "f41b6974-16d0-4d67-b4a7-5bcb127ddfc0",
   "metadata": {},
   "source": [
    "## Saving and restoring a model"
   ]
  },
  {
   "cell_type": "code",
   "execution_count": 88,
   "id": "b732c0b5-f3d1-4ecb-bd91-ac8aaaad40d1",
   "metadata": {
    "collapsed": true,
    "execution": {
     "iopub.execute_input": "2024-01-14T18:09:00.939288Z",
     "iopub.status.busy": "2024-01-14T18:09:00.938683Z",
     "iopub.status.idle": "2024-01-14T18:09:00.944811Z",
     "shell.execute_reply": "2024-01-14T18:09:00.943762Z",
     "shell.execute_reply.started": "2024-01-14T18:09:00.939229Z"
    },
    "jupyter": {
     "outputs_hidden": true
    }
   },
   "outputs": [
    {
     "ename": "SyntaxError",
     "evalue": "incomplete input (2861843330.py, line 1)",
     "output_type": "error",
     "traceback": [
      "\u001b[0;36m  Cell \u001b[0;32mIn[88], line 1\u001b[0;36m\u001b[0m\n\u001b[0;31m    \"\"\"Keras will use the HDF5 format to save both the model’s architecture\u001b[0m\n\u001b[0m    ^\u001b[0m\n\u001b[0;31mSyntaxError\u001b[0m\u001b[0;31m:\u001b[0m incomplete input\n"
     ]
    }
   ],
   "source": [
    "\"\"\"Keras will use the HDF5 format to save both the model’s architecture\n",
    "(including every layer’s hyperparameters) and the values of all the model\n",
    "parameters for every layer (e.g., connection weights and biases). It also\n",
    "saves the optimizer (including its hyperparameters and any state it may\n",
    "have).\"\"\"\n",
    "model_2.save(\"keras_functional_model.h5\")"
   ]
  },
  {
   "cell_type": "code",
   "execution_count": 89,
   "id": "07acd4f4-220f-44dd-8b3b-4e991c39a96b",
   "metadata": {
    "execution": {
     "iopub.execute_input": "2024-01-14T18:10:17.815253Z",
     "iopub.status.busy": "2024-01-14T18:10:17.814654Z",
     "iopub.status.idle": "2024-01-14T18:10:17.915024Z",
     "shell.execute_reply": "2024-01-14T18:10:17.914346Z",
     "shell.execute_reply.started": "2024-01-14T18:10:17.815192Z"
    }
   },
   "outputs": [],
   "source": [
    "model_2 = keras.models.load_model(\"keras_functional_model.h5\")"
   ]
  },
  {
   "cell_type": "code",
   "execution_count": 90,
   "id": "f8931087-4046-4080-969b-4ed7c051b9ce",
   "metadata": {
    "execution": {
     "iopub.execute_input": "2024-01-14T18:11:31.324886Z",
     "iopub.status.busy": "2024-01-14T18:11:31.324681Z",
     "iopub.status.idle": "2024-01-14T18:11:31.328824Z",
     "shell.execute_reply": "2024-01-14T18:11:31.328309Z",
     "shell.execute_reply.started": "2024-01-14T18:11:31.324870Z"
    }
   },
   "outputs": [
    {
     "data": {
      "text/plain": [
       "'\\nFor subclassing API, this will unfortunately not work. You can use save_weights() and\\nload_weights() to at least save and restore the model parameters, but you will\\nneed to save and restore everything else yourself.\\n'"
      ]
     },
     "execution_count": 90,
     "metadata": {},
     "output_type": "execute_result"
    }
   ],
   "source": [
    "\"\"\"\n",
    "For subclassing API, this will unfortunately not work. You can use save_weights() and\n",
    "load_weights() to at least save and restore the model parameters, but you will\n",
    "need to save and restore everything else yourself.\n",
    "\"\"\""
   ]
  },
  {
   "cell_type": "code",
   "execution_count": null,
   "id": "c456b851-6472-4cc6-8f43-c758e7575d63",
   "metadata": {},
   "outputs": [],
   "source": []
  },
  {
   "cell_type": "markdown",
   "id": "a97c5e08-1b12-40a1-9165-b5a128d3e5d3",
   "metadata": {},
   "source": [
    "## Using Callbacks to save model at checkpoints while fitting the data"
   ]
  },
  {
   "cell_type": "code",
   "execution_count": 95,
   "id": "16d4e716-e32e-48d9-b001-a58e2e0311ac",
   "metadata": {
    "execution": {
     "iopub.execute_input": "2024-01-14T18:17:14.371966Z",
     "iopub.status.busy": "2024-01-14T18:17:14.371386Z",
     "iopub.status.idle": "2024-01-14T18:17:39.065498Z",
     "shell.execute_reply": "2024-01-14T18:17:39.064912Z",
     "shell.execute_reply.started": "2024-01-14T18:17:14.371906Z"
    },
    "scrolled": true
   },
   "outputs": [
    {
     "name": "stdout",
     "output_type": "stream",
     "text": [
      "Epoch 1/20\n",
      "363/363 [==============================] - 1s 4ms/step - loss: 0.3454 - main_output_loss: 0.3373 - aux_output_loss: 0.4183 - val_loss: 137497.5938 - val_main_output_loss: 125242.2031 - val_aux_output_loss: 247796.0625\n",
      "Epoch 2/20\n",
      " 57/363 [===>..........................] - ETA: 0s - loss: 0.3353 - main_output_loss: 0.3281 - aux_output_loss: 0.4001"
     ]
    },
    {
     "name": "stderr",
     "output_type": "stream",
     "text": [
      "/home/ares/Softwares/PythonVenv/py3.11/lib/python3.11/site-packages/keras/src/engine/training.py:3103: UserWarning: You are saving your model as an HDF5 file via `model.save()`. This file format is considered legacy. We recommend using instead the native Keras format, e.g. `model.save('my_model.keras')`.\n",
      "  saving_api.save_model(\n"
     ]
    },
    {
     "name": "stdout",
     "output_type": "stream",
     "text": [
      "363/363 [==============================] - 1s 3ms/step - loss: 0.3399 - main_output_loss: 0.3317 - aux_output_loss: 0.4136 - val_loss: 180117.5156 - val_main_output_loss: 164551.6562 - val_aux_output_loss: 320210.0625\n",
      "Epoch 3/20\n",
      "363/363 [==============================] - 1s 3ms/step - loss: 0.3394 - main_output_loss: 0.3312 - aux_output_loss: 0.4134 - val_loss: 191713.3125 - val_main_output_loss: 175319.5781 - val_aux_output_loss: 339256.9688\n",
      "Epoch 4/20\n",
      "363/363 [==============================] - 1s 3ms/step - loss: 0.3396 - main_output_loss: 0.3311 - aux_output_loss: 0.4161 - val_loss: 124381.6016 - val_main_output_loss: 111889.5469 - val_aux_output_loss: 236810.0000\n",
      "Epoch 5/20\n",
      "363/363 [==============================] - 1s 3ms/step - loss: 0.3391 - main_output_loss: 0.3312 - aux_output_loss: 0.4110 - val_loss: 103906.3672 - val_main_output_loss: 92269.5469 - val_aux_output_loss: 208637.6719\n",
      "Epoch 6/20\n",
      "363/363 [==============================] - 1s 3ms/step - loss: 0.3374 - main_output_loss: 0.3294 - aux_output_loss: 0.4089 - val_loss: 151071.7969 - val_main_output_loss: 134953.4844 - val_aux_output_loss: 296136.5938\n",
      "Epoch 7/20\n",
      "363/363 [==============================] - 1s 3ms/step - loss: 0.3371 - main_output_loss: 0.3290 - aux_output_loss: 0.4102 - val_loss: 141829.5781 - val_main_output_loss: 126770.4844 - val_aux_output_loss: 277361.5938\n",
      "Epoch 8/20\n",
      "363/363 [==============================] - 1s 4ms/step - loss: 0.3353 - main_output_loss: 0.3272 - aux_output_loss: 0.4081 - val_loss: 66473.3594 - val_main_output_loss: 57325.2812 - val_aux_output_loss: 148806.0156\n",
      "Epoch 9/20\n",
      "363/363 [==============================] - 1s 3ms/step - loss: 0.3335 - main_output_loss: 0.3259 - aux_output_loss: 0.4017 - val_loss: 115577.3516 - val_main_output_loss: 102469.2422 - val_aux_output_loss: 233550.4688\n",
      "Epoch 10/20\n",
      "363/363 [==============================] - 1s 3ms/step - loss: 0.3331 - main_output_loss: 0.3255 - aux_output_loss: 0.4010 - val_loss: 71996.6875 - val_main_output_loss: 61648.6211 - val_aux_output_loss: 165129.2656\n",
      "Epoch 11/20\n",
      "363/363 [==============================] - 1s 3ms/step - loss: 0.3329 - main_output_loss: 0.3253 - aux_output_loss: 0.4011 - val_loss: 139923.2344 - val_main_output_loss: 123518.4844 - val_aux_output_loss: 287566.0312\n",
      "Epoch 12/20\n",
      "363/363 [==============================] - 1s 3ms/step - loss: 0.3314 - main_output_loss: 0.3239 - aux_output_loss: 0.3996 - val_loss: 103283.9922 - val_main_output_loss: 92061.2812 - val_aux_output_loss: 204288.7344\n",
      "Epoch 13/20\n",
      "363/363 [==============================] - 1s 4ms/step - loss: 0.3315 - main_output_loss: 0.3240 - aux_output_loss: 0.3991 - val_loss: 82688.6562 - val_main_output_loss: 69757.7500 - val_aux_output_loss: 199066.7969\n",
      "Epoch 14/20\n",
      "363/363 [==============================] - 1s 4ms/step - loss: 0.3309 - main_output_loss: 0.3236 - aux_output_loss: 0.3970 - val_loss: 89919.6953 - val_main_output_loss: 77024.8594 - val_aux_output_loss: 205972.7812\n",
      "Epoch 15/20\n",
      "363/363 [==============================] - 1s 3ms/step - loss: 0.3299 - main_output_loss: 0.3225 - aux_output_loss: 0.3962 - val_loss: 118202.5000 - val_main_output_loss: 103955.6172 - val_aux_output_loss: 246424.4844\n",
      "Epoch 16/20\n",
      "363/363 [==============================] - 1s 3ms/step - loss: 0.3284 - main_output_loss: 0.3213 - aux_output_loss: 0.3926 - val_loss: 83934.9609 - val_main_output_loss: 70704.0078 - val_aux_output_loss: 203013.5781\n",
      "Epoch 17/20\n",
      "363/363 [==============================] - 1s 3ms/step - loss: 0.3285 - main_output_loss: 0.3213 - aux_output_loss: 0.3925 - val_loss: 94380.2422 - val_main_output_loss: 79857.9844 - val_aux_output_loss: 225080.1875\n",
      "Epoch 18/20\n",
      "363/363 [==============================] - 1s 4ms/step - loss: 0.3284 - main_output_loss: 0.3211 - aux_output_loss: 0.3941 - val_loss: 109798.2422 - val_main_output_loss: 97895.7656 - val_aux_output_loss: 216920.7188\n",
      "Epoch 19/20\n",
      "363/363 [==============================] - 1s 3ms/step - loss: 0.3284 - main_output_loss: 0.3211 - aux_output_loss: 0.3937 - val_loss: 71944.9297 - val_main_output_loss: 61398.8359 - val_aux_output_loss: 166859.8281\n",
      "Epoch 20/20\n",
      "363/363 [==============================] - 2s 4ms/step - loss: 0.3262 - main_output_loss: 0.3187 - aux_output_loss: 0.3939 - val_loss: 57402.9023 - val_main_output_loss: 49438.6875 - val_aux_output_loss: 129080.6875\n"
     ]
    }
   ],
   "source": [
    "checkpoint_cb = keras.callbacks.ModelCheckpoint(\n",
    "    \"my_keras_model_saved_using_callbacks.h5\",\n",
    "    save_best_only=True  # Only saves the model when performance on validation set is best so far,\n",
    "    # can be used for Early Stopping\n",
    ")\n",
    "history = model_2.fit(\n",
    "    [X_train_A, X_train_B],\n",
    "    [y_train, y_train],\n",
    "    validation_data=([X_valid_A, X_valid_B], [y_valid, y_valid]),\n",
    "    epochs=20,\n",
    "    callbacks=[checkpoint_cb],\n",
    ")"
   ]
  },
  {
   "cell_type": "code",
   "execution_count": null,
   "id": "d424de38-9721-40e1-baf1-6aa64e4a358d",
   "metadata": {},
   "outputs": [],
   "source": []
  },
  {
   "cell_type": "code",
   "execution_count": null,
   "id": "8fce89dd-5083-4a63-9252-e5e5e5f113e9",
   "metadata": {},
   "outputs": [],
   "source": []
  },
  {
   "cell_type": "code",
   "execution_count": null,
   "id": "b53486fd-73ef-454d-a5fc-785a3ee7fb0e",
   "metadata": {},
   "outputs": [],
   "source": []
  },
  {
   "cell_type": "markdown",
   "id": "8970ec8d-d344-4529-8d90-7a150c6ad72a",
   "metadata": {
    "jp-MarkdownHeadingCollapsed": true
   },
   "source": [
    "## Searching for optimum hyperparameters using RandomisedSearchCV [NOT WORKING!]: TRY KERAS TUNER LATER"
   ]
  },
  {
   "cell_type": "code",
   "execution_count": 119,
   "id": "62cbf1fb-e946-464c-b043-c543a3f5f2f5",
   "metadata": {
    "execution": {
     "iopub.execute_input": "2024-01-14T18:44:46.942450Z",
     "iopub.status.busy": "2024-01-14T18:44:46.941828Z",
     "iopub.status.idle": "2024-01-14T18:44:46.953919Z",
     "shell.execute_reply": "2024-01-14T18:44:46.952418Z",
     "shell.execute_reply.started": "2024-01-14T18:44:46.942388Z"
    }
   },
   "outputs": [],
   "source": [
    "def build_model(n_hidden=1, n_neurons=30, optimizer_learning_rate=3e-3, input_shape=[8]):\n",
    "    model = keras.models.Sequential()\n",
    "    model.add(keras.layers.InputLayer(input_shape=input_shape))\n",
    "    for layer in range(n_hidden):\n",
    "        model.add(keras.layers.Dense(n_neurons, activation=\"relu\"))\n",
    "    model.add(keras.layers.Dense(1))\n",
    "    optimizer = keras.optimizers.SGD(learning_rate=optimizer_learning_rate)\n",
    "    model.compile(loss=\"mse\", optimizer=optimizer)\n",
    "    return model"
   ]
  },
  {
   "cell_type": "code",
   "execution_count": 120,
   "id": "03cf9911-c593-454a-9b51-c0bdca95f2b2",
   "metadata": {
    "execution": {
     "iopub.execute_input": "2024-01-14T18:44:59.260201Z",
     "iopub.status.busy": "2024-01-14T18:44:59.259971Z",
     "iopub.status.idle": "2024-01-14T18:44:59.263527Z",
     "shell.execute_reply": "2024-01-14T18:44:59.262853Z",
     "shell.execute_reply.started": "2024-01-14T18:44:59.260180Z"
    }
   },
   "outputs": [],
   "source": [
    "# Creating a keras regressor on the above defined model function\n",
    "keras_reg = KerasRegressor(build_model)"
   ]
  },
  {
   "cell_type": "code",
   "execution_count": 121,
   "id": "8e376e89-0dc4-4228-bea0-6a857d84bf62",
   "metadata": {
    "execution": {
     "iopub.execute_input": "2024-01-14T18:45:00.025026Z",
     "iopub.status.busy": "2024-01-14T18:45:00.024787Z",
     "iopub.status.idle": "2024-01-14T18:46:00.673909Z",
     "shell.execute_reply": "2024-01-14T18:46:00.673520Z",
     "shell.execute_reply.started": "2024-01-14T18:45:00.025004Z"
    },
    "scrolled": true
   },
   "outputs": [
    {
     "name": "stdout",
     "output_type": "stream",
     "text": [
      "Epoch 1/100\n",
      "363/363 [==============================] - 1s 2ms/step - loss: 1.2217 - val_loss: 105221.4766\n",
      "Epoch 2/100\n",
      "363/363 [==============================] - 1s 2ms/step - loss: 0.6189 - val_loss: 127731.5078\n",
      "Epoch 3/100\n",
      "363/363 [==============================] - 1s 2ms/step - loss: 0.5648 - val_loss: 81686.0234\n",
      "Epoch 4/100\n",
      "363/363 [==============================] - 1s 2ms/step - loss: 0.5317 - val_loss: 73249.5938\n",
      "Epoch 5/100\n",
      "363/363 [==============================] - 1s 2ms/step - loss: 0.5078 - val_loss: 65894.3906\n",
      "Epoch 6/100\n",
      "363/363 [==============================] - 1s 2ms/step - loss: 0.4909 - val_loss: 51382.8008\n",
      "Epoch 7/100\n",
      "363/363 [==============================] - 1s 2ms/step - loss: 0.4792 - val_loss: 49408.7383\n",
      "Epoch 8/100\n",
      "363/363 [==============================] - 1s 2ms/step - loss: 0.4713 - val_loss: 54753.3477\n",
      "Epoch 9/100\n",
      "363/363 [==============================] - 1s 2ms/step - loss: 0.4656 - val_loss: 55384.1289\n",
      "Epoch 10/100\n",
      "363/363 [==============================] - 1s 2ms/step - loss: 0.4607 - val_loss: 48518.0430\n",
      "Epoch 11/100\n",
      "363/363 [==============================] - 1s 2ms/step - loss: 0.4565 - val_loss: 49225.2578\n",
      "Epoch 12/100\n",
      "363/363 [==============================] - 1s 2ms/step - loss: 0.4528 - val_loss: 44715.1172\n",
      "Epoch 13/100\n",
      "363/363 [==============================] - 1s 2ms/step - loss: 0.4497 - val_loss: 50661.2578\n",
      "Epoch 14/100\n",
      "363/363 [==============================] - 1s 2ms/step - loss: 0.4468 - val_loss: 59623.4727\n",
      "Epoch 15/100\n",
      "363/363 [==============================] - 1s 2ms/step - loss: 0.4434 - val_loss: 51114.3477\n",
      "Epoch 16/100\n",
      "363/363 [==============================] - 1s 2ms/step - loss: 0.4408 - val_loss: 59273.2695\n",
      "Epoch 17/100\n",
      "363/363 [==============================] - 1s 2ms/step - loss: 0.4378 - val_loss: 53326.9336\n",
      "Epoch 18/100\n",
      "363/363 [==============================] - 1s 2ms/step - loss: 0.4359 - val_loss: 55554.7422\n",
      "Epoch 19/100\n",
      "363/363 [==============================] - 1s 2ms/step - loss: 0.4334 - val_loss: 50992.8516\n",
      "Epoch 20/100\n",
      "363/363 [==============================] - 1s 2ms/step - loss: 0.4317 - val_loss: 43459.5078\n",
      "Epoch 21/100\n",
      "363/363 [==============================] - 1s 2ms/step - loss: 0.4293 - val_loss: 59864.8945\n",
      "Epoch 22/100\n",
      "363/363 [==============================] - 1s 2ms/step - loss: 0.4265 - val_loss: 52406.6016\n",
      "Epoch 23/100\n",
      "363/363 [==============================] - 1s 2ms/step - loss: 0.4248 - val_loss: 64837.8711\n",
      "Epoch 24/100\n",
      "363/363 [==============================] - 1s 2ms/step - loss: 0.4227 - val_loss: 58196.9375\n",
      "Epoch 25/100\n",
      "363/363 [==============================] - 1s 2ms/step - loss: 0.4207 - val_loss: 64075.8750\n",
      "Epoch 26/100\n",
      "363/363 [==============================] - 1s 2ms/step - loss: 0.4197 - val_loss: 60186.6367\n",
      "Epoch 27/100\n",
      "363/363 [==============================] - 1s 2ms/step - loss: 0.4173 - val_loss: 65220.9609\n",
      "Epoch 28/100\n",
      "363/363 [==============================] - 1s 2ms/step - loss: 0.4164 - val_loss: 61231.6211\n",
      "Epoch 29/100\n",
      "363/363 [==============================] - 1s 2ms/step - loss: 0.4142 - val_loss: 59822.8711\n",
      "Epoch 30/100\n",
      "363/363 [==============================] - 1s 2ms/step - loss: 0.4128 - val_loss: 57538.3242\n",
      "Epoch 31/100\n",
      "363/363 [==============================] - 1s 2ms/step - loss: 0.4107 - val_loss: 53421.3789\n",
      "Epoch 32/100\n",
      "363/363 [==============================] - 1s 2ms/step - loss: 0.4095 - val_loss: 58357.8516\n",
      "Epoch 33/100\n",
      "363/363 [==============================] - 1s 2ms/step - loss: 0.4083 - val_loss: 68558.1875\n",
      "Epoch 34/100\n",
      "363/363 [==============================] - 1s 2ms/step - loss: 0.4068 - val_loss: 54357.9336\n",
      "Epoch 35/100\n",
      "363/363 [==============================] - 1s 2ms/step - loss: 0.4053 - val_loss: 53312.0117\n",
      "Epoch 36/100\n",
      "363/363 [==============================] - 1s 2ms/step - loss: 0.4043 - val_loss: 60943.7930\n",
      "Epoch 37/100\n",
      "363/363 [==============================] - 1s 2ms/step - loss: 0.4029 - val_loss: 50704.0742\n",
      "Epoch 38/100\n",
      "363/363 [==============================] - 1s 2ms/step - loss: 0.4016 - val_loss: 60596.1484\n",
      "Epoch 39/100\n",
      "363/363 [==============================] - 1s 2ms/step - loss: 0.4006 - val_loss: 57457.9219\n",
      "Epoch 40/100\n",
      "363/363 [==============================] - 1s 2ms/step - loss: 0.3994 - val_loss: 51840.8164\n",
      "Epoch 41/100\n",
      "363/363 [==============================] - 1s 2ms/step - loss: 0.3982 - val_loss: 49363.1406\n",
      "Epoch 42/100\n",
      "363/363 [==============================] - 1s 2ms/step - loss: 0.3967 - val_loss: 55909.0977\n",
      "Epoch 43/100\n",
      "363/363 [==============================] - 1s 2ms/step - loss: 0.3956 - val_loss: 53703.5664\n",
      "Epoch 44/100\n",
      "363/363 [==============================] - 1s 2ms/step - loss: 0.3944 - val_loss: 53628.3828\n",
      "Epoch 45/100\n",
      "363/363 [==============================] - 1s 2ms/step - loss: 0.3936 - val_loss: 54877.8711\n",
      "Epoch 46/100\n",
      "363/363 [==============================] - 1s 2ms/step - loss: 0.3925 - val_loss: 48126.2422\n",
      "Epoch 47/100\n",
      "363/363 [==============================] - 1s 2ms/step - loss: 0.3913 - val_loss: 55926.8711\n",
      "Epoch 48/100\n",
      "363/363 [==============================] - 1s 2ms/step - loss: 0.3904 - val_loss: 47228.1094\n",
      "Epoch 49/100\n",
      "363/363 [==============================] - 1s 2ms/step - loss: 0.3903 - val_loss: 56967.9297\n",
      "Epoch 50/100\n",
      "363/363 [==============================] - 1s 2ms/step - loss: 0.3885 - val_loss: 57687.7148\n",
      "Epoch 51/100\n",
      "363/363 [==============================] - 1s 2ms/step - loss: 0.3880 - val_loss: 46004.2656\n",
      "Epoch 52/100\n",
      "363/363 [==============================] - 1s 2ms/step - loss: 0.3880 - val_loss: 52438.8438\n",
      "Epoch 53/100\n",
      "363/363 [==============================] - 1s 2ms/step - loss: 0.3856 - val_loss: 62190.0508\n",
      "Epoch 54/100\n",
      "363/363 [==============================] - 1s 2ms/step - loss: 0.3857 - val_loss: 55289.5156\n",
      "Epoch 55/100\n",
      "363/363 [==============================] - 1s 2ms/step - loss: 0.3840 - val_loss: 51432.1328\n",
      "Epoch 56/100\n",
      "363/363 [==============================] - 1s 2ms/step - loss: 0.3832 - val_loss: 46077.3906\n",
      "Epoch 57/100\n",
      "363/363 [==============================] - 1s 2ms/step - loss: 0.3825 - val_loss: 41807.0703\n",
      "Epoch 58/100\n",
      "363/363 [==============================] - 1s 2ms/step - loss: 0.3817 - val_loss: 48468.0039\n",
      "Epoch 59/100\n",
      "363/363 [==============================] - 1s 2ms/step - loss: 0.3808 - val_loss: 53228.7344\n",
      "Epoch 60/100\n",
      "363/363 [==============================] - 1s 2ms/step - loss: 0.3799 - val_loss: 53847.2383\n",
      "Epoch 61/100\n",
      "363/363 [==============================] - 1s 2ms/step - loss: 0.3793 - val_loss: 49897.3906\n",
      "Epoch 62/100\n",
      "363/363 [==============================] - 1s 2ms/step - loss: 0.3786 - val_loss: 52055.5664\n",
      "Epoch 63/100\n",
      "363/363 [==============================] - 1s 2ms/step - loss: 0.3772 - val_loss: 54754.2461\n",
      "Epoch 64/100\n",
      "363/363 [==============================] - 1s 2ms/step - loss: 0.3781 - val_loss: 55432.3789\n",
      "Epoch 65/100\n",
      "363/363 [==============================] - 1s 2ms/step - loss: 0.3764 - val_loss: 56378.5000\n",
      "Epoch 66/100\n",
      "363/363 [==============================] - 1s 2ms/step - loss: 0.3758 - val_loss: 60480.7891\n",
      "Epoch 67/100\n",
      "363/363 [==============================] - 1s 2ms/step - loss: 0.3752 - val_loss: 71011.9062\n",
      "Epoch 68/100\n",
      "363/363 [==============================] - 1s 2ms/step - loss: 0.3752 - val_loss: 48376.6641\n",
      "Epoch 69/100\n",
      "363/363 [==============================] - 1s 2ms/step - loss: 0.3740 - val_loss: 54636.1523\n",
      "Epoch 70/100\n",
      "363/363 [==============================] - 1s 2ms/step - loss: 0.3730 - val_loss: 56313.3711\n",
      "Epoch 71/100\n",
      "363/363 [==============================] - 1s 2ms/step - loss: 0.3725 - val_loss: 51536.7695\n",
      "Epoch 72/100\n",
      "363/363 [==============================] - 1s 2ms/step - loss: 0.3724 - val_loss: 55086.2383\n",
      "Epoch 73/100\n",
      "363/363 [==============================] - 1s 2ms/step - loss: 0.3712 - val_loss: 43483.7383\n",
      "Epoch 74/100\n",
      "363/363 [==============================] - 1s 2ms/step - loss: 0.3712 - val_loss: 50412.6172\n",
      "Epoch 75/100\n",
      "363/363 [==============================] - 1s 2ms/step - loss: 0.3704 - val_loss: 52414.5195\n",
      "Epoch 76/100\n",
      "363/363 [==============================] - 1s 2ms/step - loss: 0.3700 - val_loss: 43217.0820\n",
      "Epoch 77/100\n",
      "363/363 [==============================] - 1s 2ms/step - loss: 0.3693 - val_loss: 51948.5000\n",
      "Epoch 78/100\n",
      "363/363 [==============================] - 1s 2ms/step - loss: 0.3686 - val_loss: 55418.4688\n",
      "Epoch 79/100\n",
      "363/363 [==============================] - 1s 2ms/step - loss: 0.3684 - val_loss: 63079.5039\n",
      "Epoch 80/100\n",
      "363/363 [==============================] - 1s 2ms/step - loss: 0.3684 - val_loss: 71445.8594\n",
      "Epoch 81/100\n",
      "363/363 [==============================] - 1s 2ms/step - loss: 0.3674 - val_loss: 73436.5078\n",
      "Epoch 82/100\n",
      "363/363 [==============================] - 1s 2ms/step - loss: 0.3672 - val_loss: 55309.8594\n",
      "Epoch 83/100\n",
      "363/363 [==============================] - 1s 2ms/step - loss: 0.3672 - val_loss: 50520.2305\n",
      "Epoch 84/100\n",
      "363/363 [==============================] - 1s 2ms/step - loss: 0.3666 - val_loss: 53763.4375\n",
      "Epoch 85/100\n",
      "363/363 [==============================] - 1s 2ms/step - loss: 0.3656 - val_loss: 49584.2812\n",
      "Epoch 86/100\n",
      "363/363 [==============================] - 1s 2ms/step - loss: 0.3656 - val_loss: 43439.8672\n",
      "Epoch 87/100\n",
      "363/363 [==============================] - 1s 2ms/step - loss: 0.3651 - val_loss: 53845.2422\n",
      "Epoch 88/100\n",
      "363/363 [==============================] - 1s 2ms/step - loss: 0.3642 - val_loss: 69706.1875\n",
      "Epoch 89/100\n",
      "363/363 [==============================] - 1s 2ms/step - loss: 0.3655 - val_loss: 55866.4570\n",
      "Epoch 90/100\n",
      "363/363 [==============================] - 1s 2ms/step - loss: 0.3637 - val_loss: 68829.2422\n",
      "Epoch 91/100\n",
      "363/363 [==============================] - 1s 2ms/step - loss: 0.3630 - val_loss: 48752.5117\n",
      "Epoch 92/100\n",
      "363/363 [==============================] - 1s 2ms/step - loss: 0.3630 - val_loss: 45871.9141\n",
      "Epoch 93/100\n",
      "363/363 [==============================] - 1s 2ms/step - loss: 0.3636 - val_loss: 48952.4375\n",
      "Epoch 94/100\n",
      "363/363 [==============================] - 1s 2ms/step - loss: 0.3615 - val_loss: 52371.0000\n",
      "Epoch 95/100\n",
      "363/363 [==============================] - 1s 2ms/step - loss: 0.3617 - val_loss: 56452.0938\n",
      "Epoch 96/100\n",
      "363/363 [==============================] - 1s 2ms/step - loss: 0.3605 - val_loss: 41779.1719\n",
      "Epoch 97/100\n",
      "363/363 [==============================] - 1s 2ms/step - loss: 0.3622 - val_loss: 56211.8281\n",
      "Epoch 98/100\n",
      "363/363 [==============================] - 1s 2ms/step - loss: 0.3601 - val_loss: 73063.7891\n",
      "Epoch 99/100\n",
      "363/363 [==============================] - 1s 2ms/step - loss: 0.3609 - val_loss: 55866.9805\n",
      "Epoch 100/100\n",
      "363/363 [==============================] - 1s 2ms/step - loss: 0.3599 - val_loss: 47989.9727\n",
      "162/162 [==============================] - 0s 833us/step\n",
      "1/1 [==============================] - 0s 12ms/step\n"
     ]
    }
   ],
   "source": [
    "keras_reg.fit(\n",
    "    X_train,\n",
    "    y_train,\n",
    "    epochs=100,\n",
    "    validation_data=(X_valid, y_valid),\n",
    "    callbacks=[keras.callbacks.EarlyStopping(patience=10)],\n",
    ")\n",
    "mse_test = keras_reg.score(X_test, y_test)\n",
    "y_pred = keras_reg.predict(X_new)"
   ]
  },
  {
   "cell_type": "code",
   "execution_count": 125,
   "id": "4c6530c1-83bb-41ef-94ff-af56b10fa817",
   "metadata": {
    "execution": {
     "iopub.execute_input": "2024-01-14T18:50:53.583449Z",
     "iopub.status.busy": "2024-01-14T18:50:53.583245Z",
     "iopub.status.idle": "2024-01-14T18:50:54.041587Z",
     "shell.execute_reply": "2024-01-14T18:50:54.040786Z",
     "shell.execute_reply.started": "2024-01-14T18:50:53.583430Z"
    },
    "scrolled": true
   },
   "outputs": [
    {
     "ename": "ValueError",
     "evalue": "Invalid parameter n_neurons for estimator KerasRegressor.\nThis issue can likely be resolved by setting this parameter in the KerasRegressor constructor:\n`KerasRegressor(n_neurons=57)`\nCheck the list of available parameters with `estimator.get_params().keys()`",
     "output_type": "error",
     "traceback": [
      "\u001b[0;31m---------------------------------------------------------------------------\u001b[0m",
      "\u001b[0;31mValueError\u001b[0m                                Traceback (most recent call last)",
      "Cell \u001b[0;32mIn[125], line 10\u001b[0m\n\u001b[1;32m      4\u001b[0m param_distribs \u001b[38;5;241m=\u001b[39m {\n\u001b[1;32m      5\u001b[0m     \u001b[38;5;124m\"\u001b[39m\u001b[38;5;124mn_neurons\u001b[39m\u001b[38;5;124m\"\u001b[39m: np\u001b[38;5;241m.\u001b[39marange(\u001b[38;5;241m1\u001b[39m, \u001b[38;5;241m100\u001b[39m),\n\u001b[1;32m      6\u001b[0m     \u001b[38;5;124m\"\u001b[39m\u001b[38;5;124moptimizer_learning_rate\u001b[39m\u001b[38;5;124m\"\u001b[39m: reciprocal(\u001b[38;5;241m3e-4\u001b[39m, \u001b[38;5;241m3e-2\u001b[39m),\n\u001b[1;32m      7\u001b[0m }\n\u001b[1;32m      9\u001b[0m rnd_search_cv \u001b[38;5;241m=\u001b[39m RandomizedSearchCV(keras_reg, param_distribs, n_iter\u001b[38;5;241m=\u001b[39m\u001b[38;5;241m10\u001b[39m, cv\u001b[38;5;241m=\u001b[39m\u001b[38;5;241m3\u001b[39m)\n\u001b[0;32m---> 10\u001b[0m \u001b[43mrnd_search_cv\u001b[49m\u001b[38;5;241;43m.\u001b[39;49m\u001b[43mfit\u001b[49m\u001b[43m(\u001b[49m\n\u001b[1;32m     11\u001b[0m \u001b[43m    \u001b[49m\u001b[43mX_train\u001b[49m\u001b[43m,\u001b[49m\n\u001b[1;32m     12\u001b[0m \u001b[43m    \u001b[49m\u001b[43my_train\u001b[49m\u001b[43m,\u001b[49m\n\u001b[1;32m     13\u001b[0m \u001b[43m    \u001b[49m\u001b[43mepochs\u001b[49m\u001b[38;5;241;43m=\u001b[39;49m\u001b[38;5;241;43m100\u001b[39;49m\u001b[43m,\u001b[49m\n\u001b[1;32m     14\u001b[0m \u001b[43m    \u001b[49m\u001b[43mvalidation_data\u001b[49m\u001b[38;5;241;43m=\u001b[39;49m\u001b[43m(\u001b[49m\u001b[43mX_valid\u001b[49m\u001b[43m,\u001b[49m\u001b[43m \u001b[49m\u001b[43my_valid\u001b[49m\u001b[43m)\u001b[49m\u001b[43m,\u001b[49m\n\u001b[1;32m     15\u001b[0m \u001b[43m    \u001b[49m\u001b[43mcallbacks\u001b[49m\u001b[38;5;241;43m=\u001b[39;49m\u001b[43m[\u001b[49m\u001b[43mkeras\u001b[49m\u001b[38;5;241;43m.\u001b[39;49m\u001b[43mcallbacks\u001b[49m\u001b[38;5;241;43m.\u001b[39;49m\u001b[43mEarlyStopping\u001b[49m\u001b[43m(\u001b[49m\u001b[43mpatience\u001b[49m\u001b[38;5;241;43m=\u001b[39;49m\u001b[38;5;241;43m10\u001b[39;49m\u001b[43m)\u001b[49m\u001b[43m]\u001b[49m\u001b[43m,\u001b[49m\n\u001b[1;32m     16\u001b[0m \u001b[43m)\u001b[49m\n",
      "File \u001b[0;32m~/Softwares/PythonVenv/py3.11/lib/python3.11/site-packages/sklearn/base.py:1152\u001b[0m, in \u001b[0;36m_fit_context.<locals>.decorator.<locals>.wrapper\u001b[0;34m(estimator, *args, **kwargs)\u001b[0m\n\u001b[1;32m   1145\u001b[0m     estimator\u001b[38;5;241m.\u001b[39m_validate_params()\n\u001b[1;32m   1147\u001b[0m \u001b[38;5;28;01mwith\u001b[39;00m config_context(\n\u001b[1;32m   1148\u001b[0m     skip_parameter_validation\u001b[38;5;241m=\u001b[39m(\n\u001b[1;32m   1149\u001b[0m         prefer_skip_nested_validation \u001b[38;5;129;01mor\u001b[39;00m global_skip_validation\n\u001b[1;32m   1150\u001b[0m     )\n\u001b[1;32m   1151\u001b[0m ):\n\u001b[0;32m-> 1152\u001b[0m     \u001b[38;5;28;01mreturn\u001b[39;00m \u001b[43mfit_method\u001b[49m\u001b[43m(\u001b[49m\u001b[43mestimator\u001b[49m\u001b[43m,\u001b[49m\u001b[43m \u001b[49m\u001b[38;5;241;43m*\u001b[39;49m\u001b[43margs\u001b[49m\u001b[43m,\u001b[49m\u001b[43m \u001b[49m\u001b[38;5;241;43m*\u001b[39;49m\u001b[38;5;241;43m*\u001b[39;49m\u001b[43mkwargs\u001b[49m\u001b[43m)\u001b[49m\n",
      "File \u001b[0;32m~/Softwares/PythonVenv/py3.11/lib/python3.11/site-packages/sklearn/model_selection/_search.py:898\u001b[0m, in \u001b[0;36mBaseSearchCV.fit\u001b[0;34m(self, X, y, groups, **fit_params)\u001b[0m\n\u001b[1;32m    892\u001b[0m     results \u001b[38;5;241m=\u001b[39m \u001b[38;5;28mself\u001b[39m\u001b[38;5;241m.\u001b[39m_format_results(\n\u001b[1;32m    893\u001b[0m         all_candidate_params, n_splits, all_out, all_more_results\n\u001b[1;32m    894\u001b[0m     )\n\u001b[1;32m    896\u001b[0m     \u001b[38;5;28;01mreturn\u001b[39;00m results\n\u001b[0;32m--> 898\u001b[0m \u001b[38;5;28;43mself\u001b[39;49m\u001b[38;5;241;43m.\u001b[39;49m\u001b[43m_run_search\u001b[49m\u001b[43m(\u001b[49m\u001b[43mevaluate_candidates\u001b[49m\u001b[43m)\u001b[49m\n\u001b[1;32m    900\u001b[0m \u001b[38;5;66;03m# multimetric is determined here because in the case of a callable\u001b[39;00m\n\u001b[1;32m    901\u001b[0m \u001b[38;5;66;03m# self.scoring the return type is only known after calling\u001b[39;00m\n\u001b[1;32m    902\u001b[0m first_test_score \u001b[38;5;241m=\u001b[39m all_out[\u001b[38;5;241m0\u001b[39m][\u001b[38;5;124m\"\u001b[39m\u001b[38;5;124mtest_scores\u001b[39m\u001b[38;5;124m\"\u001b[39m]\n",
      "File \u001b[0;32m~/Softwares/PythonVenv/py3.11/lib/python3.11/site-packages/sklearn/model_selection/_search.py:1809\u001b[0m, in \u001b[0;36mRandomizedSearchCV._run_search\u001b[0;34m(self, evaluate_candidates)\u001b[0m\n\u001b[1;32m   1807\u001b[0m \u001b[38;5;28;01mdef\u001b[39;00m \u001b[38;5;21m_run_search\u001b[39m(\u001b[38;5;28mself\u001b[39m, evaluate_candidates):\n\u001b[1;32m   1808\u001b[0m \u001b[38;5;250m    \u001b[39m\u001b[38;5;124;03m\"\"\"Search n_iter candidates from param_distributions\"\"\"\u001b[39;00m\n\u001b[0;32m-> 1809\u001b[0m     \u001b[43mevaluate_candidates\u001b[49m\u001b[43m(\u001b[49m\n\u001b[1;32m   1810\u001b[0m \u001b[43m        \u001b[49m\u001b[43mParameterSampler\u001b[49m\u001b[43m(\u001b[49m\n\u001b[1;32m   1811\u001b[0m \u001b[43m            \u001b[49m\u001b[38;5;28;43mself\u001b[39;49m\u001b[38;5;241;43m.\u001b[39;49m\u001b[43mparam_distributions\u001b[49m\u001b[43m,\u001b[49m\u001b[43m \u001b[49m\u001b[38;5;28;43mself\u001b[39;49m\u001b[38;5;241;43m.\u001b[39;49m\u001b[43mn_iter\u001b[49m\u001b[43m,\u001b[49m\u001b[43m \u001b[49m\u001b[43mrandom_state\u001b[49m\u001b[38;5;241;43m=\u001b[39;49m\u001b[38;5;28;43mself\u001b[39;49m\u001b[38;5;241;43m.\u001b[39;49m\u001b[43mrandom_state\u001b[49m\n\u001b[1;32m   1812\u001b[0m \u001b[43m        \u001b[49m\u001b[43m)\u001b[49m\n\u001b[1;32m   1813\u001b[0m \u001b[43m    \u001b[49m\u001b[43m)\u001b[49m\n",
      "File \u001b[0;32m~/Softwares/PythonVenv/py3.11/lib/python3.11/site-packages/sklearn/model_selection/_search.py:845\u001b[0m, in \u001b[0;36mBaseSearchCV.fit.<locals>.evaluate_candidates\u001b[0;34m(candidate_params, cv, more_results)\u001b[0m\n\u001b[1;32m    837\u001b[0m \u001b[38;5;28;01mif\u001b[39;00m \u001b[38;5;28mself\u001b[39m\u001b[38;5;241m.\u001b[39mverbose \u001b[38;5;241m>\u001b[39m \u001b[38;5;241m0\u001b[39m:\n\u001b[1;32m    838\u001b[0m     \u001b[38;5;28mprint\u001b[39m(\n\u001b[1;32m    839\u001b[0m         \u001b[38;5;124m\"\u001b[39m\u001b[38;5;124mFitting \u001b[39m\u001b[38;5;132;01m{0}\u001b[39;00m\u001b[38;5;124m folds for each of \u001b[39m\u001b[38;5;132;01m{1}\u001b[39;00m\u001b[38;5;124m candidates,\u001b[39m\u001b[38;5;124m\"\u001b[39m\n\u001b[1;32m    840\u001b[0m         \u001b[38;5;124m\"\u001b[39m\u001b[38;5;124m totalling \u001b[39m\u001b[38;5;132;01m{2}\u001b[39;00m\u001b[38;5;124m fits\u001b[39m\u001b[38;5;124m\"\u001b[39m\u001b[38;5;241m.\u001b[39mformat(\n\u001b[1;32m    841\u001b[0m             n_splits, n_candidates, n_candidates \u001b[38;5;241m*\u001b[39m n_splits\n\u001b[1;32m    842\u001b[0m         )\n\u001b[1;32m    843\u001b[0m     )\n\u001b[0;32m--> 845\u001b[0m out \u001b[38;5;241m=\u001b[39m \u001b[43mparallel\u001b[49m\u001b[43m(\u001b[49m\n\u001b[1;32m    846\u001b[0m \u001b[43m    \u001b[49m\u001b[43mdelayed\u001b[49m\u001b[43m(\u001b[49m\u001b[43m_fit_and_score\u001b[49m\u001b[43m)\u001b[49m\u001b[43m(\u001b[49m\n\u001b[1;32m    847\u001b[0m \u001b[43m        \u001b[49m\u001b[43mclone\u001b[49m\u001b[43m(\u001b[49m\u001b[43mbase_estimator\u001b[49m\u001b[43m)\u001b[49m\u001b[43m,\u001b[49m\n\u001b[1;32m    848\u001b[0m \u001b[43m        \u001b[49m\u001b[43mX\u001b[49m\u001b[43m,\u001b[49m\n\u001b[1;32m    849\u001b[0m \u001b[43m        \u001b[49m\u001b[43my\u001b[49m\u001b[43m,\u001b[49m\n\u001b[1;32m    850\u001b[0m \u001b[43m        \u001b[49m\u001b[43mtrain\u001b[49m\u001b[38;5;241;43m=\u001b[39;49m\u001b[43mtrain\u001b[49m\u001b[43m,\u001b[49m\n\u001b[1;32m    851\u001b[0m \u001b[43m        \u001b[49m\u001b[43mtest\u001b[49m\u001b[38;5;241;43m=\u001b[39;49m\u001b[43mtest\u001b[49m\u001b[43m,\u001b[49m\n\u001b[1;32m    852\u001b[0m \u001b[43m        \u001b[49m\u001b[43mparameters\u001b[49m\u001b[38;5;241;43m=\u001b[39;49m\u001b[43mparameters\u001b[49m\u001b[43m,\u001b[49m\n\u001b[1;32m    853\u001b[0m \u001b[43m        \u001b[49m\u001b[43msplit_progress\u001b[49m\u001b[38;5;241;43m=\u001b[39;49m\u001b[43m(\u001b[49m\u001b[43msplit_idx\u001b[49m\u001b[43m,\u001b[49m\u001b[43m \u001b[49m\u001b[43mn_splits\u001b[49m\u001b[43m)\u001b[49m\u001b[43m,\u001b[49m\n\u001b[1;32m    854\u001b[0m \u001b[43m        \u001b[49m\u001b[43mcandidate_progress\u001b[49m\u001b[38;5;241;43m=\u001b[39;49m\u001b[43m(\u001b[49m\u001b[43mcand_idx\u001b[49m\u001b[43m,\u001b[49m\u001b[43m \u001b[49m\u001b[43mn_candidates\u001b[49m\u001b[43m)\u001b[49m\u001b[43m,\u001b[49m\n\u001b[1;32m    855\u001b[0m \u001b[43m        \u001b[49m\u001b[38;5;241;43m*\u001b[39;49m\u001b[38;5;241;43m*\u001b[39;49m\u001b[43mfit_and_score_kwargs\u001b[49m\u001b[43m,\u001b[49m\n\u001b[1;32m    856\u001b[0m \u001b[43m    \u001b[49m\u001b[43m)\u001b[49m\n\u001b[1;32m    857\u001b[0m \u001b[43m    \u001b[49m\u001b[38;5;28;43;01mfor\u001b[39;49;00m\u001b[43m \u001b[49m\u001b[43m(\u001b[49m\u001b[43mcand_idx\u001b[49m\u001b[43m,\u001b[49m\u001b[43m \u001b[49m\u001b[43mparameters\u001b[49m\u001b[43m)\u001b[49m\u001b[43m,\u001b[49m\u001b[43m \u001b[49m\u001b[43m(\u001b[49m\u001b[43msplit_idx\u001b[49m\u001b[43m,\u001b[49m\u001b[43m \u001b[49m\u001b[43m(\u001b[49m\u001b[43mtrain\u001b[49m\u001b[43m,\u001b[49m\u001b[43m \u001b[49m\u001b[43mtest\u001b[49m\u001b[43m)\u001b[49m\u001b[43m)\u001b[49m\u001b[43m \u001b[49m\u001b[38;5;129;43;01min\u001b[39;49;00m\u001b[43m \u001b[49m\u001b[43mproduct\u001b[49m\u001b[43m(\u001b[49m\n\u001b[1;32m    858\u001b[0m \u001b[43m        \u001b[49m\u001b[38;5;28;43menumerate\u001b[39;49m\u001b[43m(\u001b[49m\u001b[43mcandidate_params\u001b[49m\u001b[43m)\u001b[49m\u001b[43m,\u001b[49m\u001b[43m \u001b[49m\u001b[38;5;28;43menumerate\u001b[39;49m\u001b[43m(\u001b[49m\u001b[43mcv\u001b[49m\u001b[38;5;241;43m.\u001b[39;49m\u001b[43msplit\u001b[49m\u001b[43m(\u001b[49m\u001b[43mX\u001b[49m\u001b[43m,\u001b[49m\u001b[43m \u001b[49m\u001b[43my\u001b[49m\u001b[43m,\u001b[49m\u001b[43m \u001b[49m\u001b[43mgroups\u001b[49m\u001b[43m)\u001b[49m\u001b[43m)\u001b[49m\n\u001b[1;32m    859\u001b[0m \u001b[43m    \u001b[49m\u001b[43m)\u001b[49m\n\u001b[1;32m    860\u001b[0m \u001b[43m\u001b[49m\u001b[43m)\u001b[49m\n\u001b[1;32m    862\u001b[0m \u001b[38;5;28;01mif\u001b[39;00m \u001b[38;5;28mlen\u001b[39m(out) \u001b[38;5;241m<\u001b[39m \u001b[38;5;241m1\u001b[39m:\n\u001b[1;32m    863\u001b[0m     \u001b[38;5;28;01mraise\u001b[39;00m \u001b[38;5;167;01mValueError\u001b[39;00m(\n\u001b[1;32m    864\u001b[0m         \u001b[38;5;124m\"\u001b[39m\u001b[38;5;124mNo fits were performed. \u001b[39m\u001b[38;5;124m\"\u001b[39m\n\u001b[1;32m    865\u001b[0m         \u001b[38;5;124m\"\u001b[39m\u001b[38;5;124mWas the CV iterator empty? \u001b[39m\u001b[38;5;124m\"\u001b[39m\n\u001b[1;32m    866\u001b[0m         \u001b[38;5;124m\"\u001b[39m\u001b[38;5;124mWere there no candidates?\u001b[39m\u001b[38;5;124m\"\u001b[39m\n\u001b[1;32m    867\u001b[0m     )\n",
      "File \u001b[0;32m~/Softwares/PythonVenv/py3.11/lib/python3.11/site-packages/sklearn/utils/parallel.py:65\u001b[0m, in \u001b[0;36mParallel.__call__\u001b[0;34m(self, iterable)\u001b[0m\n\u001b[1;32m     60\u001b[0m config \u001b[38;5;241m=\u001b[39m get_config()\n\u001b[1;32m     61\u001b[0m iterable_with_config \u001b[38;5;241m=\u001b[39m (\n\u001b[1;32m     62\u001b[0m     (_with_config(delayed_func, config), args, kwargs)\n\u001b[1;32m     63\u001b[0m     \u001b[38;5;28;01mfor\u001b[39;00m delayed_func, args, kwargs \u001b[38;5;129;01min\u001b[39;00m iterable\n\u001b[1;32m     64\u001b[0m )\n\u001b[0;32m---> 65\u001b[0m \u001b[38;5;28;01mreturn\u001b[39;00m \u001b[38;5;28;43msuper\u001b[39;49m\u001b[43m(\u001b[49m\u001b[43m)\u001b[49m\u001b[38;5;241;43m.\u001b[39;49m\u001b[38;5;21;43m__call__\u001b[39;49m\u001b[43m(\u001b[49m\u001b[43miterable_with_config\u001b[49m\u001b[43m)\u001b[49m\n",
      "File \u001b[0;32m~/Softwares/PythonVenv/py3.11/lib/python3.11/site-packages/joblib/parallel.py:1863\u001b[0m, in \u001b[0;36mParallel.__call__\u001b[0;34m(self, iterable)\u001b[0m\n\u001b[1;32m   1861\u001b[0m     output \u001b[38;5;241m=\u001b[39m \u001b[38;5;28mself\u001b[39m\u001b[38;5;241m.\u001b[39m_get_sequential_output(iterable)\n\u001b[1;32m   1862\u001b[0m     \u001b[38;5;28mnext\u001b[39m(output)\n\u001b[0;32m-> 1863\u001b[0m     \u001b[38;5;28;01mreturn\u001b[39;00m output \u001b[38;5;28;01mif\u001b[39;00m \u001b[38;5;28mself\u001b[39m\u001b[38;5;241m.\u001b[39mreturn_generator \u001b[38;5;28;01melse\u001b[39;00m \u001b[38;5;28;43mlist\u001b[39;49m\u001b[43m(\u001b[49m\u001b[43moutput\u001b[49m\u001b[43m)\u001b[49m\n\u001b[1;32m   1865\u001b[0m \u001b[38;5;66;03m# Let's create an ID that uniquely identifies the current call. If the\u001b[39;00m\n\u001b[1;32m   1866\u001b[0m \u001b[38;5;66;03m# call is interrupted early and that the same instance is immediately\u001b[39;00m\n\u001b[1;32m   1867\u001b[0m \u001b[38;5;66;03m# re-used, this id will be used to prevent workers that were\u001b[39;00m\n\u001b[1;32m   1868\u001b[0m \u001b[38;5;66;03m# concurrently finalizing a task from the previous call to run the\u001b[39;00m\n\u001b[1;32m   1869\u001b[0m \u001b[38;5;66;03m# callback.\u001b[39;00m\n\u001b[1;32m   1870\u001b[0m \u001b[38;5;28;01mwith\u001b[39;00m \u001b[38;5;28mself\u001b[39m\u001b[38;5;241m.\u001b[39m_lock:\n",
      "File \u001b[0;32m~/Softwares/PythonVenv/py3.11/lib/python3.11/site-packages/joblib/parallel.py:1792\u001b[0m, in \u001b[0;36mParallel._get_sequential_output\u001b[0;34m(self, iterable)\u001b[0m\n\u001b[1;32m   1790\u001b[0m \u001b[38;5;28mself\u001b[39m\u001b[38;5;241m.\u001b[39mn_dispatched_batches \u001b[38;5;241m+\u001b[39m\u001b[38;5;241m=\u001b[39m \u001b[38;5;241m1\u001b[39m\n\u001b[1;32m   1791\u001b[0m \u001b[38;5;28mself\u001b[39m\u001b[38;5;241m.\u001b[39mn_dispatched_tasks \u001b[38;5;241m+\u001b[39m\u001b[38;5;241m=\u001b[39m \u001b[38;5;241m1\u001b[39m\n\u001b[0;32m-> 1792\u001b[0m res \u001b[38;5;241m=\u001b[39m \u001b[43mfunc\u001b[49m\u001b[43m(\u001b[49m\u001b[38;5;241;43m*\u001b[39;49m\u001b[43margs\u001b[49m\u001b[43m,\u001b[49m\u001b[43m \u001b[49m\u001b[38;5;241;43m*\u001b[39;49m\u001b[38;5;241;43m*\u001b[39;49m\u001b[43mkwargs\u001b[49m\u001b[43m)\u001b[49m\n\u001b[1;32m   1793\u001b[0m \u001b[38;5;28mself\u001b[39m\u001b[38;5;241m.\u001b[39mn_completed_tasks \u001b[38;5;241m+\u001b[39m\u001b[38;5;241m=\u001b[39m \u001b[38;5;241m1\u001b[39m\n\u001b[1;32m   1794\u001b[0m \u001b[38;5;28mself\u001b[39m\u001b[38;5;241m.\u001b[39mprint_progress()\n",
      "File \u001b[0;32m~/Softwares/PythonVenv/py3.11/lib/python3.11/site-packages/sklearn/utils/parallel.py:127\u001b[0m, in \u001b[0;36m_FuncWrapper.__call__\u001b[0;34m(self, *args, **kwargs)\u001b[0m\n\u001b[1;32m    125\u001b[0m     config \u001b[38;5;241m=\u001b[39m {}\n\u001b[1;32m    126\u001b[0m \u001b[38;5;28;01mwith\u001b[39;00m config_context(\u001b[38;5;241m*\u001b[39m\u001b[38;5;241m*\u001b[39mconfig):\n\u001b[0;32m--> 127\u001b[0m     \u001b[38;5;28;01mreturn\u001b[39;00m \u001b[38;5;28;43mself\u001b[39;49m\u001b[38;5;241;43m.\u001b[39;49m\u001b[43mfunction\u001b[49m\u001b[43m(\u001b[49m\u001b[38;5;241;43m*\u001b[39;49m\u001b[43margs\u001b[49m\u001b[43m,\u001b[49m\u001b[43m \u001b[49m\u001b[38;5;241;43m*\u001b[39;49m\u001b[38;5;241;43m*\u001b[39;49m\u001b[43mkwargs\u001b[49m\u001b[43m)\u001b[49m\n",
      "File \u001b[0;32m~/Softwares/PythonVenv/py3.11/lib/python3.11/site-packages/sklearn/model_selection/_validation.py:717\u001b[0m, in \u001b[0;36m_fit_and_score\u001b[0;34m(estimator, X, y, scorer, train, test, verbose, parameters, fit_params, return_train_score, return_parameters, return_n_test_samples, return_times, return_estimator, split_progress, candidate_progress, error_score)\u001b[0m\n\u001b[1;32m    710\u001b[0m fit_params \u001b[38;5;241m=\u001b[39m _check_fit_params(X, fit_params, train)\n\u001b[1;32m    712\u001b[0m \u001b[38;5;28;01mif\u001b[39;00m parameters \u001b[38;5;129;01mis\u001b[39;00m \u001b[38;5;129;01mnot\u001b[39;00m \u001b[38;5;28;01mNone\u001b[39;00m:\n\u001b[1;32m    713\u001b[0m     \u001b[38;5;66;03m# here we clone the parameters, since sometimes the parameters\u001b[39;00m\n\u001b[1;32m    714\u001b[0m     \u001b[38;5;66;03m# themselves might be estimators, e.g. when we search over different\u001b[39;00m\n\u001b[1;32m    715\u001b[0m     \u001b[38;5;66;03m# estimators in a pipeline.\u001b[39;00m\n\u001b[1;32m    716\u001b[0m     \u001b[38;5;66;03m# ref: https://github.com/scikit-learn/scikit-learn/pull/26786\u001b[39;00m\n\u001b[0;32m--> 717\u001b[0m     estimator \u001b[38;5;241m=\u001b[39m \u001b[43mestimator\u001b[49m\u001b[38;5;241;43m.\u001b[39;49m\u001b[43mset_params\u001b[49m\u001b[43m(\u001b[49m\u001b[38;5;241;43m*\u001b[39;49m\u001b[38;5;241;43m*\u001b[39;49m\u001b[43mclone\u001b[49m\u001b[43m(\u001b[49m\u001b[43mparameters\u001b[49m\u001b[43m,\u001b[49m\u001b[43m \u001b[49m\u001b[43msafe\u001b[49m\u001b[38;5;241;43m=\u001b[39;49m\u001b[38;5;28;43;01mFalse\u001b[39;49;00m\u001b[43m)\u001b[49m\u001b[43m)\u001b[49m\n\u001b[1;32m    719\u001b[0m start_time \u001b[38;5;241m=\u001b[39m time\u001b[38;5;241m.\u001b[39mtime()\n\u001b[1;32m    721\u001b[0m X_train, y_train \u001b[38;5;241m=\u001b[39m _safe_split(estimator, X, y, train)\n",
      "File \u001b[0;32m~/Softwares/PythonVenv/py3.11/lib/python3.11/site-packages/scikeras/wrappers.py:1165\u001b[0m, in \u001b[0;36mBaseWrapper.set_params\u001b[0;34m(self, **params)\u001b[0m\n\u001b[1;32m   1161\u001b[0m             \u001b[38;5;28msuper\u001b[39m()\u001b[38;5;241m.\u001b[39mset_params(\u001b[38;5;241m*\u001b[39m\u001b[38;5;241m*\u001b[39m{param: value})\n\u001b[1;32m   1162\u001b[0m         \u001b[38;5;28;01mexcept\u001b[39;00m \u001b[38;5;167;01mValueError\u001b[39;00m:\n\u001b[1;32m   1163\u001b[0m             \u001b[38;5;66;03m# Give a SciKeras specific user message to aid\u001b[39;00m\n\u001b[1;32m   1164\u001b[0m             \u001b[38;5;66;03m# in moving from the Keras wrappers\u001b[39;00m\n\u001b[0;32m-> 1165\u001b[0m             \u001b[38;5;28;01mraise\u001b[39;00m \u001b[38;5;167;01mValueError\u001b[39;00m(\n\u001b[1;32m   1166\u001b[0m                 \u001b[38;5;124mf\u001b[39m\u001b[38;5;124m\"\u001b[39m\u001b[38;5;124mInvalid parameter \u001b[39m\u001b[38;5;132;01m{\u001b[39;00mparam\u001b[38;5;132;01m}\u001b[39;00m\u001b[38;5;124m for estimator \u001b[39m\u001b[38;5;132;01m{\u001b[39;00m\u001b[38;5;28mself\u001b[39m\u001b[38;5;241m.\u001b[39m\u001b[38;5;18m__name__\u001b[39m\u001b[38;5;132;01m}\u001b[39;00m\u001b[38;5;124m.\u001b[39m\u001b[38;5;124m\"\u001b[39m\n\u001b[1;32m   1167\u001b[0m                 \u001b[38;5;124m\"\u001b[39m\u001b[38;5;130;01m\\n\u001b[39;00m\u001b[38;5;124mThis issue can likely be resolved by setting this parameter\u001b[39m\u001b[38;5;124m\"\u001b[39m\n\u001b[1;32m   1168\u001b[0m                 \u001b[38;5;124mf\u001b[39m\u001b[38;5;124m\"\u001b[39m\u001b[38;5;124m in the \u001b[39m\u001b[38;5;132;01m{\u001b[39;00m\u001b[38;5;28mself\u001b[39m\u001b[38;5;241m.\u001b[39m\u001b[38;5;18m__name__\u001b[39m\u001b[38;5;132;01m}\u001b[39;00m\u001b[38;5;124m constructor:\u001b[39m\u001b[38;5;124m\"\u001b[39m\n\u001b[1;32m   1169\u001b[0m                 \u001b[38;5;124mf\u001b[39m\u001b[38;5;124m\"\u001b[39m\u001b[38;5;130;01m\\n\u001b[39;00m\u001b[38;5;124m`\u001b[39m\u001b[38;5;132;01m{\u001b[39;00m\u001b[38;5;28mself\u001b[39m\u001b[38;5;241m.\u001b[39m\u001b[38;5;18m__name__\u001b[39m\u001b[38;5;132;01m}\u001b[39;00m\u001b[38;5;124m(\u001b[39m\u001b[38;5;132;01m{\u001b[39;00mparam\u001b[38;5;132;01m}\u001b[39;00m\u001b[38;5;124m=\u001b[39m\u001b[38;5;132;01m{\u001b[39;00mvalue\u001b[38;5;132;01m}\u001b[39;00m\u001b[38;5;124m)`\u001b[39m\u001b[38;5;124m\"\u001b[39m\n\u001b[1;32m   1170\u001b[0m                 \u001b[38;5;124m\"\u001b[39m\u001b[38;5;130;01m\\n\u001b[39;00m\u001b[38;5;124mCheck the list of available parameters with\u001b[39m\u001b[38;5;124m\"\u001b[39m\n\u001b[1;32m   1171\u001b[0m                 \u001b[38;5;124m\"\u001b[39m\u001b[38;5;124m `estimator.get_params().keys()`\u001b[39m\u001b[38;5;124m\"\u001b[39m\n\u001b[1;32m   1172\u001b[0m             ) \u001b[38;5;28;01mfrom\u001b[39;00m \u001b[38;5;28;01mNone\u001b[39;00m\n\u001b[1;32m   1173\u001b[0m \u001b[38;5;28;01mreturn\u001b[39;00m \u001b[38;5;28mself\u001b[39m\n",
      "\u001b[0;31mValueError\u001b[0m: Invalid parameter n_neurons for estimator KerasRegressor.\nThis issue can likely be resolved by setting this parameter in the KerasRegressor constructor:\n`KerasRegressor(n_neurons=57)`\nCheck the list of available parameters with `estimator.get_params().keys()`"
     ]
    }
   ],
   "source": [
    "from scipy.stats import reciprocal\n",
    "from sklearn.model_selection import RandomizedSearchCV\n",
    "\n",
    "param_distribs = {\n",
    "    \"n_neurons\": np.arange(1, 100),\n",
    "    \"optimizer_learning_rate\": reciprocal(3e-4, 3e-2),\n",
    "}\n",
    "\n",
    "rnd_search_cv = RandomizedSearchCV(keras_reg, param_distribs, n_iter=10, cv=3)\n",
    "rnd_search_cv.fit(\n",
    "    X_train,\n",
    "    y_train,\n",
    "    epochs=100,\n",
    "    validation_data=(X_valid, y_valid),\n",
    "    callbacks=[keras.callbacks.EarlyStopping(patience=10)],\n",
    ")"
   ]
  },
  {
   "cell_type": "code",
   "execution_count": 123,
   "id": "5688d776-f0a8-4225-8966-a1a335a91f5a",
   "metadata": {
    "execution": {
     "iopub.execute_input": "2024-01-14T18:46:07.699084Z",
     "iopub.status.busy": "2024-01-14T18:46:07.698454Z",
     "iopub.status.idle": "2024-01-14T18:46:07.709915Z",
     "shell.execute_reply": "2024-01-14T18:46:07.708862Z",
     "shell.execute_reply.started": "2024-01-14T18:46:07.699022Z"
    }
   },
   "outputs": [
    {
     "data": {
      "text/plain": [
       "{'model': <function __main__.build_model(n_hidden=1, n_neurons=30, optimizer_learning_rate=0.003, input_shape=[8])>,\n",
       " 'build_fn': None,\n",
       " 'warm_start': False,\n",
       " 'random_state': None,\n",
       " 'optimizer': 'rmsprop',\n",
       " 'loss': None,\n",
       " 'metrics': None,\n",
       " 'batch_size': None,\n",
       " 'validation_batch_size': None,\n",
       " 'verbose': 1,\n",
       " 'callbacks': None,\n",
       " 'validation_split': 0.0,\n",
       " 'shuffle': True,\n",
       " 'run_eagerly': False,\n",
       " 'epochs': 1}"
      ]
     },
     "execution_count": 123,
     "metadata": {},
     "output_type": "execute_result"
    }
   ],
   "source": [
    "keras_reg.get_params()+"
   ]
  },
  {
   "cell_type": "code",
   "execution_count": null,
   "id": "4fb1cdf2-6bbe-40e1-b317-7c59726c484d",
   "metadata": {},
   "outputs": [],
   "source": []
  }
 ],
 "metadata": {
  "kernelspec": {
   "display_name": "Python 3 (ipykernel)",
   "language": "python",
   "name": "python3"
  },
  "language_info": {
   "codemirror_mode": {
    "name": "ipython",
    "version": 3
   },
   "file_extension": ".py",
   "mimetype": "text/x-python",
   "name": "python",
   "nbconvert_exporter": "python",
   "pygments_lexer": "ipython3",
   "version": "3.11.6"
  }
 },
 "nbformat": 4,
 "nbformat_minor": 5
}
