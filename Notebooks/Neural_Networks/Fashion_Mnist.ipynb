{
 "cells": [
  {
   "cell_type": "code",
   "execution_count": 33,
   "id": "535e807a-6a4c-4f30-b106-31ff4e14d40b",
   "metadata": {
    "execution": {
     "iopub.execute_input": "2024-01-14T15:45:44.197415Z",
     "iopub.status.busy": "2024-01-14T15:45:44.196762Z",
     "iopub.status.idle": "2024-01-14T15:45:44.205091Z",
     "shell.execute_reply": "2024-01-14T15:45:44.203232Z",
     "shell.execute_reply.started": "2024-01-14T15:45:44.197350Z"
    }
   },
   "outputs": [],
   "source": [
    "import keras\n",
    "import numpy as np"
   ]
  },
  {
   "cell_type": "code",
   "execution_count": 1,
   "id": "f951dbed-5d9a-4cbc-81c7-e2d1abce7e68",
   "metadata": {
    "execution": {
     "iopub.execute_input": "2024-01-14T15:24:04.718937Z",
     "iopub.status.busy": "2024-01-14T15:24:04.718286Z",
     "iopub.status.idle": "2024-01-14T15:24:06.890877Z",
     "shell.execute_reply": "2024-01-14T15:24:06.890319Z",
     "shell.execute_reply.started": "2024-01-14T15:24:04.718871Z"
    }
   },
   "outputs": [
    {
     "name": "stderr",
     "output_type": "stream",
     "text": [
      "2024-01-14 20:54:05.227153: E external/local_xla/xla/stream_executor/cuda/cuda_dnn.cc:9261] Unable to register cuDNN factory: Attempting to register factory for plugin cuDNN when one has already been registered\n",
      "2024-01-14 20:54:05.227185: E external/local_xla/xla/stream_executor/cuda/cuda_fft.cc:607] Unable to register cuFFT factory: Attempting to register factory for plugin cuFFT when one has already been registered\n",
      "2024-01-14 20:54:05.228025: E external/local_xla/xla/stream_executor/cuda/cuda_blas.cc:1515] Unable to register cuBLAS factory: Attempting to register factory for plugin cuBLAS when one has already been registered\n",
      "2024-01-14 20:54:05.233233: I tensorflow/core/platform/cpu_feature_guard.cc:182] This TensorFlow binary is optimized to use available CPU instructions in performance-critical operations.\n",
      "To enable the following instructions: AVX2 FMA, in other operations, rebuild TensorFlow with the appropriate compiler flags.\n",
      "2024-01-14 20:54:05.943669: W tensorflow/compiler/tf2tensorrt/utils/py_utils.cc:38] TF-TRT Warning: Could not find TensorRT\n"
     ]
    }
   ],
   "source": [
    "fashion_mnist = keras.datasets.fashion_mnist\n",
    "(X_train, y_train), (X_test, y_test) = fashion_mnist.load_data()"
   ]
  },
  {
   "cell_type": "code",
   "execution_count": 2,
   "id": "b9383fd4-f5eb-4151-b0a1-0c505f99d662",
   "metadata": {
    "execution": {
     "iopub.execute_input": "2024-01-14T15:24:06.891913Z",
     "iopub.status.busy": "2024-01-14T15:24:06.891656Z",
     "iopub.status.idle": "2024-01-14T15:24:06.894988Z",
     "shell.execute_reply": "2024-01-14T15:24:06.894511Z",
     "shell.execute_reply.started": "2024-01-14T15:24:06.891896Z"
    },
    "tags": []
   },
   "outputs": [
    {
     "name": "stdout",
     "output_type": "stream",
     "text": [
      "(60000, 28, 28) (60000,)\n",
      "=====================\n",
      "(10000, 28, 28) (10000,)\n"
     ]
    }
   ],
   "source": [
    "print(X_train.shape, y_train.shape)\n",
    "print('==='*7)\n",
    "print(X_test.shape, y_test.shape)"
   ]
  },
  {
   "cell_type": "code",
   "execution_count": 3,
   "id": "7c4bf9ee-d4c2-4e0f-88c0-579e1a641881",
   "metadata": {
    "execution": {
     "iopub.execute_input": "2024-01-14T15:24:08.550020Z",
     "iopub.status.busy": "2024-01-14T15:24:08.549072Z",
     "iopub.status.idle": "2024-01-14T15:24:08.573364Z",
     "shell.execute_reply": "2024-01-14T15:24:08.571893Z",
     "shell.execute_reply.started": "2024-01-14T15:24:08.549925Z"
    },
    "tags": []
   },
   "outputs": [
    {
     "data": {
      "text/plain": [
       "dtype('uint8')"
      ]
     },
     "execution_count": 3,
     "metadata": {},
     "output_type": "execute_result"
    }
   ],
   "source": [
    "X_train.dtype"
   ]
  },
  {
   "cell_type": "code",
   "execution_count": 4,
   "id": "010865f7-4bb3-4eb4-870b-eb05756f381d",
   "metadata": {
    "execution": {
     "iopub.execute_input": "2024-01-14T15:24:08.872984Z",
     "iopub.status.busy": "2024-01-14T15:24:08.872179Z",
     "iopub.status.idle": "2024-01-14T15:24:08.881811Z",
     "shell.execute_reply": "2024-01-14T15:24:08.880226Z",
     "shell.execute_reply.started": "2024-01-14T15:24:08.872902Z"
    },
    "tags": []
   },
   "outputs": [],
   "source": [
    "X_valid, X_train = X_train[:5000], X_train[5000:]\n",
    "y_valid, y_train = y_train[:5000], y_train[5000:]"
   ]
  },
  {
   "cell_type": "code",
   "execution_count": 5,
   "id": "0debd792-b86c-4a80-8aae-4683c0ec094e",
   "metadata": {
    "execution": {
     "iopub.execute_input": "2024-01-14T15:24:09.312989Z",
     "iopub.status.busy": "2024-01-14T15:24:09.312380Z",
     "iopub.status.idle": "2024-01-14T15:24:09.321479Z",
     "shell.execute_reply": "2024-01-14T15:24:09.319649Z",
     "shell.execute_reply.started": "2024-01-14T15:24:09.312926Z"
    },
    "tags": []
   },
   "outputs": [
    {
     "name": "stdout",
     "output_type": "stream",
     "text": [
      "(5000, 28, 28) (5000,)\n"
     ]
    }
   ],
   "source": [
    "print(X_valid.shape, y_valid.shape)"
   ]
  },
  {
   "cell_type": "code",
   "execution_count": 6,
   "id": "18436899-ea37-4623-99b1-106dd9f3305f",
   "metadata": {
    "execution": {
     "iopub.execute_input": "2024-01-14T15:24:09.531253Z",
     "iopub.status.busy": "2024-01-14T15:24:09.530655Z",
     "iopub.status.idle": "2024-01-14T15:24:09.539346Z",
     "shell.execute_reply": "2024-01-14T15:24:09.537605Z",
     "shell.execute_reply.started": "2024-01-14T15:24:09.531194Z"
    },
    "tags": []
   },
   "outputs": [],
   "source": [
    "class_names = [\"T-shirt/top\", \"Trouser\", \"Pullover\", \"Dress\", \"Coat\",\n",
    "\"Sandal\", \"Shirt\", \"Sneaker\", \"Bag\", \"Ankle boot\"]"
   ]
  },
  {
   "cell_type": "code",
   "execution_count": 7,
   "id": "157f8f8b-a6bb-4475-839d-116d9f7d83c2",
   "metadata": {
    "execution": {
     "iopub.execute_input": "2024-01-14T15:24:09.921328Z",
     "iopub.status.busy": "2024-01-14T15:24:09.920889Z",
     "iopub.status.idle": "2024-01-14T15:24:09.929958Z",
     "shell.execute_reply": "2024-01-14T15:24:09.928543Z",
     "shell.execute_reply.started": "2024-01-14T15:24:09.921284Z"
    },
    "tags": []
   },
   "outputs": [
    {
     "data": {
      "text/plain": [
       "'Coat'"
      ]
     },
     "execution_count": 7,
     "metadata": {},
     "output_type": "execute_result"
    }
   ],
   "source": [
    "class_names[y_train[0]]"
   ]
  },
  {
   "cell_type": "markdown",
   "id": "5c6e8168-f27b-4c20-b605-d19e0b479d1f",
   "metadata": {
    "execution": {
     "iopub.execute_input": "2024-01-14T14:11:08.280743Z",
     "iopub.status.busy": "2024-01-14T14:11:08.280518Z",
     "iopub.status.idle": "2024-01-14T14:11:08.284981Z",
     "shell.execute_reply": "2024-01-14T14:11:08.284352Z",
     "shell.execute_reply.started": "2024-01-14T14:11:08.280720Z"
    },
    "tags": []
   },
   "source": [
    "## Creating a Sequential Model"
   ]
  },
  {
   "cell_type": "code",
   "execution_count": 8,
   "id": "e2bd0d01-b179-4258-ba8d-0f74b08bf2e8",
   "metadata": {
    "execution": {
     "iopub.execute_input": "2024-01-14T15:24:10.683646Z",
     "iopub.status.busy": "2024-01-14T15:24:10.683462Z",
     "iopub.status.idle": "2024-01-14T15:24:10.898932Z",
     "shell.execute_reply": "2024-01-14T15:24:10.898396Z",
     "shell.execute_reply.started": "2024-01-14T15:24:10.683628Z"
    },
    "scrolled": true,
    "tags": []
   },
   "outputs": [
    {
     "name": "stderr",
     "output_type": "stream",
     "text": [
      "2024-01-14 20:54:10.704693: I external/local_xla/xla/stream_executor/cuda/cuda_executor.cc:901] successful NUMA node read from SysFS had negative value (-1), but there must be at least one NUMA node, so returning NUMA node zero. See more at https://github.com/torvalds/linux/blob/v6.0/Documentation/ABI/testing/sysfs-bus-pci#L344-L355\n",
      "2024-01-14 20:54:10.726750: I external/local_xla/xla/stream_executor/cuda/cuda_executor.cc:901] successful NUMA node read from SysFS had negative value (-1), but there must be at least one NUMA node, so returning NUMA node zero. See more at https://github.com/torvalds/linux/blob/v6.0/Documentation/ABI/testing/sysfs-bus-pci#L344-L355\n",
      "2024-01-14 20:54:10.726983: I external/local_xla/xla/stream_executor/cuda/cuda_executor.cc:901] successful NUMA node read from SysFS had negative value (-1), but there must be at least one NUMA node, so returning NUMA node zero. See more at https://github.com/torvalds/linux/blob/v6.0/Documentation/ABI/testing/sysfs-bus-pci#L344-L355\n",
      "2024-01-14 20:54:10.728846: I external/local_xla/xla/stream_executor/cuda/cuda_executor.cc:901] successful NUMA node read from SysFS had negative value (-1), but there must be at least one NUMA node, so returning NUMA node zero. See more at https://github.com/torvalds/linux/blob/v6.0/Documentation/ABI/testing/sysfs-bus-pci#L344-L355\n",
      "2024-01-14 20:54:10.729050: I external/local_xla/xla/stream_executor/cuda/cuda_executor.cc:901] successful NUMA node read from SysFS had negative value (-1), but there must be at least one NUMA node, so returning NUMA node zero. See more at https://github.com/torvalds/linux/blob/v6.0/Documentation/ABI/testing/sysfs-bus-pci#L344-L355\n",
      "2024-01-14 20:54:10.729215: I external/local_xla/xla/stream_executor/cuda/cuda_executor.cc:901] successful NUMA node read from SysFS had negative value (-1), but there must be at least one NUMA node, so returning NUMA node zero. See more at https://github.com/torvalds/linux/blob/v6.0/Documentation/ABI/testing/sysfs-bus-pci#L344-L355\n",
      "2024-01-14 20:54:10.804243: I external/local_xla/xla/stream_executor/cuda/cuda_executor.cc:901] successful NUMA node read from SysFS had negative value (-1), but there must be at least one NUMA node, so returning NUMA node zero. See more at https://github.com/torvalds/linux/blob/v6.0/Documentation/ABI/testing/sysfs-bus-pci#L344-L355\n",
      "2024-01-14 20:54:10.804411: I external/local_xla/xla/stream_executor/cuda/cuda_executor.cc:901] successful NUMA node read from SysFS had negative value (-1), but there must be at least one NUMA node, so returning NUMA node zero. See more at https://github.com/torvalds/linux/blob/v6.0/Documentation/ABI/testing/sysfs-bus-pci#L344-L355\n",
      "2024-01-14 20:54:10.804532: I external/local_xla/xla/stream_executor/cuda/cuda_executor.cc:901] successful NUMA node read from SysFS had negative value (-1), but there must be at least one NUMA node, so returning NUMA node zero. See more at https://github.com/torvalds/linux/blob/v6.0/Documentation/ABI/testing/sysfs-bus-pci#L344-L355\n",
      "2024-01-14 20:54:10.804624: I tensorflow/core/common_runtime/gpu/gpu_device.cc:1929] Created device /job:localhost/replica:0/task:0/device:GPU:0 with 4785 MB memory:  -> device: 0, name: NVIDIA GeForce RTX 2060, pci bus id: 0000:01:00.0, compute capability: 7.5\n"
     ]
    }
   ],
   "source": [
    "model = keras.models.Sequential(name='Attire_Recognizer_Mark_I')\n",
    "model.add(keras.layers.Flatten(input_shape=[28,28]))\n",
    "model.add(keras.layers.Dense(300,activation='relu'))\n",
    "model.add(keras.layers.Dense(100,activation='relu'))\n",
    "model.add(keras.layers.Dense(10,activation='softmax')) #Because the classes are exclusive \n",
    "                                                       #(that means one instance cannot be a part of two classes at the same time)"
   ]
  },
  {
   "cell_type": "code",
   "execution_count": 9,
   "id": "84d97aa3-04ca-4642-8008-5bd154cbfcd1",
   "metadata": {
    "execution": {
     "iopub.execute_input": "2024-01-14T15:24:11.705828Z",
     "iopub.status.busy": "2024-01-14T15:24:11.705183Z",
     "iopub.status.idle": "2024-01-14T15:24:11.729632Z",
     "shell.execute_reply": "2024-01-14T15:24:11.729049Z",
     "shell.execute_reply.started": "2024-01-14T15:24:11.705766Z"
    },
    "tags": []
   },
   "outputs": [
    {
     "name": "stdout",
     "output_type": "stream",
     "text": [
      "Model: \"Attire_Recognizer_Mark_I\"\n",
      "_________________________________________________________________\n",
      " Layer (type)                Output Shape              Param #   \n",
      "=================================================================\n",
      " flatten (Flatten)           (None, 784)               0         \n",
      "                                                                 \n",
      " dense (Dense)               (None, 300)               235500    \n",
      "                                                                 \n",
      " dense_1 (Dense)             (None, 100)               30100     \n",
      "                                                                 \n",
      " dense_2 (Dense)             (None, 10)                1010      \n",
      "                                                                 \n",
      "=================================================================\n",
      "Total params: 266610 (1.02 MB)\n",
      "Trainable params: 266610 (1.02 MB)\n",
      "Non-trainable params: 0 (0.00 Byte)\n",
      "_________________________________________________________________\n"
     ]
    }
   ],
   "source": [
    "model.summary()"
   ]
  },
  {
   "cell_type": "code",
   "execution_count": 10,
   "id": "4857891d-4468-4a5f-872c-3696678fbd35",
   "metadata": {
    "execution": {
     "iopub.execute_input": "2024-01-14T15:24:12.503352Z",
     "iopub.status.busy": "2024-01-14T15:24:12.502732Z",
     "iopub.status.idle": "2024-01-14T15:24:12.510599Z",
     "shell.execute_reply": "2024-01-14T15:24:12.509941Z",
     "shell.execute_reply.started": "2024-01-14T15:24:12.503292Z"
    },
    "tags": []
   },
   "outputs": [
    {
     "data": {
      "text/plain": [
       "<keras.src.layers.core.dense.Dense at 0x7f05a798b290>"
      ]
     },
     "execution_count": 10,
     "metadata": {},
     "output_type": "execute_result"
    }
   ],
   "source": [
    "model.get_layer('dense_1')"
   ]
  },
  {
   "cell_type": "code",
   "execution_count": 11,
   "id": "461034b8-defa-43dc-879c-afaaf5530f81",
   "metadata": {
    "execution": {
     "iopub.execute_input": "2024-01-14T15:24:13.195603Z",
     "iopub.status.busy": "2024-01-14T15:24:13.195406Z",
     "iopub.status.idle": "2024-01-14T15:24:13.199387Z",
     "shell.execute_reply": "2024-01-14T15:24:13.198859Z",
     "shell.execute_reply.started": "2024-01-14T15:24:13.195585Z"
    },
    "tags": []
   },
   "outputs": [
    {
     "data": {
      "text/plain": [
       "[<keras.src.layers.reshaping.flatten.Flatten at 0x7f05aaf520d0>,\n",
       " <keras.src.layers.core.dense.Dense at 0x7f05a7953ad0>,\n",
       " <keras.src.layers.core.dense.Dense at 0x7f05a798b290>,\n",
       " <keras.src.layers.core.dense.Dense at 0x7f05a79ad050>]"
      ]
     },
     "execution_count": 11,
     "metadata": {},
     "output_type": "execute_result"
    }
   ],
   "source": [
    "model.layers"
   ]
  },
  {
   "cell_type": "code",
   "execution_count": 12,
   "id": "78de0281-151b-4674-9d3f-064b14cfb265",
   "metadata": {
    "execution": {
     "iopub.execute_input": "2024-01-14T15:24:13.577894Z",
     "iopub.status.busy": "2024-01-14T15:24:13.577711Z",
     "iopub.status.idle": "2024-01-14T15:24:13.581627Z",
     "shell.execute_reply": "2024-01-14T15:24:13.581099Z",
     "shell.execute_reply.started": "2024-01-14T15:24:13.577878Z"
    },
    "tags": []
   },
   "outputs": [
    {
     "data": {
      "text/plain": [
       "False"
      ]
     },
     "execution_count": 12,
     "metadata": {},
     "output_type": "execute_result"
    }
   ],
   "source": [
    "model.layers[1] == model.get_layer('dense_1')"
   ]
  },
  {
   "cell_type": "code",
   "execution_count": 13,
   "id": "dbede035-9a98-4ca9-ad33-e645d98880d3",
   "metadata": {
    "execution": {
     "iopub.execute_input": "2024-01-14T15:24:13.768559Z",
     "iopub.status.busy": "2024-01-14T15:24:13.768340Z",
     "iopub.status.idle": "2024-01-14T15:24:13.774478Z",
     "shell.execute_reply": "2024-01-14T15:24:13.773931Z",
     "shell.execute_reply.started": "2024-01-14T15:24:13.768538Z"
    },
    "tags": []
   },
   "outputs": [],
   "source": [
    "# Getting the weights of a particular layer\n",
    "weights, biases = model.get_layer('dense_1').get_weights()\n"
   ]
  },
  {
   "cell_type": "code",
   "execution_count": 14,
   "id": "af78eec9-12b8-4287-a995-df4e271406d0",
   "metadata": {
    "execution": {
     "iopub.execute_input": "2024-01-14T15:24:14.158157Z",
     "iopub.status.busy": "2024-01-14T15:24:14.157962Z",
     "iopub.status.idle": "2024-01-14T15:24:14.161327Z",
     "shell.execute_reply": "2024-01-14T15:24:14.160805Z",
     "shell.execute_reply.started": "2024-01-14T15:24:14.158139Z"
    },
    "tags": []
   },
   "outputs": [
    {
     "name": "stdout",
     "output_type": "stream",
     "text": [
      "(300, 100) (100,)\n"
     ]
    }
   ],
   "source": [
    "print(weights.shape, biases.shape)"
   ]
  },
  {
   "cell_type": "code",
   "execution_count": 15,
   "id": "a3528158-5250-4fed-b6aa-5cfae29f2e04",
   "metadata": {
    "execution": {
     "iopub.execute_input": "2024-01-14T15:24:14.346066Z",
     "iopub.status.busy": "2024-01-14T15:24:14.345886Z",
     "iopub.status.idle": "2024-01-14T15:24:14.350310Z",
     "shell.execute_reply": "2024-01-14T15:24:14.349839Z",
     "shell.execute_reply.started": "2024-01-14T15:24:14.346050Z"
    },
    "tags": []
   },
   "outputs": [
    {
     "data": {
      "text/plain": [
       "array([[-0.07515192,  0.1091636 ,  0.12020788, ...,  0.10484498,\n",
       "         0.08132977,  0.05275337],\n",
       "       [-0.02334657, -0.04084535,  0.06245305, ..., -0.10274827,\n",
       "         0.06077544,  0.10858663],\n",
       "       [ 0.01659811,  0.0604564 ,  0.06175204, ..., -0.00093698,\n",
       "         0.02464584, -0.10883382],\n",
       "       ...,\n",
       "       [-0.08733276,  0.02517235, -0.04538706, ...,  0.11926764,\n",
       "        -0.02562168,  0.01391748],\n",
       "       [-0.09753338,  0.12029404,  0.10011525, ...,  0.00860766,\n",
       "        -0.11754108, -0.1137205 ],\n",
       "       [-0.02627074,  0.04333309,  0.01002703, ..., -0.06097762,\n",
       "         0.0833322 , -0.07660457]], dtype=float32)"
      ]
     },
     "execution_count": 15,
     "metadata": {},
     "output_type": "execute_result"
    }
   ],
   "source": [
    "# Weights are initialised randomly, needed to break the symmetry while using backprop..\n",
    "weights"
   ]
  },
  {
   "cell_type": "markdown",
   "id": "dbad8009-8737-42ec-85f4-90c05b20c3ee",
   "metadata": {},
   "source": [
    "### Weight Initialisers"
   ]
  },
  {
   "cell_type": "code",
   "execution_count": 16,
   "id": "a3521bcb-48d1-4fc8-a3d7-27d74097d1bb",
   "metadata": {
    "execution": {
     "iopub.execute_input": "2024-01-14T15:24:15.327216Z",
     "iopub.status.busy": "2024-01-14T15:24:15.326617Z",
     "iopub.status.idle": "2024-01-14T15:24:15.338510Z",
     "shell.execute_reply": "2024-01-14T15:24:15.336990Z",
     "shell.execute_reply.started": "2024-01-14T15:24:15.327158Z"
    },
    "tags": []
   },
   "outputs": [
    {
     "data": {
      "text/plain": [
       "array([0., 0., 0., 0., 0., 0., 0., 0., 0., 0., 0., 0., 0., 0., 0., 0., 0.,\n",
       "       0., 0., 0., 0., 0., 0., 0., 0., 0., 0., 0., 0., 0., 0., 0., 0., 0.,\n",
       "       0., 0., 0., 0., 0., 0., 0., 0., 0., 0., 0., 0., 0., 0., 0., 0., 0.,\n",
       "       0., 0., 0., 0., 0., 0., 0., 0., 0., 0., 0., 0., 0., 0., 0., 0., 0.,\n",
       "       0., 0., 0., 0., 0., 0., 0., 0., 0., 0., 0., 0., 0., 0., 0., 0., 0.,\n",
       "       0., 0., 0., 0., 0., 0., 0., 0., 0., 0., 0., 0., 0., 0., 0.],\n",
       "      dtype=float32)"
      ]
     },
     "execution_count": 16,
     "metadata": {},
     "output_type": "execute_result"
    }
   ],
   "source": [
    "# Biases are initialsed to zero, which is OK\n",
    "# If we want to initialise the matrices using a different method,\n",
    "# we can set \"kernel_initialiser\" and \"bias initialiser\"\n",
    "\n",
    "biases"
   ]
  },
  {
   "cell_type": "markdown",
   "id": "254570e6-46a8-409f-9add-1bc2596895a0",
   "metadata": {},
   "source": [
    "## Compiling the model"
   ]
  },
  {
   "cell_type": "code",
   "execution_count": 17,
   "id": "f5d1315f-af86-4e0c-9e69-eddd59670f1a",
   "metadata": {
    "execution": {
     "iopub.execute_input": "2024-01-14T15:24:15.767817Z",
     "iopub.status.busy": "2024-01-14T15:24:15.767160Z",
     "iopub.status.idle": "2024-01-14T15:24:15.882414Z",
     "shell.execute_reply": "2024-01-14T15:24:15.881654Z",
     "shell.execute_reply.started": "2024-01-14T15:24:15.767751Z"
    },
    "tags": []
   },
   "outputs": [],
   "source": [
    "\"\"\"\n",
    "Reason for sparse_categorical_crossentropy as loss:\n",
    "(i.e., for each instance, there is just a target class index, from 0 to 9\n",
    "in this case), and the classes are exclusive. If instead we had one target\n",
    "probability per class for each instance (such as one-hot vectors, e.g. [0.,\n",
    "0., 0., 1., 0., 0., 0., 0., 0., 0.] to represent class 3)\n",
    "then we would need to use the \"categorical_crossentropy\" loss instead.\n",
    "\"\"\"\n",
    "\n",
    "model.compile(loss=\"sparse_categorical_crossentropy\",\n",
    "              optimizer='adam', #default learning_rate = 0.01\n",
    "              metrics=['accuracy']\n",
    "             )"
   ]
  },
  {
   "cell_type": "markdown",
   "id": "f630778e-5457-4b28-a6e1-cc218044940c",
   "metadata": {},
   "source": [
    "## Training the model"
   ]
  },
  {
   "cell_type": "markdown",
   "id": "91e93e1e-a5ed-41d2-b0c7-b4f45181acea",
   "metadata": {
    "tags": []
   },
   "source": [
    "### Handling skewed classes:  \n",
    "If the training set was very skewed, with some classes being\n",
    "overrepresented and others underrepresented, it would be useful to set the\n",
    "class_weight argument when calling the fit() method, which would\n",
    "give a larger weight to underrepresented classes and a lower weight to\n",
    "overrepresented classes. "
   ]
  },
  {
   "cell_type": "markdown",
   "id": "67fdcca3-23e1-4488-82a0-33229d946978",
   "metadata": {
    "tags": []
   },
   "source": [
    "### Calling the fit method"
   ]
  },
  {
   "cell_type": "code",
   "execution_count": 18,
   "id": "e5405974-8b06-4891-8971-b5fb240c0eba",
   "metadata": {
    "execution": {
     "iopub.execute_input": "2024-01-14T15:24:17.491439Z",
     "iopub.status.busy": "2024-01-14T15:24:17.491218Z",
     "iopub.status.idle": "2024-01-14T15:25:47.681408Z",
     "shell.execute_reply": "2024-01-14T15:25:47.680938Z",
     "shell.execute_reply.started": "2024-01-14T15:24:17.491419Z"
    },
    "tags": []
   },
   "outputs": [
    {
     "name": "stdout",
     "output_type": "stream",
     "text": [
      "Epoch 1/30\n"
     ]
    },
    {
     "name": "stderr",
     "output_type": "stream",
     "text": [
      "2024-01-14 20:54:18.184275: I external/local_xla/xla/service/service.cc:168] XLA service 0x7f04b892aa30 initialized for platform CUDA (this does not guarantee that XLA will be used). Devices:\n",
      "2024-01-14 20:54:18.184300: I external/local_xla/xla/service/service.cc:176]   StreamExecutor device (0): NVIDIA GeForce RTX 2060, Compute Capability 7.5\n",
      "2024-01-14 20:54:18.190018: I tensorflow/compiler/mlir/tensorflow/utils/dump_mlir_util.cc:269] disabling MLIR crash reproducer, set env var `MLIR_CRASH_REPRODUCER_DIRECTORY` to enable.\n",
      "2024-01-14 20:54:18.206671: I external/local_xla/xla/stream_executor/cuda/cuda_dnn.cc:454] Loaded cuDNN version 8902\n",
      "WARNING: All log messages before absl::InitializeLog() is called are written to STDERR\n",
      "I0000 00:00:1705245858.293780   20487 device_compiler.h:186] Compiled cluster using XLA!  This line is logged at most once for the lifetime of the process.\n"
     ]
    },
    {
     "name": "stdout",
     "output_type": "stream",
     "text": [
      "1719/1719 [==============================] - 4s 2ms/step - loss: 2.4006 - accuracy: 0.6703 - val_loss: 0.8582 - val_accuracy: 0.7120\n",
      "Epoch 2/30\n",
      "1719/1719 [==============================] - 3s 2ms/step - loss: 0.7494 - accuracy: 0.7190 - val_loss: 0.7025 - val_accuracy: 0.7440\n",
      "Epoch 3/30\n",
      "1719/1719 [==============================] - 3s 2ms/step - loss: 0.6530 - accuracy: 0.7431 - val_loss: 0.6072 - val_accuracy: 0.7734\n",
      "Epoch 4/30\n",
      "1719/1719 [==============================] - 3s 2ms/step - loss: 0.6352 - accuracy: 0.7542 - val_loss: 0.5644 - val_accuracy: 0.7962\n",
      "Epoch 5/30\n",
      "1719/1719 [==============================] - 3s 2ms/step - loss: 0.5423 - accuracy: 0.7988 - val_loss: 0.5281 - val_accuracy: 0.8196\n",
      "Epoch 6/30\n",
      "1719/1719 [==============================] - 3s 2ms/step - loss: 0.5093 - accuracy: 0.8118 - val_loss: 0.4869 - val_accuracy: 0.8374\n",
      "Epoch 7/30\n",
      "1719/1719 [==============================] - 3s 2ms/step - loss: 0.4602 - accuracy: 0.8416 - val_loss: 0.4529 - val_accuracy: 0.8446\n",
      "Epoch 8/30\n",
      "1719/1719 [==============================] - 3s 2ms/step - loss: 0.4352 - accuracy: 0.8512 - val_loss: 0.4387 - val_accuracy: 0.8520\n",
      "Epoch 9/30\n",
      "1719/1719 [==============================] - 3s 2ms/step - loss: 0.4058 - accuracy: 0.8608 - val_loss: 0.4302 - val_accuracy: 0.8642\n",
      "Epoch 10/30\n",
      "1719/1719 [==============================] - 3s 2ms/step - loss: 0.3936 - accuracy: 0.8642 - val_loss: 0.4375 - val_accuracy: 0.8568\n",
      "Epoch 11/30\n",
      "1719/1719 [==============================] - 3s 2ms/step - loss: 0.3822 - accuracy: 0.8680 - val_loss: 0.4680 - val_accuracy: 0.8540\n",
      "Epoch 12/30\n",
      "1719/1719 [==============================] - 3s 2ms/step - loss: 0.3701 - accuracy: 0.8699 - val_loss: 0.4012 - val_accuracy: 0.8740\n",
      "Epoch 13/30\n",
      "1719/1719 [==============================] - 3s 2ms/step - loss: 0.3666 - accuracy: 0.8747 - val_loss: 0.4079 - val_accuracy: 0.8622\n",
      "Epoch 14/30\n",
      "1719/1719 [==============================] - 3s 2ms/step - loss: 0.3531 - accuracy: 0.8772 - val_loss: 0.4018 - val_accuracy: 0.8610\n",
      "Epoch 15/30\n",
      "1719/1719 [==============================] - 3s 2ms/step - loss: 0.3505 - accuracy: 0.8804 - val_loss: 0.4222 - val_accuracy: 0.8702\n",
      "Epoch 16/30\n",
      "1719/1719 [==============================] - 3s 2ms/step - loss: 0.3459 - accuracy: 0.8802 - val_loss: 0.4126 - val_accuracy: 0.8764\n",
      "Epoch 17/30\n",
      "1719/1719 [==============================] - 3s 2ms/step - loss: 0.3393 - accuracy: 0.8829 - val_loss: 0.3963 - val_accuracy: 0.8798\n",
      "Epoch 18/30\n",
      "1719/1719 [==============================] - 3s 2ms/step - loss: 0.3288 - accuracy: 0.8864 - val_loss: 0.4712 - val_accuracy: 0.8594\n",
      "Epoch 19/30\n",
      "1719/1719 [==============================] - 3s 2ms/step - loss: 0.3265 - accuracy: 0.8869 - val_loss: 0.4012 - val_accuracy: 0.8768\n",
      "Epoch 20/30\n",
      "1719/1719 [==============================] - 3s 2ms/step - loss: 0.3141 - accuracy: 0.8899 - val_loss: 0.4147 - val_accuracy: 0.8764\n",
      "Epoch 21/30\n",
      "1719/1719 [==============================] - 3s 2ms/step - loss: 0.3169 - accuracy: 0.8898 - val_loss: 0.4055 - val_accuracy: 0.8736\n",
      "Epoch 22/30\n",
      "1719/1719 [==============================] - 3s 2ms/step - loss: 0.3142 - accuracy: 0.8910 - val_loss: 0.4539 - val_accuracy: 0.8702\n",
      "Epoch 23/30\n",
      "1719/1719 [==============================] - 3s 2ms/step - loss: 0.3064 - accuracy: 0.8928 - val_loss: 0.4526 - val_accuracy: 0.8758\n",
      "Epoch 24/30\n",
      "1719/1719 [==============================] - 3s 2ms/step - loss: 0.3059 - accuracy: 0.8935 - val_loss: 0.4165 - val_accuracy: 0.8788\n",
      "Epoch 25/30\n",
      "1719/1719 [==============================] - 3s 2ms/step - loss: 0.3008 - accuracy: 0.8961 - val_loss: 0.4528 - val_accuracy: 0.8720\n",
      "Epoch 26/30\n",
      "1719/1719 [==============================] - 3s 2ms/step - loss: 0.3268 - accuracy: 0.8899 - val_loss: 0.4605 - val_accuracy: 0.8658\n",
      "Epoch 27/30\n",
      "1719/1719 [==============================] - 3s 2ms/step - loss: 0.2945 - accuracy: 0.8975 - val_loss: 0.4577 - val_accuracy: 0.8664\n",
      "Epoch 28/30\n",
      "1719/1719 [==============================] - 3s 2ms/step - loss: 0.3063 - accuracy: 0.8969 - val_loss: 0.4205 - val_accuracy: 0.8790\n",
      "Epoch 29/30\n",
      "1719/1719 [==============================] - 3s 2ms/step - loss: 0.2960 - accuracy: 0.8977 - val_loss: 0.4796 - val_accuracy: 0.8624\n",
      "Epoch 30/30\n",
      "1719/1719 [==============================] - 3s 2ms/step - loss: 0.3009 - accuracy: 0.8954 - val_loss: 0.4630 - val_accuracy: 0.8754\n"
     ]
    }
   ],
   "source": [
    "# we can also use \"validation_split=0.1\" parameter instead of passing \"validation_data\" separately\n",
    "history = model.fit(X_train, y_train, epochs=30, validation_data=(X_valid, y_valid))"
   ]
  },
  {
   "cell_type": "code",
   "execution_count": null,
   "id": "6db2c12d-0c3c-46cf-82b3-301deb455a86",
   "metadata": {},
   "outputs": [],
   "source": []
  },
  {
   "cell_type": "markdown",
   "id": "91af1954-5baf-41df-a8bf-8ce9f8317dcb",
   "metadata": {
    "execution": {
     "iopub.execute_input": "2024-01-14T15:02:11.947891Z",
     "iopub.status.busy": "2024-01-14T15:02:11.947546Z",
     "iopub.status.idle": "2024-01-14T15:02:11.954361Z",
     "shell.execute_reply": "2024-01-14T15:02:11.953633Z",
     "shell.execute_reply.started": "2024-01-14T15:02:11.947857Z"
    },
    "tags": []
   },
   "source": [
    "## Plotting the training curves"
   ]
  },
  {
   "cell_type": "code",
   "execution_count": 19,
   "id": "cc832c4d-5fd7-454e-a836-0e2b3d364206",
   "metadata": {
    "execution": {
     "iopub.execute_input": "2024-01-14T15:35:44.498230Z",
     "iopub.status.busy": "2024-01-14T15:35:44.497998Z",
     "iopub.status.idle": "2024-01-14T15:35:44.502593Z",
     "shell.execute_reply": "2024-01-14T15:35:44.502009Z",
     "shell.execute_reply.started": "2024-01-14T15:35:44.498208Z"
    },
    "tags": []
   },
   "outputs": [
    {
     "data": {
      "text/plain": [
       "'\\nWhen plotting the training curve, it should be shifted by half an epoch to the left.\\nThe validation error is computed at the end of each epoch,\\nwhile the training error is computed using a running mean during each\\nepoch. So the training curve should be shifted by half an epoch to the left.\\n'"
      ]
     },
     "execution_count": 19,
     "metadata": {},
     "output_type": "execute_result"
    }
   ],
   "source": [
    "\"\"\"\n",
    "When plotting the training curve, it should be shifted by half an epoch to the left.\n",
    "The validation error is computed at the end of each epoch,\n",
    "while the training error is computed using a running mean during each\n",
    "epoch. So the training curve should be shifted by half an epoch to the left.\n",
    "\"\"\""
   ]
  },
  {
   "cell_type": "markdown",
   "id": "f92f422b-049e-4e15-8a0e-f47318307c17",
   "metadata": {},
   "source": [
    "### Keras just continues training where it left off : It’s as simple as calling the fit() method again: \n",
    "we should be able to reach close to 89% validation accuracy"
   ]
  },
  {
   "cell_type": "code",
   "execution_count": 20,
   "id": "f8e5d3a4-614d-418d-86fe-84536ebea181",
   "metadata": {
    "execution": {
     "iopub.execute_input": "2024-01-14T15:35:46.385021Z",
     "iopub.status.busy": "2024-01-14T15:35:46.384358Z",
     "iopub.status.idle": "2024-01-14T15:35:46.768082Z",
     "shell.execute_reply": "2024-01-14T15:35:46.767543Z",
     "shell.execute_reply.started": "2024-01-14T15:35:46.384955Z"
    },
    "tags": []
   },
   "outputs": [
    {
     "data": {
      "image/png": "[encoded data removed]",
      "text/plain": [
       "<Figure size 800x500 with 1 Axes>"
      ]
     },
     "metadata": {},
     "output_type": "display_data"
    }
   ],
   "source": [
    "# %matplotlib ipympl\n",
    "import pandas as pd\n",
    "import matplotlib.pyplot as plt\n",
    "\n",
    "\n",
    "df = pd.DataFrame(history.history)\n",
    "df.plot(figsize=(8, 5))\n",
    "plt.grid(True)\n",
    "plt.gca().set_ylim(0, 1) # set the vertical range to [0-1]\n",
    "plt.show()"
   ]
  },
  {
   "cell_type": "markdown",
   "id": "2d2c8544-d670-4fb2-9385-a698ee887ac2",
   "metadata": {},
   "source": [
    "## Evaluating the model on test set"
   ]
  },
  {
   "cell_type": "code",
   "execution_count": 25,
   "id": "51f8b483-7038-45f9-85c5-b3527cc7e753",
   "metadata": {
    "execution": {
     "iopub.execute_input": "2024-01-14T15:41:07.330220Z",
     "iopub.status.busy": "2024-01-14T15:41:07.329579Z",
     "iopub.status.idle": "2024-01-14T15:41:07.784534Z",
     "shell.execute_reply": "2024-01-14T15:41:07.784144Z",
     "shell.execute_reply.started": "2024-01-14T15:41:07.330161Z"
    }
   },
   "outputs": [
    {
     "name": "stdout",
     "output_type": "stream",
     "text": [
      "313/313 [==============================] - 0s 1ms/step - loss: 0.4465 - accuracy: 0.8677\n"
     ]
    },
    {
     "data": {
      "text/plain": [
       "{'loss': 0.44650688767433167, 'accuracy': 0.8676999807357788}"
      ]
     },
     "execution_count": 25,
     "metadata": {},
     "output_type": "execute_result"
    }
   ],
   "source": [
    "model.evaluate(X_test, y_test, return_dict=True)"
   ]
  },
  {
   "cell_type": "code",
   "execution_count": 27,
   "id": "458eb1a8-e7a2-4220-857c-08b65b3af026",
   "metadata": {
    "execution": {
     "iopub.execute_input": "2024-01-14T15:41:20.847484Z",
     "iopub.status.busy": "2024-01-14T15:41:20.846868Z",
     "iopub.status.idle": "2024-01-14T15:41:20.853696Z",
     "shell.execute_reply": "2024-01-14T15:41:20.853131Z",
     "shell.execute_reply.started": "2024-01-14T15:41:20.847424Z"
    }
   },
   "outputs": [
    {
     "data": {
      "text/plain": [
       "['loss', 'accuracy']"
      ]
     },
     "execution_count": 27,
     "metadata": {},
     "output_type": "execute_result"
    }
   ],
   "source": [
    "# Alternate method : These are the two values being output after the evaluate call\n",
    "model.metrics_names"
   ]
  },
  {
   "cell_type": "code",
   "execution_count": null,
   "id": "f9cb8060-1849-492b-b720-080727a740c5",
   "metadata": {},
   "outputs": [],
   "source": []
  },
  {
   "cell_type": "markdown",
   "id": "6116f5e8-f9ca-4046-8101-b164fc9ce819",
   "metadata": {},
   "source": [
    "## Making prediction on instances"
   ]
  },
  {
   "cell_type": "code",
   "execution_count": 28,
   "id": "164ecfa5-efb6-435f-ad65-ba1a8534b379",
   "metadata": {
    "execution": {
     "iopub.execute_input": "2024-01-14T15:42:42.521091Z",
     "iopub.status.busy": "2024-01-14T15:42:42.520908Z",
     "iopub.status.idle": "2024-01-14T15:42:42.625716Z",
     "shell.execute_reply": "2024-01-14T15:42:42.624811Z",
     "shell.execute_reply.started": "2024-01-14T15:42:42.521073Z"
    }
   },
   "outputs": [
    {
     "name": "stdout",
     "output_type": "stream",
     "text": [
      "1/1 [==============================] - 0s 58ms/step\n"
     ]
    }
   ],
   "source": [
    "X_new = X_test[:3]\n",
    "y_new = y_test[:3]\n",
    "\n",
    "y_pred_proba = model.predict(X_new)"
   ]
  },
  {
   "cell_type": "code",
   "execution_count": 30,
   "id": "e6f4aea1-8ce0-4eb9-9769-fa400195df72",
   "metadata": {
    "execution": {
     "iopub.execute_input": "2024-01-14T15:42:56.946982Z",
     "iopub.status.busy": "2024-01-14T15:42:56.946375Z",
     "iopub.status.idle": "2024-01-14T15:42:56.958243Z",
     "shell.execute_reply": "2024-01-14T15:42:56.957622Z",
     "shell.execute_reply.started": "2024-01-14T15:42:56.946923Z"
    }
   },
   "outputs": [
    {
     "data": {
      "text/plain": [
       "array([[0.  , 0.  , 0.  , 0.  , 0.  , 0.04, 0.  , 0.07, 0.  , 0.89],\n",
       "       [0.  , 0.  , 0.99, 0.  , 0.  , 0.  , 0.  , 0.  , 0.  , 0.  ],\n",
       "       [0.  , 1.  , 0.  , 0.  , 0.  , 0.  , 0.  , 0.  , 0.  , 0.  ]],\n",
       "      dtype=float32)"
      ]
     },
     "execution_count": 30,
     "metadata": {},
     "output_type": "execute_result"
    }
   ],
   "source": [
    "y_pred_proba.round(2)"
   ]
  },
  {
   "cell_type": "code",
   "execution_count": 35,
   "id": "ebd929bf-da20-4485-9919-d905da2c70b1",
   "metadata": {
    "execution": {
     "iopub.execute_input": "2024-01-14T15:45:54.238726Z",
     "iopub.status.busy": "2024-01-14T15:45:54.238362Z",
     "iopub.status.idle": "2024-01-14T15:45:54.309285Z",
     "shell.execute_reply": "2024-01-14T15:45:54.308748Z",
     "shell.execute_reply.started": "2024-01-14T15:45:54.238699Z"
    }
   },
   "outputs": [
    {
     "name": "stdout",
     "output_type": "stream",
     "text": [
      "1/1 [==============================] - 0s 14ms/step\n"
     ]
    }
   ],
   "source": [
    "y_pred_classes = np.argmax(model.predict(X_new),axis=1)"
   ]
  },
  {
   "cell_type": "code",
   "execution_count": 36,
   "id": "a949ba41-c35e-4f3e-ba5a-65c41dec3edf",
   "metadata": {
    "execution": {
     "iopub.execute_input": "2024-01-14T15:46:01.316850Z",
     "iopub.status.busy": "2024-01-14T15:46:01.316613Z",
     "iopub.status.idle": "2024-01-14T15:46:01.320099Z",
     "shell.execute_reply": "2024-01-14T15:46:01.319570Z",
     "shell.execute_reply.started": "2024-01-14T15:46:01.316832Z"
    }
   },
   "outputs": [
    {
     "data": {
      "text/plain": [
       "array([9, 2, 1])"
      ]
     },
     "execution_count": 36,
     "metadata": {},
     "output_type": "execute_result"
    }
   ],
   "source": [
    "y_pred_classes"
   ]
  },
  {
   "cell_type": "code",
   "execution_count": 38,
   "id": "80f8b2c1-2c82-4f4d-9195-7e4da33978a1",
   "metadata": {
    "execution": {
     "iopub.execute_input": "2024-01-14T15:47:39.511507Z",
     "iopub.status.busy": "2024-01-14T15:47:39.510590Z",
     "iopub.status.idle": "2024-01-14T15:47:39.525697Z",
     "shell.execute_reply": "2024-01-14T15:47:39.523657Z",
     "shell.execute_reply.started": "2024-01-14T15:47:39.511414Z"
    }
   },
   "outputs": [
    {
     "data": {
      "text/plain": [
       "array(['Ankle boot', 'Pullover', 'Trouser'], dtype='<U11')"
      ]
     },
     "execution_count": 38,
     "metadata": {},
     "output_type": "execute_result"
    }
   ],
   "source": [
    "np.array(class_names)[y_pred_classes]"
   ]
  },
  {
   "cell_type": "code",
   "execution_count": 39,
   "id": "bf8951e2-7ce5-45cc-8799-dab57a2a1040",
   "metadata": {
    "execution": {
     "iopub.execute_input": "2024-01-14T15:47:55.450528Z",
     "iopub.status.busy": "2024-01-14T15:47:55.450195Z",
     "iopub.status.idle": "2024-01-14T15:47:55.455923Z",
     "shell.execute_reply": "2024-01-14T15:47:55.455414Z",
     "shell.execute_reply.started": "2024-01-14T15:47:55.450496Z"
    }
   },
   "outputs": [
    {
     "data": {
      "text/plain": [
       "array([9, 2, 1], dtype=uint8)"
      ]
     },
     "execution_count": 39,
     "metadata": {},
     "output_type": "execute_result"
    }
   ],
   "source": [
    "y_new"
   ]
  },
  {
   "cell_type": "code",
   "execution_count": null,
   "id": "cbd09e2e-ab2c-4d3d-863a-6a65d37a3d5b",
   "metadata": {},
   "outputs": [],
   "source": []
  }
 ],
 "metadata": {
  "kernelspec": {
   "display_name": "Python 3 (ipykernel)",
   "language": "python",
   "name": "python3"
  },
  "language_info": {
   "codemirror_mode": {
    "name": "ipython",
    "version": 3
   },
   "file_extension": ".py",
   "mimetype": "text/x-python",
   "name": "python",
   "nbconvert_exporter": "python",
   "pygments_lexer": "ipython3",
   "version": "3.11.6"
  }
 },
 "nbformat": 4,
 "nbformat_minor": 5
}
